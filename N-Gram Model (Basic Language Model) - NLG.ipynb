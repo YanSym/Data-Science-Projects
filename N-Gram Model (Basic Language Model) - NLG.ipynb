{
 "cells": [
  {
   "cell_type": "markdown",
   "metadata": {},
   "source": [
    "### N-Gram Model"
   ]
  },
  {
   "cell_type": "code",
   "execution_count": 1,
   "metadata": {},
   "outputs": [
    {
     "name": "stderr",
     "output_type": "stream",
     "text": [
      "[nltk_data] Downloading package reuters to\n",
      "[nltk_data]     C:\\Users\\yanvs\\AppData\\Roaming\\nltk_data...\n",
      "[nltk_data]   Package reuters is already up-to-date!\n"
     ]
    }
   ],
   "source": [
    "from nltk.corpus import reuters\n",
    "from nltk import bigrams, trigrams\n",
    "from collections import Counter, defaultdict\n",
    "import random\n",
    "import nltk\n",
    "\n",
    "nltk.download('reuters');"
   ]
  },
  {
   "cell_type": "code",
   "execution_count": 2,
   "metadata": {},
   "outputs": [
    {
     "name": "stdout",
     "output_type": "stream",
     "text": [
      "today the Turkish economy to encourage older farmers to be stored in 28 nursing homes in the 42 federal universities launched a new company to improve our position that the Dutch capital market instruments should be substantially reduced , and implemented fixed prices averaging 18 dlrs vs 72 , 000 tonnes for delivery between May 20 , 525 , 000 workforce starting with 350 this year and taking action on exchange rates if the company .\n",
      "********************\n",
      "I want a repetition of what it sees as Japan , or 17 cts vs 10 cts vs 48 . 50 ...... 5 . 12 mln dlrs annually , could well be correct \" that occurred in the Far East and Africa , Conable said the state buying agency EPAC should not be made in the pound has been viewed with concern by some municipal officials in neighbouring Sweden said it joined with Carrozzeria Bertone S . brokerage industry by Japanese semiconductor electronics products .\n",
      "********************\n"
     ]
    }
   ],
   "source": [
    "# Create a placeholder for model\n",
    "model = defaultdict(lambda: defaultdict(lambda: 0))\n",
    "\n",
    "# Count frequency of co-occurance  \n",
    "for sentence in reuters.sents():\n",
    "    for w1, w2, w3 in trigrams(sentence, pad_right=True, pad_left=True):\n",
    "        model[(w1, w2)][w3] += 1\n",
    "        \n",
    "for w1_w2 in model:\n",
    "    total_count = float(sum(model[w1_w2].values()))\n",
    "    for w3 in model[w1_w2]:\n",
    "        model[w1_w2][w3] /= total_count\n",
    "        \n",
    "\n",
    "# starting words\n",
    "def generate_text(text = [\"today\", \"the\"]):\n",
    "    \n",
    "    sentence_finished = False\n",
    "\n",
    "    while not sentence_finished:\n",
    "        # probabilidade\n",
    "        r = random.random()\n",
    "        accumulator = .0\n",
    "\n",
    "        for word in model[tuple(text[-2:])].keys():\n",
    "            accumulator += model[tuple(text[-2:])][word]\n",
    "            # select words that are above the probability threshold\n",
    "            if accumulator >= r:\n",
    "                text.append(word)\n",
    "                break\n",
    "\n",
    "        if text[-2:] == [None, None]:\n",
    "            sentence_finished = True\n",
    "            \n",
    "    return (' '.join([t for t in text if t]) + '\\n' + '*'*20)\n",
    "\n",
    "# exemple\n",
    "print (generate_text([\"today\", \"the\"]))\n",
    "print (generate_text([\"I\", \"want\"]))"
   ]
  }
 ],
 "metadata": {
  "kernelspec": {
   "display_name": "Python 3",
   "language": "python",
   "name": "python3"
  },
  "language_info": {
   "codemirror_mode": {
    "name": "ipython",
    "version": 3
   },
   "file_extension": ".py",
   "mimetype": "text/x-python",
   "name": "python",
   "nbconvert_exporter": "python",
   "pygments_lexer": "ipython3",
   "version": "3.8.3"
  }
 },
 "nbformat": 4,
 "nbformat_minor": 4
}
