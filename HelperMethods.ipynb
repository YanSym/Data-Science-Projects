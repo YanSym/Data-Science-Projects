{
 "cells": [
  {
   "cell_type": "code",
   "execution_count": 18,
   "metadata": {},
   "outputs": [
    {
     "name": "stdout",
     "output_type": "stream",
     "text": [
      "        col1 col2\n",
      "9  -1.717911    a\n",
      "8   1.093216    c\n",
      "7  -1.015129    a\n",
      "10  0.390434    b\n",
      "3  -0.312348    b\n",
      "1  -0.312348    b\n",
      "6  -0.312348    b\n",
      "11  1.795998    c\n",
      "2   0.390434    c\n",
      "       col1 col2\n",
      "5 -0.707107    a\n",
      "0 -0.707107    a\n",
      "4  1.414214    a\n"
     ]
    },
    {
     "name": "stderr",
     "output_type": "stream",
     "text": [
      "C:\\anaconda\\lib\\site-packages\\ipykernel_launcher.py:18: SettingWithCopyWarning: \n",
      "A value is trying to be set on a copy of a slice from a DataFrame.\n",
      "Try using .loc[row_indexer,col_indexer] = value instead\n",
      "\n",
      "See the caveats in the documentation: http://pandas.pydata.org/pandas-docs/stable/indexing.html#indexing-view-versus-copy\n",
      "C:\\anaconda\\lib\\site-packages\\ipykernel_launcher.py:19: SettingWithCopyWarning: \n",
      "A value is trying to be set on a copy of a slice from a DataFrame.\n",
      "Try using .loc[row_indexer,col_indexer] = value instead\n",
      "\n",
      "See the caveats in the documentation: http://pandas.pydata.org/pandas-docs/stable/indexing.html#indexing-view-versus-copy\n"
     ]
    }
   ],
   "source": [
    "import pandas as pd\n",
    "from sklearn.preprocessing import StandardScaler\n",
    "from sklearn.model_selection import train_test_split\n",
    "\n",
    "def one_hot_encode(df, list_columns_dummy):\n",
    "    for column in list_columns_dummy:\n",
    "        df_one_hot = pd.get_dummies(df[column], prefix=column)\n",
    "        df = df.drop([column], axis=1)\n",
    "        df = pd.concat([df, df_one_hot], axis=1)\n",
    "\n",
    "    return (df)\n",
    "\n",
    "\n",
    "\n",
    "def scale_data(df_train, df_test, list_columns_scale):\n",
    "    for column in list_columns_scale:\n",
    "        scaler = StandardScaler()\n",
    "        df_train[column] = scaler.fit_transform(df_train[[column]])\n",
    "        df_test[column] = scaler.fit_transform(df_test[[column]])\n",
    "\n",
    "    return (df_train, df_test)\n",
    "\n",
    "\n",
    "data_input = {'col1': [1, 2, 3, 2, 3, 1, 2, 1, 4, 0, 3, 5],\n",
    "\t\t\t\t'col2': ['a', 'b', 'c', 'b', 'a', 'a', 'b', 'a', 'c', 'a', 'b', 'c']}\n",
    "\n",
    "df_input = pd.DataFrame(data=data_input)\n",
    "list_columns_dummy = ['col2']\n",
    "\n",
    "df_train = one_hot_encode(df_input, list_columns_dummy)\n",
    "\n",
    "df_train, df_test = train_test_split(df_input, test_size=0.2, random_state=123)\n",
    "\n",
    "list_columns_scale = ['col1']\n",
    "df_train, df_test = scale_data(df_train, df_test, list_columns_scale)\n",
    "\n",
    "print (df_train)\n",
    "print (df_test)"
   ]
  },
  {
   "cell_type": "code",
   "execution_count": null,
   "metadata": {
    "collapsed": true
   },
   "outputs": [],
   "source": []
  }
 ],
 "metadata": {
  "kernelspec": {
   "display_name": "Python 3",
   "language": "python",
   "name": "python3"
  },
  "language_info": {
   "codemirror_mode": {
    "name": "ipython",
    "version": 3
   },
   "file_extension": ".py",
   "mimetype": "text/x-python",
   "name": "python",
   "nbconvert_exporter": "python",
   "pygments_lexer": "ipython3",
   "version": "3.6.6"
  }
 },
 "nbformat": 4,
 "nbformat_minor": 2
}
