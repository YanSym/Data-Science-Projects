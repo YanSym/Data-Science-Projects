{
 "cells": [
  {
   "cell_type": "markdown",
   "metadata": {},
   "source": [
    "### Ferramenta para segmentação de score"
   ]
  },
  {
   "cell_type": "markdown",
   "metadata": {},
   "source": [
    "#### Imports"
   ]
  },
  {
   "cell_type": "code",
   "execution_count": 1,
   "metadata": {},
   "outputs": [],
   "source": [
    "import pandas as pd\n",
    "import numpy as np\n",
    "import seaborn as sns\n",
    "import matplotlib.pyplot as plt\n",
    "import scipy.stats as stats\n",
    "from pylab import rcParams\n",
    "import pickle\n",
    "import sys\n",
    "import os\n",
    "\n",
    "from ipywidgets import interactive, fixed, Button, ButtonStyle, FloatSlider, IntSlider\n",
    "from IPython.display import display, clear_output, HTML\n",
    "\n",
    "from sklearn.tree import DecisionTreeClassifier\n",
    "from sklearn.metrics import roc_auc_score\n",
    "\n",
    "rcParams['figure.figsize'] = 14,14\n",
    "rcParams['legend.fontsize'] = 10\n",
    "rcParams['xtick.labelsize'] = 12\n",
    "rcParams['ytick.labelsize'] = 12\n",
    "rcParams['font.size'] = 12\n",
    "rcParams['xtick.alignment'] = 'center'\n",
    "pd.set_option('max_row', 500)\n",
    "\n",
    "%matplotlib inline"
   ]
  },
  {
   "cell_type": "markdown",
   "metadata": {},
   "source": [
    "#### Funções auxiliares"
   ]
  },
  {
   "cell_type": "code",
   "execution_count": 2,
   "metadata": {},
   "outputs": [],
   "source": [
    "def calcula_roc(true, pred):\n",
    "    roc = roc_auc_score(y_true=true, y_score=pred)\n",
    "    return roc\n",
    "\n",
    "def calcula_gini(true, pred):\n",
    "    roc = roc_auc_score(y_true=true, y_score=pred)\n",
    "    gini = (2*roc)-1\n",
    "    return gini\n",
    "\n",
    "def dist_gamma(x):\n",
    "    dist=stats.gamma(0.8)\n",
    "    return dist.cdf(x)\n",
    "\n",
    "def check_variaveis(df, campo_cpf, campo_ref, campo_score, campo_target):\n",
    "    erro = False\n",
    "    if campo_ref not in df.columns:\n",
    "        print (f'Erro! Campo {campo_ref} não encontrado!')\n",
    "        erro = True\n",
    "        \n",
    "    if campo_ref not in df.columns:\n",
    "        print (f'Erro! Campo {campo_ref} não encontrado!')\n",
    "        erro = True\n",
    "        \n",
    "    if campo_ref not in df.columns:\n",
    "        print (f'Erro! Campo {campo_ref} não encontrado!')\n",
    "        erro = True\n",
    "        \n",
    "    if campo_ref not in df.columns:\n",
    "        print (f'Erro! Campo {campo_ref} não encontrado!')\n",
    "        erro = True\n",
    "        \n",
    "    if (df[[campo_cpf, campo_ref, campo_score, campo_target]].isnull().sum().any() != 0):\n",
    "        print ('Erro! Campos missing encontrados.')\n",
    "        erro = True\n",
    "    \n",
    "    if not erro:\n",
    "        print ('Tudo ok!')\n",
    "\n",
    "def quebras_iniciais_from_tree(df, df_desenv, campo_target, campo_score, min_samples_leaf=0.02, max_leaf_nodes=40):\n",
    "    roc = calcula_roc(df[[campo_target]], df[[campo_score]])\n",
    "    gini = calcula_gini(df[[campo_target]], df[[campo_score]])\n",
    "    print (f'Roc: {roc}')\n",
    "    print (f'Gini: {gini}')\n",
    "    \n",
    "    clf_dt = DecisionTreeClassifier(max_depth=None,\n",
    "                                criterion='gini',\n",
    "                                random_state=123,\n",
    "                                min_samples_leaf=min_samples_leaf,\n",
    "                                max_leaf_nodes=max_leaf_nodes)\n",
    "    \n",
    "    clf_dt.fit(df[[campo_score]], df[[campo_target]])\n",
    "    df['folha'] = clf_dt.apply(df[[campo_score]])\n",
    "    \n",
    "    mins = df.groupby('folha')[campo_score].min().values\n",
    "    maxs = df.groupby('folha')[campo_score].max().values\n",
    "    \n",
    "    print ('Folhas:', df['folha'].nunique())\n",
    "    \n",
    "    # transforma score em folhas\n",
    "    final_vet = [0]\n",
    "    vet = sorted(np.concatenate([mins, maxs]))\n",
    "    for i in range(1, len(vet)-1, 2):\n",
    "        final_vet.append(np.mean(vet[i:i+1]))\n",
    "    final_vet.append(1)\n",
    "    final_vet = sorted(final_vet)\n",
    "    print (f'GHs: {len(final_vet)-1}')\n",
    "    return final_vet\n",
    "    \n",
    "\n",
    "def grupos_from_quebras(qtds, quebras, score):\n",
    "    gh=1\n",
    "    position=1\n",
    "    bins=[-np.inf]\n",
    "    for i in range(len(qtds)):\n",
    "        while (qtds[i] > 0):\n",
    "            position+=1\n",
    "            qtds[i]-=1\n",
    "        if (position > (len(quebras)-2)):\n",
    "            break\n",
    "        bins.append(quebras[position])\n",
    "    bins.append(np.inf)\n",
    "    bins = sorted(list(set(bins)))\n",
    "    labels = ['GH'+str(i+1).zfill(2) for i in range(len(bins)-1)]\n",
    "    return bins, labels\n",
    "    \n",
    "def plot_estabilidade(df):\n",
    "    plt.close()\n",
    "    plt.figure(figsize=(8,8))\n",
    "    for gh in sorted(list(df['GH'].unique())):\n",
    "        dfg = df[df['GH'] == gh]\n",
    "        dp = dfg.groupby('Safra')[['Resposta']].mean()\n",
    "        dp['Bad12'] = dp['Resposta'].values.tolist()\n",
    "        dp.drop('Resposta', axis=1, inplace=True)\n",
    "        plt.plot(range(0, len(dp.index)), dp.values*100, label=gh)\n",
    "    plt.xticks(range(0, len(dp.index)), [str(int(a)) for a in dp.index], rotation=60)\n",
    "    plt.grid(False)\n",
    "    plt.legend(loc='upper right')\n",
    "    plt.show()\n",
    "    \n",
    "def show_infos(df_sample, df_sample_atual, bins, labels):\n",
    "    dfr = df_sample[[campo_score, campo_target, campo_ref]].copy()\n",
    "    \n",
    "    dfr.columns = ['Score', 'Resposta', 'Safra']\n",
    "    dfr['Volume'] = 1\n",
    "    dfr['GH'] = pd.cut(dfr['Score'], bins, labels=labels)\n",
    "    \n",
    "    grp = dfr.groupby('GH').agg({'Resposta':'mean', 'Volume':lambda x: sum(x)/dfr.shape[0]})\n",
    "    grp['Bad6'] = grp['Resposta']\n",
    "    grp['Bad12'] = grp['Bad6'].values.tolist()\n",
    "    grp = grp[['Bad6', 'Bad12', 'Volume']]\n",
    "    \n",
    "    plot_estabilidade(dfr)\n",
    "    \n",
    "    grp_show = (grp*100).round(2).astype(str) + '%'\n",
    "    display(grp_show)\n",
    "    \n",
    "    \n",
    "def sliders_init(NUM_MAX_GHS):\n",
    "    path_model = 'saved_sliders.pkl'\n",
    "    if os.path.exists(path_model):\n",
    "        values = pickle.load(open(path_model, 'rb')) + [0]*NUM_MAX_GHS\n",
    "        dic = {'GH'+str(i+1).zfill(2):IntSlider(min=0, max=40, step=1, value=j) for i,j in zip(range(NUM_MAX_GHS), values)}\n",
    "    else:\n",
    "        dic = {'GH'+str(i+1).zfill(2):IntSlider(min=0, max=40, step=1, value=0) for i in range(NUM_MAX_GHS)}\n",
    "    return dic\n",
    "\n",
    "def gera_GHs(df_sample, df_sample_atual, quebras, bins_in, labels_in, qtds_in, **dic):\n",
    "    bins, labels = grupos_from_quebras(list(dic.values()), quebras, df_sample[campo_score])\n",
    "    \n",
    "    show_infos(df_sample, df_sample_atual, bins, labels)\n",
    "\n",
    "    bins_in[0] = bins\n",
    "    labels_in[0] = labels\n",
    "    qtds_in[0] = list(dic.values())\n",
    "    pickle.dump(list(dic.values()), open('saved_sliders.pkl', 'wb'))\n",
    "    \n",
    "def ajusteFino(df_sample, df_sample_atual, bins_in, labels_in, **dic):\n",
    "    bins = [-np.inf] + list(dic.values()) + [np.inf]\n",
    "    labels = labels_in[0]\n",
    "    \n",
    "    show_infos(df_sample, df_sample_atual, bins, labels)\n",
    "    \n",
    "    bins_in[0] = bins\n",
    "    labels_in[0] = labels"
   ]
  },
  {
   "cell_type": "markdown",
   "metadata": {},
   "source": [
    "#### Leitura dos dados"
   ]
  },
  {
   "cell_type": "code",
   "execution_count": 3,
   "metadata": {},
   "outputs": [
    {
     "name": "stdout",
     "output_type": "stream",
     "text": [
      "Shape: (24, 4)\n"
     ]
    },
    {
     "data": {
      "text/html": [
       "<div>\n",
       "<style scoped>\n",
       "    .dataframe tbody tr th:only-of-type {\n",
       "        vertical-align: middle;\n",
       "    }\n",
       "\n",
       "    .dataframe tbody tr th {\n",
       "        vertical-align: top;\n",
       "    }\n",
       "\n",
       "    .dataframe thead th {\n",
       "        text-align: right;\n",
       "    }\n",
       "</style>\n",
       "<table border=\"1\" class=\"dataframe\">\n",
       "  <thead>\n",
       "    <tr style=\"text-align: right;\">\n",
       "      <th></th>\n",
       "      <th>cpf</th>\n",
       "      <th>safra</th>\n",
       "      <th>score</th>\n",
       "      <th>target</th>\n",
       "    </tr>\n",
       "  </thead>\n",
       "  <tbody>\n",
       "    <tr>\n",
       "      <th>0</th>\n",
       "      <td>1</td>\n",
       "      <td>202101</td>\n",
       "      <td>0.90</td>\n",
       "      <td>1</td>\n",
       "    </tr>\n",
       "    <tr>\n",
       "      <th>1</th>\n",
       "      <td>3</td>\n",
       "      <td>202101</td>\n",
       "      <td>0.91</td>\n",
       "      <td>1</td>\n",
       "    </tr>\n",
       "    <tr>\n",
       "      <th>2</th>\n",
       "      <td>4</td>\n",
       "      <td>202101</td>\n",
       "      <td>0.85</td>\n",
       "      <td>0</td>\n",
       "    </tr>\n",
       "    <tr>\n",
       "      <th>3</th>\n",
       "      <td>9</td>\n",
       "      <td>202101</td>\n",
       "      <td>0.40</td>\n",
       "      <td>0</td>\n",
       "    </tr>\n",
       "    <tr>\n",
       "      <th>4</th>\n",
       "      <td>4</td>\n",
       "      <td>202101</td>\n",
       "      <td>0.20</td>\n",
       "      <td>0</td>\n",
       "    </tr>\n",
       "  </tbody>\n",
       "</table>\n",
       "</div>"
      ],
      "text/plain": [
       "   cpf   safra  score  target\n",
       "0    1  202101   0.90       1\n",
       "1    3  202101   0.91       1\n",
       "2    4  202101   0.85       0\n",
       "3    9  202101   0.40       0\n",
       "4    4  202101   0.20       0"
      ]
     },
     "execution_count": 3,
     "metadata": {},
     "output_type": "execute_result"
    }
   ],
   "source": [
    "df = pd.read_excel('dados.xlsx')\n",
    "print(f'Shape: {df.shape}')\n",
    "df.head()"
   ]
  },
  {
   "cell_type": "markdown",
   "metadata": {},
   "source": [
    "#### Parâmetros"
   ]
  },
  {
   "cell_type": "code",
   "execution_count": 4,
   "metadata": {},
   "outputs": [],
   "source": [
    "NUM_MAX_GHS = 10\n",
    "\n",
    "campo_cpf = 'cpf'\n",
    "campo_ref = 'safra'\n",
    "campo_score = 'score'\n",
    "campo_target = 'target'"
   ]
  },
  {
   "cell_type": "markdown",
   "metadata": {},
   "source": [
    "#### Check de variáveis"
   ]
  },
  {
   "cell_type": "code",
   "execution_count": 5,
   "metadata": {},
   "outputs": [
    {
     "name": "stdout",
     "output_type": "stream",
     "text": [
      "Tudo ok!\n"
     ]
    }
   ],
   "source": [
    "check_variaveis(df, campo_cpf, campo_ref, campo_score, campo_target)"
   ]
  },
  {
   "cell_type": "markdown",
   "metadata": {},
   "source": [
    "#### Check de volumetria"
   ]
  },
  {
   "cell_type": "code",
   "execution_count": 6,
   "metadata": {},
   "outputs": [
    {
     "data": {
      "text/plain": [
       "202104    6\n",
       "202103    6\n",
       "202102    6\n",
       "202101    6\n",
       "Name: safra, dtype: int64"
      ]
     },
     "execution_count": 6,
     "metadata": {},
     "output_type": "execute_result"
    }
   ],
   "source": [
    "df[campo_ref].value_counts(dropna=False)"
   ]
  },
  {
   "cell_type": "code",
   "execution_count": 7,
   "metadata": {},
   "outputs": [
    {
     "data": {
      "text/plain": [
       "202104    0.25\n",
       "202103    0.25\n",
       "202102    0.25\n",
       "202101    0.25\n",
       "Name: safra, dtype: float64"
      ]
     },
     "execution_count": 7,
     "metadata": {},
     "output_type": "execute_result"
    }
   ],
   "source": [
    "df[campo_ref].value_counts(dropna=False, normalize=True)"
   ]
  },
  {
   "cell_type": "markdown",
   "metadata": {},
   "source": [
    "#### Calcula Gini e aplica quebras"
   ]
  },
  {
   "cell_type": "code",
   "execution_count": 8,
   "metadata": {},
   "outputs": [
    {
     "name": "stdout",
     "output_type": "stream",
     "text": [
      "Roc: 0.9166666666666665\n",
      "Gini: 0.833333333333333\n",
      "Folhas: 4\n",
      "GHs: 4\n"
     ]
    },
    {
     "data": {
      "text/html": [
       "<style>table {position: absolute; top:12%; left:60%;}\"</style>"
      ],
      "text/plain": [
       "<IPython.core.display.HTML object>"
      ]
     },
     "metadata": {},
     "output_type": "display_data"
    },
    {
     "data": {
      "text/html": [
       "<style>widget-hslider{height:14px;}\"</style>"
      ],
      "text/plain": [
       "<IPython.core.display.HTML object>"
      ]
     },
     "metadata": {},
     "output_type": "display_data"
    }
   ],
   "source": [
    "df_sample = df[[campo_score, campo_target, campo_ref]].copy()\n",
    "df_sample_atual = df[[campo_score]].copy()\n",
    "\n",
    "# define grupos iniciais\n",
    "final_vet = quebras_iniciais_from_tree(df_sample, df_sample_atual, campo_target, campo_score, min_samples_leaf=0.02, max_leaf_nodes=40)\n",
    "\n",
    "display(HTML(\"\"\"<style>table {position: absolute; top:12%; left:60%;}\"</style>\"\"\"))\n",
    "display(HTML(\"\"\"<style>widget-hslider{height:14px;}\"</style>\"\"\"))"
   ]
  },
  {
   "cell_type": "markdown",
   "metadata": {},
   "source": [
    "#### Gera Grupos"
   ]
  },
  {
   "cell_type": "code",
   "execution_count": 9,
   "metadata": {},
   "outputs": [
    {
     "data": {
      "application/vnd.jupyter.widget-view+json": {
       "model_id": "ff513c1e96e94b329e2fab79e9139f45",
       "version_major": 2,
       "version_minor": 0
      },
      "text/plain": [
       "interactive(children=(IntSlider(value=1, description='GH01', max=40), IntSlider(value=0, description='GH02', m…"
      ]
     },
     "metadata": {},
     "output_type": "display_data"
    }
   ],
   "source": [
    "dic = sliders_init(NUM_MAX_GHS)\n",
    "\n",
    "bins, labels, qtds= [0], [0], [0]\n",
    "\n",
    "# sliders\n",
    "interactive(gera_GHs,\n",
    "            df_sample=fixed(df_sample),\n",
    "            df_sample_atual=fixed(df_sample_atual),\n",
    "            quebras=fixed(final_vet),\n",
    "            bins_in=fixed(bins),\n",
    "            labels_in=fixed(labels),\n",
    "            qtds_in=fixed(qtds),\n",
    "            **dic)"
   ]
  },
  {
   "cell_type": "markdown",
   "metadata": {},
   "source": [
    "#### Ajuste Fino"
   ]
  },
  {
   "cell_type": "code",
   "execution_count": 15,
   "metadata": {},
   "outputs": [
    {
     "data": {
      "application/vnd.jupyter.widget-view+json": {
       "model_id": "42a9bc81c5014bb8bdf9a2842ad53e27",
       "version_major": 2,
       "version_minor": 0
      },
      "text/plain": [
       "interactive(children=(FloatSlider(value=0.0, description='GH01', max=1.0, step=0.030000000000000006), Output()…"
      ]
     },
     "metadata": {},
     "output_type": "display_data"
    }
   ],
   "source": [
    "quebras = {}\n",
    "for i in range(1, len(bins[0])-1, 1):\n",
    "    nmax = min(bins[0][i]*1.5, bins[0][i+1])\n",
    "    nmin = max(0, bins[0][i-1])\n",
    "    quebras['GH'+str(i).zfill(2)] = FloatSlider(values=bins[0][1], min=0, max=1, step=((nmax-nmin)/20))\n",
    "    \n",
    "interactive(ajusteFino,\n",
    "            df_sample=fixed(df_sample),\n",
    "            df_sample_atual=fixed(df_sample_atual),\n",
    "            bins_in=fixed(bins),\n",
    "            labels_in=fixed(labels),\n",
    "            qtds_in=fixed(qtds),\n",
    "            **quebras)"
   ]
  },
  {
   "cell_type": "code",
   "execution_count": 11,
   "metadata": {},
   "outputs": [
    {
     "name": "stderr",
     "output_type": "stream",
     "text": [
      "C:\\Users\\yanvs\\anaconda3\\lib\\site-packages\\pandas\\core\\algorithms.py:1042: RuntimeWarning: invalid value encountered in double_scalars\n",
      "  if idx % 1 == 0:\n"
     ]
    },
    {
     "ename": "OverflowError",
     "evalue": "cannot convert float infinity to integer",
     "output_type": "error",
     "traceback": [
      "\u001b[1;31m---------------------------------------------------------------------------\u001b[0m",
      "\u001b[1;31mOverflowError\u001b[0m                             Traceback (most recent call last)",
      "\u001b[1;32m<ipython-input-11-b6c758242af3>\u001b[0m in \u001b[0;36m<module>\u001b[1;34m\u001b[0m\n\u001b[0;32m      1\u001b[0m \u001b[0mdf_full\u001b[0m \u001b[1;33m=\u001b[0m \u001b[0mdf\u001b[0m\u001b[1;33m.\u001b[0m\u001b[0mcopy\u001b[0m\u001b[1;33m(\u001b[0m\u001b[1;33m)\u001b[0m\u001b[1;33m\u001b[0m\u001b[1;33m\u001b[0m\u001b[0m\n\u001b[1;32m----> 2\u001b[1;33m \u001b[0mdf_full\u001b[0m\u001b[1;33m[\u001b[0m\u001b[1;34m'GH'\u001b[0m\u001b[1;33m]\u001b[0m \u001b[1;33m=\u001b[0m \u001b[0mpd\u001b[0m\u001b[1;33m.\u001b[0m\u001b[0mqcut\u001b[0m\u001b[1;33m(\u001b[0m\u001b[0mdf_full\u001b[0m\u001b[1;33m[\u001b[0m\u001b[0mcampo_score\u001b[0m\u001b[1;33m]\u001b[0m\u001b[1;33m,\u001b[0m \u001b[0mbins\u001b[0m\u001b[1;33m[\u001b[0m\u001b[1;36m0\u001b[0m\u001b[1;33m]\u001b[0m\u001b[1;33m,\u001b[0m \u001b[0mlabels\u001b[0m\u001b[1;33m=\u001b[0m\u001b[0mlabels\u001b[0m\u001b[1;33m[\u001b[0m\u001b[1;36m0\u001b[0m\u001b[1;33m]\u001b[0m\u001b[1;33m)\u001b[0m\u001b[1;33m\u001b[0m\u001b[1;33m\u001b[0m\u001b[0m\n\u001b[0m",
      "\u001b[1;32m~\\anaconda3\\lib\\site-packages\\pandas\\core\\reshape\\tile.py\u001b[0m in \u001b[0;36mqcut\u001b[1;34m(x, q, labels, retbins, precision, duplicates)\u001b[0m\n\u001b[0;32m    338\u001b[0m     \u001b[1;32melse\u001b[0m\u001b[1;33m:\u001b[0m\u001b[1;33m\u001b[0m\u001b[1;33m\u001b[0m\u001b[0m\n\u001b[0;32m    339\u001b[0m         \u001b[0mquantiles\u001b[0m \u001b[1;33m=\u001b[0m \u001b[0mq\u001b[0m\u001b[1;33m\u001b[0m\u001b[1;33m\u001b[0m\u001b[0m\n\u001b[1;32m--> 340\u001b[1;33m     \u001b[0mbins\u001b[0m \u001b[1;33m=\u001b[0m \u001b[0malgos\u001b[0m\u001b[1;33m.\u001b[0m\u001b[0mquantile\u001b[0m\u001b[1;33m(\u001b[0m\u001b[0mx\u001b[0m\u001b[1;33m,\u001b[0m \u001b[0mquantiles\u001b[0m\u001b[1;33m)\u001b[0m\u001b[1;33m\u001b[0m\u001b[1;33m\u001b[0m\u001b[0m\n\u001b[0m\u001b[0;32m    341\u001b[0m     fac, bins = _bins_to_cuts(\n\u001b[0;32m    342\u001b[0m         \u001b[0mx\u001b[0m\u001b[1;33m,\u001b[0m\u001b[1;33m\u001b[0m\u001b[1;33m\u001b[0m\u001b[0m\n",
      "\u001b[1;32m~\\anaconda3\\lib\\site-packages\\pandas\\core\\algorithms.py\u001b[0m in \u001b[0;36mquantile\u001b[1;34m(x, q, interpolation_method)\u001b[0m\n\u001b[0;32m   1061\u001b[0m     \u001b[1;32melse\u001b[0m\u001b[1;33m:\u001b[0m\u001b[1;33m\u001b[0m\u001b[1;33m\u001b[0m\u001b[0m\n\u001b[0;32m   1062\u001b[0m         \u001b[0mq\u001b[0m \u001b[1;33m=\u001b[0m \u001b[0mnp\u001b[0m\u001b[1;33m.\u001b[0m\u001b[0masarray\u001b[0m\u001b[1;33m(\u001b[0m\u001b[0mq\u001b[0m\u001b[1;33m,\u001b[0m \u001b[0mnp\u001b[0m\u001b[1;33m.\u001b[0m\u001b[0mfloat64\u001b[0m\u001b[1;33m)\u001b[0m\u001b[1;33m\u001b[0m\u001b[1;33m\u001b[0m\u001b[0m\n\u001b[1;32m-> 1063\u001b[1;33m         \u001b[0mresult\u001b[0m \u001b[1;33m=\u001b[0m \u001b[1;33m[\u001b[0m\u001b[0m_get_score\u001b[0m\u001b[1;33m(\u001b[0m\u001b[0mx\u001b[0m\u001b[1;33m)\u001b[0m \u001b[1;32mfor\u001b[0m \u001b[0mx\u001b[0m \u001b[1;32min\u001b[0m \u001b[0mq\u001b[0m\u001b[1;33m]\u001b[0m\u001b[1;33m\u001b[0m\u001b[1;33m\u001b[0m\u001b[0m\n\u001b[0m\u001b[0;32m   1064\u001b[0m         \u001b[0mresult\u001b[0m \u001b[1;33m=\u001b[0m \u001b[0mnp\u001b[0m\u001b[1;33m.\u001b[0m\u001b[0marray\u001b[0m\u001b[1;33m(\u001b[0m\u001b[0mresult\u001b[0m\u001b[1;33m,\u001b[0m \u001b[0mdtype\u001b[0m\u001b[1;33m=\u001b[0m\u001b[0mnp\u001b[0m\u001b[1;33m.\u001b[0m\u001b[0mfloat64\u001b[0m\u001b[1;33m)\u001b[0m\u001b[1;33m\u001b[0m\u001b[1;33m\u001b[0m\u001b[0m\n\u001b[0;32m   1065\u001b[0m         \u001b[1;32mreturn\u001b[0m \u001b[0mresult\u001b[0m\u001b[1;33m\u001b[0m\u001b[1;33m\u001b[0m\u001b[0m\n",
      "\u001b[1;32m~\\anaconda3\\lib\\site-packages\\pandas\\core\\algorithms.py\u001b[0m in \u001b[0;36m<listcomp>\u001b[1;34m(.0)\u001b[0m\n\u001b[0;32m   1061\u001b[0m     \u001b[1;32melse\u001b[0m\u001b[1;33m:\u001b[0m\u001b[1;33m\u001b[0m\u001b[1;33m\u001b[0m\u001b[0m\n\u001b[0;32m   1062\u001b[0m         \u001b[0mq\u001b[0m \u001b[1;33m=\u001b[0m \u001b[0mnp\u001b[0m\u001b[1;33m.\u001b[0m\u001b[0masarray\u001b[0m\u001b[1;33m(\u001b[0m\u001b[0mq\u001b[0m\u001b[1;33m,\u001b[0m \u001b[0mnp\u001b[0m\u001b[1;33m.\u001b[0m\u001b[0mfloat64\u001b[0m\u001b[1;33m)\u001b[0m\u001b[1;33m\u001b[0m\u001b[1;33m\u001b[0m\u001b[0m\n\u001b[1;32m-> 1063\u001b[1;33m         \u001b[0mresult\u001b[0m \u001b[1;33m=\u001b[0m \u001b[1;33m[\u001b[0m\u001b[0m_get_score\u001b[0m\u001b[1;33m(\u001b[0m\u001b[0mx\u001b[0m\u001b[1;33m)\u001b[0m \u001b[1;32mfor\u001b[0m \u001b[0mx\u001b[0m \u001b[1;32min\u001b[0m \u001b[0mq\u001b[0m\u001b[1;33m]\u001b[0m\u001b[1;33m\u001b[0m\u001b[1;33m\u001b[0m\u001b[0m\n\u001b[0m\u001b[0;32m   1064\u001b[0m         \u001b[0mresult\u001b[0m \u001b[1;33m=\u001b[0m \u001b[0mnp\u001b[0m\u001b[1;33m.\u001b[0m\u001b[0marray\u001b[0m\u001b[1;33m(\u001b[0m\u001b[0mresult\u001b[0m\u001b[1;33m,\u001b[0m \u001b[0mdtype\u001b[0m\u001b[1;33m=\u001b[0m\u001b[0mnp\u001b[0m\u001b[1;33m.\u001b[0m\u001b[0mfloat64\u001b[0m\u001b[1;33m)\u001b[0m\u001b[1;33m\u001b[0m\u001b[1;33m\u001b[0m\u001b[0m\n\u001b[0;32m   1065\u001b[0m         \u001b[1;32mreturn\u001b[0m \u001b[0mresult\u001b[0m\u001b[1;33m\u001b[0m\u001b[1;33m\u001b[0m\u001b[0m\n",
      "\u001b[1;32m~\\anaconda3\\lib\\site-packages\\pandas\\core\\algorithms.py\u001b[0m in \u001b[0;36m_get_score\u001b[1;34m(at)\u001b[0m\n\u001b[0;32m   1044\u001b[0m         \u001b[1;32melse\u001b[0m\u001b[1;33m:\u001b[0m\u001b[1;33m\u001b[0m\u001b[1;33m\u001b[0m\u001b[0m\n\u001b[0;32m   1045\u001b[0m             \u001b[1;32mif\u001b[0m \u001b[0minterpolation_method\u001b[0m \u001b[1;33m==\u001b[0m \u001b[1;34m\"fraction\"\u001b[0m\u001b[1;33m:\u001b[0m\u001b[1;33m\u001b[0m\u001b[1;33m\u001b[0m\u001b[0m\n\u001b[1;32m-> 1046\u001b[1;33m                 \u001b[0mscore\u001b[0m \u001b[1;33m=\u001b[0m \u001b[0m_interpolate\u001b[0m\u001b[1;33m(\u001b[0m\u001b[0mvalues\u001b[0m\u001b[1;33m[\u001b[0m\u001b[0mint\u001b[0m\u001b[1;33m(\u001b[0m\u001b[0midx\u001b[0m\u001b[1;33m)\u001b[0m\u001b[1;33m]\u001b[0m\u001b[1;33m,\u001b[0m \u001b[0mvalues\u001b[0m\u001b[1;33m[\u001b[0m\u001b[0mint\u001b[0m\u001b[1;33m(\u001b[0m\u001b[0midx\u001b[0m\u001b[1;33m)\u001b[0m \u001b[1;33m+\u001b[0m \u001b[1;36m1\u001b[0m\u001b[1;33m]\u001b[0m\u001b[1;33m,\u001b[0m \u001b[0midx\u001b[0m \u001b[1;33m%\u001b[0m \u001b[1;36m1\u001b[0m\u001b[1;33m)\u001b[0m\u001b[1;33m\u001b[0m\u001b[1;33m\u001b[0m\u001b[0m\n\u001b[0m\u001b[0;32m   1047\u001b[0m             \u001b[1;32melif\u001b[0m \u001b[0minterpolation_method\u001b[0m \u001b[1;33m==\u001b[0m \u001b[1;34m\"lower\"\u001b[0m\u001b[1;33m:\u001b[0m\u001b[1;33m\u001b[0m\u001b[1;33m\u001b[0m\u001b[0m\n\u001b[0;32m   1048\u001b[0m                 \u001b[0mscore\u001b[0m \u001b[1;33m=\u001b[0m \u001b[0mvalues\u001b[0m\u001b[1;33m[\u001b[0m\u001b[0mnp\u001b[0m\u001b[1;33m.\u001b[0m\u001b[0mfloor\u001b[0m\u001b[1;33m(\u001b[0m\u001b[0midx\u001b[0m\u001b[1;33m)\u001b[0m\u001b[1;33m]\u001b[0m\u001b[1;33m\u001b[0m\u001b[1;33m\u001b[0m\u001b[0m\n",
      "\u001b[1;31mOverflowError\u001b[0m: cannot convert float infinity to integer"
     ]
    }
   ],
   "source": [
    "df_full = df.copy()\n",
    "df_full['GH'] = pd.qcut(df_full[campo_score], bins[0], labels=labels[0])"
   ]
  },
  {
   "cell_type": "code",
   "execution_count": null,
   "metadata": {},
   "outputs": [],
   "source": [
    "df_full.groupby('GH')[campo_target].mean()"
   ]
  },
  {
   "cell_type": "code",
   "execution_count": null,
   "metadata": {},
   "outputs": [],
   "source": [
    "df_full.to_csv('base_out.csv', index=False, sep=';')"
   ]
  },
  {
   "cell_type": "code",
   "execution_count": null,
   "metadata": {},
   "outputs": [],
   "source": [
    "# resultado\n",
    "bins[0]"
   ]
  },
  {
   "cell_type": "code",
   "execution_count": null,
   "metadata": {},
   "outputs": [],
   "source": []
  },
  {
   "cell_type": "code",
   "execution_count": null,
   "metadata": {},
   "outputs": [],
   "source": []
  }
 ],
 "metadata": {
  "kernelspec": {
   "display_name": "Python 3",
   "language": "python",
   "name": "python3"
  },
  "language_info": {
   "codemirror_mode": {
    "name": "ipython",
    "version": 3
   },
   "file_extension": ".py",
   "mimetype": "text/x-python",
   "name": "python",
   "nbconvert_exporter": "python",
   "pygments_lexer": "ipython3",
   "version": "3.8.3"
  }
 },
 "nbformat": 4,
 "nbformat_minor": 4
}
