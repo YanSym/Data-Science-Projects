{
 "cells": [
  {
   "cell_type": "markdown",
   "metadata": {},
   "source": [
    "## Peceptron implementation"
   ]
  },
  {
   "cell_type": "markdown",
   "metadata": {},
   "source": [
    "## Imports"
   ]
  },
  {
   "cell_type": "code",
   "execution_count": 13,
   "metadata": {
    "collapsed": true,
    "scrolled": true
   },
   "outputs": [],
   "source": [
    "import numpy as np\n",
    "import matplotlib.pyplot as plt\n",
    "from matplotlib.colors import ListedColormap\n",
    "import pandas as pd\n",
    "from sklearn import datasets\n",
    "from sklearn.datasets import fetch_20newsgroups\n",
    "from sklearn.feature_extraction.text import CountVectorizer\n",
    "from sklearn.feature_extraction.text import TfidfTransformer\n",
    "from sklearn.naive_bayes import MultinomialNB\n",
    "from sklearn.pipeline import Pipeline\n",
    "from sklearn.model_selection import train_test_split"
   ]
  },
  {
   "cell_type": "markdown",
   "metadata": {},
   "source": [
    "## Perceptron"
   ]
  },
  {
   "cell_type": "code",
   "execution_count": 14,
   "metadata": {},
   "outputs": [
    {
     "name": "stdout",
     "output_type": "stream",
     "text": [
      "X: [-0.26388113 -0.91336782  0.56179779  1.5634204  -1.00250034]\n",
      "w: [-1.36160419  1.79446512  0.82808591 -1.10048125  1.71293562  0.35915797]\n",
      "result: -1\n"
     ]
    }
   ],
   "source": [
    "def predict(X, w):\n",
    "    # Calculate net input\n",
    "    dot_product = (np.dot(X, w[1:]) + w[0])\n",
    "    \n",
    "    # Heaviside function\n",
    "    return np.where(dot_product >= 0.0, 1, -1)\n",
    "    \n",
    "X = np.asarray(np.random.normal(0,1, (5)))\n",
    "w = np.asarray(np.random.normal(0,1, (X.shape[0]+1)))\n",
    "\n",
    "print (\"X:\", X)\n",
    "print (\"w:\", w)\n",
    "result = predict(X, w)\n",
    "print (\"result:\", result)"
   ]
  },
  {
   "cell_type": "code",
   "execution_count": 15,
   "metadata": {
    "collapsed": true
   },
   "outputs": [],
   "source": [
    "# Perceptron classifier\n",
    "def treina_perceptron(X, y, n_epocas):  \n",
    "    w = np.zeros(X.shape[1]+1)\n",
    "    lr = 1\n",
    "    print (\"w pré-treino:\", w)\n",
    "    errors_list = []\n",
    "    \n",
    "    for epoc in range(n_epocas):\n",
    "        errors = 0\n",
    "        for xi, yi in zip(X, y):\n",
    "            update = lr * (yi - predict(xi, w))\n",
    "            w[1:] += (update * xi)\n",
    "            w[0] += update\n",
    "            errors += int(update != 0.0)\n",
    "        errors_list.append(errors)\n",
    "    return errors_list, w"
   ]
  },
  {
   "cell_type": "code",
   "execution_count": 16,
   "metadata": {},
   "outputs": [
    {
     "data": {
      "image/png": "[encoded data removed]",
      "text/plain": [
       "<Figure size 432x288 with 1 Axes>"
      ]
     },
     "metadata": {},
     "output_type": "display_data"
    }
   ],
   "source": [
    "# Iris data\n",
    "df = pd.read_csv('https://archive.ics.uci.edu/ml/machine-learning-databases/iris/iris.data', header=None)\n",
    "y = df.iloc[0:100, 4].values\n",
    "\n",
    "y = np.where(y == 'Iris-setosa', -1, 1)\n",
    "X = df.iloc[0:100, [0, 2]].values\n",
    "plt.scatter(X[:50, 0], X[:50, 1], color='red', marker='o', label='setosa')\n",
    "plt.scatter(X[50:100, 0], X[50:100, 1], color='blue', marker='x', label='versicolor')\n",
    "plt.xlabel('petal length')\n",
    "plt.ylabel('sepal length')\n",
    "plt.legend(loc='upper left')\n",
    "plt.show()"
   ]
  },
  {
   "cell_type": "code",
   "execution_count": 17,
   "metadata": {},
   "outputs": [
    {
     "name": "stdout",
     "output_type": "stream",
     "text": [
      "w pré-treino: [0. 0. 0.]\n",
      "w pós-treino: [-4.  -6.8 18.2]\n",
      "[2, 2, 3, 2, 1, 0, 0, 0, 0, 0, 0, 0, 0, 0, 0]\n"
     ]
    }
   ],
   "source": [
    "n_epocas = 15\n",
    "\n",
    "#print (\"X:\", X)\n",
    "error_list, w_final = treina_perceptron(X, y, n_epocas)\n",
    "print (\"w pós-treino:\", w_final)\n",
    "print (error_list)"
   ]
  },
  {
   "cell_type": "code",
   "execution_count": 18,
   "metadata": {},
   "outputs": [
    {
     "data": {
      "image/png": "[encoded data removed]",
      "text/plain": [
       "<Figure size 432x288 with 1 Axes>"
      ]
     },
     "metadata": {},
     "output_type": "display_data"
    }
   ],
   "source": [
    "plt.plot(range(1, len(error_list) + 1), error_list, marker='o')\n",
    "plt.xlabel('Epocas')\n",
    "plt.ylabel('Erros de classificacao')\n",
    "plt.show()"
   ]
  },
  {
   "cell_type": "code",
   "execution_count": 19,
   "metadata": {},
   "outputs": [
    {
     "data": {
      "image/png": "[encoded data removed]",
      "text/plain": [
       "<Figure size 432x288 with 1 Axes>"
      ]
     },
     "metadata": {},
     "output_type": "display_data"
    }
   ],
   "source": [
    "def plot_decision_regions(X, y, resolution=0.02):\n",
    "    # setup marker generator and color map\n",
    "    markers = ('s', 'x', 'o', '^', 'v')\n",
    "    colors = ('red', 'blue', 'lightgreen', 'gray', 'cyan')\n",
    "    cmap = ListedColormap(colors[:len(np.unique(y))])\n",
    "    # plot the decision surface\n",
    "    x1_min, x1_max = X[:, 0].min() - 1, X[:, 0].max() + 1\n",
    "    x2_min, x2_max = X[:, 1].min() - 1, X[:, 1].max() + 1\n",
    "    xx1, xx2 = np.meshgrid(np.arange(x1_min, x1_max, resolution), np.arange(x2_min, x2_max, resolution))\n",
    "    \n",
    "    Z = predict(np.array([xx1.ravel(), xx2.ravel()]).T, w_final)\n",
    "    Z = Z.reshape(xx1.shape)\n",
    "    plt.contourf(xx1, xx2, Z, alpha=0.4, cmap=cmap)\n",
    "    plt.xlim(xx1.min(), xx1.max())\n",
    "    plt.ylim(xx2.min(), xx2.max())\n",
    "    \n",
    "    # plot class samples\n",
    "    for idx, cl in enumerate(np.unique(y)):\n",
    "        plt.scatter(x=X[y == cl, 0], y=X[y == cl, 1],\n",
    "        alpha=0.8, c=cmap(idx),\n",
    "        marker=markers[idx], label=cl)\n",
    "    \n",
    "    \n",
    "plot_decision_regions(X, y)\n",
    "plt.xlabel('sepal length [cm]')\n",
    "plt.ylabel('petal length [cm]')\n",
    "plt.legend(loc='upper left')\n",
    "plt.show()"
   ]
  },
  {
   "cell_type": "code",
   "execution_count": 20,
   "metadata": {},
   "outputs": [
    {
     "data": {
      "image/png": "[encoded data removed]",
      "text/plain": [
       "<Figure size 432x288 with 1 Axes>"
      ]
     },
     "metadata": {},
     "output_type": "display_data"
    }
   ],
   "source": [
    "x = np.array([i for i in range (-100,100)])\n",
    "y = np.array(x**2)\n",
    "plt.plot(x, y, label='e)')\n",
    "plt.xlabel('x')\n",
    "plt.ylabel('f (x)')\n",
    "plt.legend(loc='upper left')\n",
    "plt.show()"
   ]
  },
  {
   "cell_type": "markdown",
   "metadata": {
    "scrolled": true
   },
   "source": [
    "# Data classification"
   ]
  },
  {
   "cell_type": "code",
   "execution_count": 45,
   "metadata": {},
   "outputs": [
    {
     "name": "stdout",
     "output_type": "stream",
     "text": [
      "From: aaronc@athena.mit.edu (Aaron Bryce Cardenas)\n",
      "Subject: Re: christians and aids\n",
      "Organization: Massachusetts Institute of Technology\n",
      "Lines: 94\n",
      "\n",
      "Paul Conditt writes:\n",
      ">Yes, it's important to realize that all actions have consequences,\n",
      ">and that \"rules\" were made for our own good.  But to suggest that a\n",
      ">*disease* is a *punishment* for certain types of sin I think is \n",
      ">taking things much too far.  \n",
      "[text deleted]\n",
      ">Yes, sin can have terrible consequences, but we need to be *real*\n",
      ">careful when saying that the consequences are a *punishment* for \n",
      ">sin.  \n",
      "\n",
      "I wish that you had followed this thread before jumping to conclusions.\n",
      "I haven't seen anybody write that AIDS was a *punishment* for certain\n",
      "types of sin (this includes Mark Ashley who you were responding to\n",
      "here).  I myself wrote that when you don't do things God's way that\n",
      "curses will come on you and others.  Although one definition of 'curse'\n",
      "is 'retribution', I only meant 'harm or misfortune' when I used the\n",
      "word.  Because God loves us he has told us the best way to live in his\n",
      "Bible.  God doesn't cause curses, he warns us of them.\n",
      "\n",
      "Kevin Davis wrote (a while ago):\n",
      ">Last week I was guilty of anger, jealousy, and whole mess of\n",
      ">other stuff, yet I am forgiven and not condemned to suffer with\n",
      ">AIDs.  To even suggest that AIDS is \"deserved\" is ludicrous.\n",
      "\n",
      "The Bible makes it clear that we all equally deserve death (which is\n",
      "much worse than AIDS) -- we have all hurt God with our sin.\n",
      "\n",
      "Paul Conditt reveals his feelings:\n",
      ">In case you couldn't tell, I get *extremely* angry and upset when\n",
      ">I see things like this.  Instead of rationalizing our own fears and\n",
      ">phobias, we need to be reaching out to people with AIDS and other\n",
      ">socially unacceptable diseases.  Whether they got the disease through\n",
      ">their own actions or not is irrelevant.  They still need Jesus...\n",
      "\n",
      "The first issue you bring up is your anger.  It is \"obvious\"ly wrong to\n",
      "be angry (Gal 5:19-20) for any reason, especially *extremely* angry\n",
      "which is on par with hatred.  Jesus has every reason to be angry at us\n",
      "for putting him on the cross with our sin, yet his prayer was \"forgive\n",
      "them Father, they know not what they do.\"  Knowing how forgiving Jesus\n",
      "has been with me calls me to be more forgiving with everyone out of\n",
      "love for Him.  Please don't give in to anger, it will only cause\n",
      "foolish quarrels and more bad feelings.\n",
      "\n",
      "It's okay if you read something that bothers you, but you need to\n",
      "address it in a loving way.  If right now, I felt like someone out\n",
      "there was saying that God punishes gay or sexually immoral people with\n",
      "AIDS because they deserve punishment that others don't then I would\n",
      "frame a response something like this:\n",
      "\n",
      "\"It makes me feel very sad for someone to believe that AIDS, which is\n",
      "simply a harmful disease not so unlike any other, is God's punishment\n",
      "for people who have committed certain sins.  God loves all of his\n",
      "children equally and rejoices when a single one comes back to him.  We\n",
      "will all be judged after we die, but until then we all have the\n",
      "opportunity to accept God's grace by earnestly seeking after him with\n",
      "all of our hearts, believing the gospel's testimony, repenting of our\n",
      "sin, confessing that Jesus is Lord at baptism, and living a new life\n",
      "for him.\n",
      " Let us not judge someone to be eternally condemned.  God's arm is not\n",
      "to short to save.  He will do anything he can to move a hardened heart\n",
      "or a misled person.  He works for the good of all men.  Even through\n",
      "the worst of situations, he has set the times and places for all men\n",
      "that they may perhaps reach out and find him.\"\n",
      "\n",
      "The second issue you bring up is seeing people rationalize their fears\n",
      "of people with AIDS.  Fortunately, what you describe as seeing is\n",
      "actually misperceiving.  You have been missing the points made in the\n",
      "earlier posts and reacting in anger to attitudes that haven't been\n",
      "expressed.  I know that its sometimes hard to discount your\n",
      "perceptions, but please try to be open-minded.\n",
      "\n",
      "You are quite correct in saying that we should reach out to all people\n",
      "because they all need Jesus.  This is what my brothers and sisters and\n",
      "I do on a daily basis.  If you would like to send me the name of the\n",
      "city and state you live in, I will find and get you in touch with some\n",
      "brothers who have AIDS or know people with AIDS and live nearby you so\n",
      "that you can see the loving attitudes for yourself.\n",
      "\n",
      "The third issue you bring up is the importance of how some individual\n",
      "contracted AIDS.  How someone gets AIDS is only relevant to their\n",
      "salvation in that there may be repetence involved.\n",
      "\n",
      "The important point to be made, however, is that not listening to God's\n",
      "commands (or advice or warnings), i.e. sinning, causes harm or\n",
      "misfortune to yourself and others.  For this reason, a good way to\n",
      "prevent the misfortune of AIDS, which can be transmitted in sinful ways,\n",
      "is to listen to God's advice and have sex only with your wife or\n",
      "husband.\n",
      "\n",
      "I hope that you are feeling better now, Paul.\n",
      "\n",
      "Love,\n",
      "\n",
      "Aaron Cardenas\n",
      "\n",
      "soc.religion.christian\n"
     ]
    }
   ],
   "source": [
    "data = 200\n",
    "\n",
    "print(\"\\n\".join(dataset.data[data].split(\"\\n\")[:100]))\n",
    "print(dataset.target_names[dataset.target[data]])"
   ]
  },
  {
   "cell_type": "code",
   "execution_count": 46,
   "metadata": {},
   "outputs": [
    {
     "data": {
      "text/plain": [
       "array([4, 4, 2, 2, 2, 4, 5, 0, 0, 3], dtype=int64)"
      ]
     },
     "execution_count": 46,
     "metadata": {},
     "output_type": "execute_result"
    }
   ],
   "source": [
    "dataset.target[:10]"
   ]
  },
  {
   "cell_type": "code",
   "execution_count": 47,
   "metadata": {},
   "outputs": [
    {
     "name": "stdout",
     "output_type": "stream",
     "text": [
      "soc.religion.christian\n",
      "soc.religion.christian\n",
      "rec.autos\n",
      "rec.autos\n",
      "rec.autos\n",
      "soc.religion.christian\n",
      "talk.politics.guns\n",
      "alt.atheism\n",
      "alt.atheism\n",
      "sci.med\n"
     ]
    }
   ],
   "source": [
    "for t in dataset.target[:10]:\n",
    "    print(dataset.target_names[t])"
   ]
  },
  {
   "cell_type": "code",
   "execution_count": 48,
   "metadata": {},
   "outputs": [
    {
     "data": {
      "text/plain": [
       "(3397, 48180)"
      ]
     },
     "execution_count": 48,
     "metadata": {},
     "output_type": "execute_result"
    }
   ],
   "source": [
    "count_vect = CountVectorizer()\n",
    "X_train_counts = count_vect.fit_transform(dataset.data)\n",
    "X_train_counts.shape"
   ]
  },
  {
   "cell_type": "code",
   "execution_count": 49,
   "metadata": {},
   "outputs": [
    {
     "data": {
      "text/plain": [
       "7334"
      ]
     },
     "execution_count": 49,
     "metadata": {},
     "output_type": "execute_result"
    }
   ],
   "source": [
    "count_vect.vocabulary_.get(u'algorithm')"
   ]
  },
  {
   "cell_type": "code",
   "execution_count": 50,
   "metadata": {
    "scrolled": true
   },
   "outputs": [
    {
     "data": {
      "text/plain": [
       "(3397, 48180)"
      ]
     },
     "execution_count": 50,
     "metadata": {},
     "output_type": "execute_result"
    }
   ],
   "source": [
    "tf_transformer = TfidfTransformer(use_idf=False).fit(X_train_counts)\n",
    "X_train_tf = tf_transformer.transform(X_train_counts)\n",
    "X_train_tf.shape"
   ]
  },
  {
   "cell_type": "markdown",
   "metadata": {},
   "source": [
    "Transforma uma dataset de booleanos (tem ou não tem uma determinada palavra) em um dataset com as frequências de cada palavra ponderada pelo tamanho do texto"
   ]
  },
  {
   "cell_type": "code",
   "execution_count": 51,
   "metadata": {},
   "outputs": [
    {
     "data": {
      "text/plain": [
       "(3397, 48180)"
      ]
     },
     "execution_count": 51,
     "metadata": {},
     "output_type": "execute_result"
    }
   ],
   "source": [
    "tfidf_transformer = TfidfTransformer()\n",
    "X_train_tfidf = tfidf_transformer.fit_transform(X_train_counts)\n",
    "X_train_tfidf.shape"
   ]
  },
  {
   "cell_type": "code",
   "execution_count": 52,
   "metadata": {
    "collapsed": true
   },
   "outputs": [],
   "source": [
    "clf = MultinomialNB().fit(X_train_tfidf, dataset.target)"
   ]
  },
  {
   "cell_type": "code",
   "execution_count": 53,
   "metadata": {},
   "outputs": [
    {
     "name": "stdout",
     "output_type": "stream",
     "text": [
      "'God is love' => soc.religion.christian\n",
      "'OpenGL on the GPU is fast' => rec.autos\n"
     ]
    }
   ],
   "source": [
    "docs_new = ['God is love', 'OpenGL on the GPU is fast']\n",
    "X_new_counts = count_vect.transform(docs_new)\n",
    "X_new_tfidf = tfidf_transformer.transform(X_new_counts)\n",
    "\n",
    "predicted = clf.predict(X_new_tfidf)\n",
    "\n",
    "for doc, category in zip(docs_new, predicted):\n",
    "    print('%r => %s' % (doc, dataset.target_names[category]))"
   ]
  },
  {
   "cell_type": "code",
   "execution_count": 54,
   "metadata": {
    "collapsed": true
   },
   "outputs": [],
   "source": [
    "text_clf = Pipeline([('vect', CountVectorizer()),\n",
    "                     ('tfidf', TfidfTransformer()),\n",
    "                     ('clf', MultinomialNB()),\n",
    "])"
   ]
  },
  {
   "cell_type": "markdown",
   "metadata": {},
   "source": [
    "## cross validation simples, com split de 0.3"
   ]
  },
  {
   "cell_type": "code",
   "execution_count": 55,
   "metadata": {},
   "outputs": [
    {
     "data": {
      "text/plain": [
       "Pipeline(memory=None,\n",
       "     steps=[('vect', CountVectorizer(analyzer='word', binary=False, decode_error='strict',\n",
       "        dtype=<class 'numpy.int64'>, encoding='utf-8', input='content',\n",
       "        lowercase=True, max_df=1.0, max_features=None, min_df=1,\n",
       "        ngram_range=(1, 1), preprocessor=None, stop_words=None,\n",
       "        strip...inear_tf=False, use_idf=True)), ('clf', MultinomialNB(alpha=1.0, class_prior=None, fit_prior=True))])"
      ]
     },
     "execution_count": 55,
     "metadata": {},
     "output_type": "execute_result"
    }
   ],
   "source": [
    "X_train, X_test, y_train, y_test = train_test_split(dataset.data, dataset.target, test_size=0.3, random_state=0)\n",
    "\n",
    "\n",
    "text_clf.fit(X_train, y_train)  "
   ]
  },
  {
   "cell_type": "markdown",
   "metadata": {},
   "source": [
    "## Acurácia para o conjunto de treinamento"
   ]
  },
  {
   "cell_type": "code",
   "execution_count": 56,
   "metadata": {},
   "outputs": [
    {
     "data": {
      "text/plain": [
       "0.96676482961716448"
      ]
     },
     "execution_count": 56,
     "metadata": {},
     "output_type": "execute_result"
    }
   ],
   "source": [
    "predicted = text_clf.predict(X_train)\n",
    "np.mean(predicted == y_train)"
   ]
  },
  {
   "cell_type": "markdown",
   "metadata": {},
   "source": [
    "## Acurácia para o conjunto de testes"
   ]
  },
  {
   "cell_type": "code",
   "execution_count": 57,
   "metadata": {},
   "outputs": [
    {
     "data": {
      "text/plain": [
       "0.89509803921568631"
      ]
     },
     "execution_count": 57,
     "metadata": {},
     "output_type": "execute_result"
    }
   ],
   "source": [
    "predicted = text_clf.predict(X_test)\n",
    "np.mean(predicted == y_test) "
   ]
  },
  {
   "cell_type": "markdown",
   "metadata": {},
   "source": [
    "## K-fold cross validation"
   ]
  },
  {
   "cell_type": "code",
   "execution_count": 58,
   "metadata": {},
   "outputs": [
    {
     "name": "stdout",
     "output_type": "stream",
     "text": [
      "Erros no conjunto de treinamento:\n",
      "[0.96827992151733155, 0.97187704381948992, 0.96599084368868537, 0.96795291039895359, 0.96860693263570963, 0.97482014388489213, 0.9699149771092217, 0.97155003270111184, 0.97285807717462391, 0.96926095487246566]\n",
      "Erro médio do conjunto de treinamento:\n",
      "0.97011118378\n",
      "Erros no conjunto de teste:\n",
      "[0.96673535472475713, 0.96599084368868537, 0.95807282089003309, 0.9605042016806723, 0.96570308672219496, 0.96886016451233847, 0.96845194424064562, 0.9619140625, 0.94306569343065694, 0.9277456647398844]\n",
      "Erro médio do conjunto de teste:\n",
      "0.958704383713\n"
     ]
    }
   ],
   "source": [
    "error_list_training = []\n",
    "error_list_testing = []\n",
    "\n",
    "num_folds = 10\n",
    "subset_size = int(len(dataset.data)/num_folds)\n",
    "for i in range(num_folds):\n",
    "    X_train = np.concatenate((dataset.data[:i*subset_size], dataset.data[(i+1)*subset_size:]), axis=0)\n",
    "    X_test = dataset.data[i*subset_size:]\n",
    "    \n",
    "    \n",
    "    y_train = np.concatenate((dataset.target[:i*subset_size], dataset.target[(i+1)*subset_size:]), axis=0)\n",
    "    y_test = dataset.target[i*subset_size:]\n",
    "    \n",
    "    # fit the classifier\n",
    "    text_clf.fit(X_train, y_train)\n",
    "    \n",
    "    # evaluate against training this_round\n",
    "    predicted = text_clf.predict(X_train)\n",
    "    error_training = np.mean(predicted == y_train)\n",
    "    error_list_training.append(error_training)\n",
    "    \n",
    "    # evaluate against testing this_round\n",
    "    predicted = text_clf.predict(X_test)\n",
    "    error_testing = np.mean(predicted == y_test)\n",
    "    error_list_testing.append(error_testing)\n",
    "\n",
    "    \n",
    "print (\"Erros no conjunto de treinamento:\")\n",
    "print (error_list_training)\n",
    "print (\"Erro médio do conjunto de treinamento:\")\n",
    "print (np.mean(error_list_training))\n",
    "\n",
    "print (\"Erros no conjunto de teste:\")\n",
    "print (error_list_testing)\n",
    "print (\"Erro médio do conjunto de teste:\")\n",
    "print (np.mean(error_list_testing))"
   ]
  }
 ],
 "metadata": {
  "kernelspec": {
   "display_name": "Python 3",
   "language": "python",
   "name": "python3"
  },
  "language_info": {
   "codemirror_mode": {
    "name": "ipython",
    "version": 3
   },
   "file_extension": ".py",
   "mimetype": "text/x-python",
   "name": "python",
   "nbconvert_exporter": "python",
   "pygments_lexer": "ipython3",
   "version": "3.6.6"
  }
 },
 "nbformat": 4,
 "nbformat_minor": 2
}
