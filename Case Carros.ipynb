{
 "cells": [
  {
   "cell_type": "markdown",
   "id": "92539b0f",
   "metadata": {},
   "source": [
    "### Case Aluguéis de Carros"
   ]
  },
  {
   "cell_type": "markdown",
   "id": "35c6dce1",
   "metadata": {},
   "source": [
    "### Imports"
   ]
  },
  {
   "cell_type": "code",
   "execution_count": 1,
   "id": "62ea2496",
   "metadata": {},
   "outputs": [],
   "source": [
    "# manipulação de dados\n",
    "import numpy as np\n",
    "import pandas as pd\n",
    "import random\n",
    "\n",
    "# análises graficas\n",
    "import matplotlib.pyplot as plt\n",
    "\n",
    "# utilidades\n",
    "from tqdm import tqdm\n",
    "\n",
    "# machine learning\n",
    "import lightgbm as lgb\n",
    "from sklearn.model_selection import TimeSeriesSplit\n",
    "from sklearn.metrics import mean_squared_error"
   ]
  },
  {
   "cell_type": "markdown",
   "id": "bfeacd64",
   "metadata": {},
   "source": [
    "### Métodos Auxiliares"
   ]
  },
  {
   "cell_type": "code",
   "execution_count": 2,
   "id": "2d1acddb",
   "metadata": {},
   "outputs": [],
   "source": [
    "def show_missings(df):\n",
    "    '''\n",
    "    mostra porcentagem de missings no dataframe\n",
    "    '''\n",
    "    percent_missing = df.isnull().sum() * 100 / len(df)\n",
    "    missing_value_df = pd.DataFrame({'column_name': df.columns,\n",
    "                                     \n",
    "                                     'percent_missing': percent_missing})\n",
    "\n",
    "    missing_value_df = missing_value_df.sort_values('percent_missing', ascending=False).round(2)\n",
    "    return (missing_value_df)\n",
    "\n",
    "def group_values(df, column, target):\n",
    "    '''\n",
    "    agrupa valores, calculando quantidade e média\n",
    "    '''\n",
    "    df_count = (\n",
    "      df\n",
    "      .groupby(column, as_index=True)\n",
    "      .agg({target: 'count'})\n",
    "      .reset_index()\n",
    "      .rename(columns={target: 'Volume (#)'})\n",
    "    )\n",
    "\n",
    "    df_target = (\n",
    "      df\n",
    "      .groupby(column, as_index=True)\n",
    "      .agg({target: 'mean'})\n",
    "      .reset_index()\n",
    "    )\n",
    "    \n",
    "    # merge\n",
    "    df_groupby = pd.merge(df_count, df_target, on=[column])\n",
    "    \n",
    "    # columns\n",
    "    df_groupby.columns = [column, 'Volume (#)', target]\n",
    "    df_groupby['Volume (%)'] = 100 * (df_groupby['Volume (#)'] / df_groupby['Volume (#)'].sum())\n",
    "    df_groupby = df_groupby[[column, 'Volume (#)', 'Volume (%)', target]]\n",
    "    df_groupby = df_groupby.sort_values(by=[target], ascending=False)\n",
    "    return df_groupby"
   ]
  },
  {
   "cell_type": "markdown",
   "id": "0968085c",
   "metadata": {},
   "source": [
    "### Exercícios"
   ]
  },
  {
   "cell_type": "markdown",
   "id": "a4f47af6",
   "metadata": {},
   "source": [
    "Assuma que se deseja prever a soma do número de diárias de carros a serem vendidas nos próximos 7 dias em cada agência, em função do preço médio a ser arbitrado para cada tipo de carro em cada agência.\n",
    " \n",
    "Os dados históricos de vendas estão em um arquivo CSV (ou em uma tabela SQL) com as seguintes colunas e respectivos dados em cada linha, onde cada linha corresponde a uma venda:\n",
    " \n",
    "- COD_AG: código da agência\n",
    "- NUM_NOTA: número da nota fiscal\n",
    "- DATA: data correspondente à venda\n",
    "- COD_TIPO_CARRO: código do tipo de carro que foi alugado\n",
    "- NUM_DIARIAS: número de diárias vendidas\n",
    "- VALOR: valor total da nota fiscal\n",
    "\n",
    "Note que:\n",
    " \n",
    "Múltiplas vendas do mesmo tipo de carro podem ocorrer no mesmo dia e na mesma agência, cada uma com preço potencialmente diferente.\n",
    "O preço unitário de uma diária em uma venda pode ser calculado pela divisão VALOR/NUM_DIARIAS.\n",
    "A DATA pode ser assumida como um número inteiro entre 1 e 7000, onde esse número corresponde ao número de dias desde o início da operação da empresa.\n",
    "Você pode assumir que há aluguel de todos os tipos de carros em todas as agências ao longo de todos os dias do histórico."
   ]
  },
  {
   "cell_type": "markdown",
   "id": "a6823fb8",
   "metadata": {},
   "source": [
    "### Construção do Dataset"
   ]
  },
  {
   "cell_type": "code",
   "execution_count": 3,
   "id": "5525c30f",
   "metadata": {},
   "outputs": [
    {
     "name": "stdout",
     "output_type": "stream",
     "text": [
      "Shape do df criado artificialmente: (500000, 6)\n"
     ]
    },
    {
     "data": {
      "text/html": [
       "<div>\n",
       "<style scoped>\n",
       "    .dataframe tbody tr th:only-of-type {\n",
       "        vertical-align: middle;\n",
       "    }\n",
       "\n",
       "    .dataframe tbody tr th {\n",
       "        vertical-align: top;\n",
       "    }\n",
       "\n",
       "    .dataframe thead th {\n",
       "        text-align: right;\n",
       "    }\n",
       "</style>\n",
       "<table border=\"1\" class=\"dataframe\">\n",
       "  <thead>\n",
       "    <tr style=\"text-align: right;\">\n",
       "      <th></th>\n",
       "      <th>COD_AG</th>\n",
       "      <th>NUM_NOTA</th>\n",
       "      <th>DATA</th>\n",
       "      <th>COD_TIPO_CARRO</th>\n",
       "      <th>NUM_DIARIAS</th>\n",
       "      <th>VALOR</th>\n",
       "    </tr>\n",
       "  </thead>\n",
       "  <tbody>\n",
       "    <tr>\n",
       "      <th>0</th>\n",
       "      <td>AGENCIA_0</td>\n",
       "      <td>1518322</td>\n",
       "      <td>4165</td>\n",
       "      <td>CARRO_4</td>\n",
       "      <td>7</td>\n",
       "      <td>2584.40</td>\n",
       "    </tr>\n",
       "    <tr>\n",
       "      <th>1</th>\n",
       "      <td>AGENCIA_0</td>\n",
       "      <td>497213</td>\n",
       "      <td>5229</td>\n",
       "      <td>CARRO_2</td>\n",
       "      <td>8</td>\n",
       "      <td>1346.32</td>\n",
       "    </tr>\n",
       "    <tr>\n",
       "      <th>2</th>\n",
       "      <td>AGENCIA_0</td>\n",
       "      <td>503979</td>\n",
       "      <td>1860</td>\n",
       "      <td>CARRO_3</td>\n",
       "      <td>6</td>\n",
       "      <td>2507.82</td>\n",
       "    </tr>\n",
       "    <tr>\n",
       "      <th>3</th>\n",
       "      <td>AGENCIA_3</td>\n",
       "      <td>4024357</td>\n",
       "      <td>3217</td>\n",
       "      <td>CARRO_2</td>\n",
       "      <td>6</td>\n",
       "      <td>2550.72</td>\n",
       "    </tr>\n",
       "    <tr>\n",
       "      <th>4</th>\n",
       "      <td>AGENCIA_1</td>\n",
       "      <td>2916562</td>\n",
       "      <td>4347</td>\n",
       "      <td>CARRO_5</td>\n",
       "      <td>3</td>\n",
       "      <td>951.84</td>\n",
       "    </tr>\n",
       "  </tbody>\n",
       "</table>\n",
       "</div>"
      ],
      "text/plain": [
       "      COD_AG  NUM_NOTA  DATA COD_TIPO_CARRO  NUM_DIARIAS    VALOR\n",
       "0  AGENCIA_0   1518322  4165        CARRO_4            7  2584.40\n",
       "1  AGENCIA_0    497213  5229        CARRO_2            8  1346.32\n",
       "2  AGENCIA_0    503979  1860        CARRO_3            6  2507.82\n",
       "3  AGENCIA_3   4024357  3217        CARRO_2            6  2550.72\n",
       "4  AGENCIA_1   2916562  4347        CARRO_5            3   951.84"
      ]
     },
     "execution_count": 3,
     "metadata": {},
     "output_type": "execute_result"
    }
   ],
   "source": [
    "df = pd.DataFrame()\n",
    "n_elementos = 500_000 # dataset com 500 mil registros de aluguéis de carros\n",
    "n_agencias = 5 # 5 agências\n",
    "n_carros = 7 # 7 modelos de carros\n",
    "n_dias = 7_000 # quantidade de dias (~19 anos)\n",
    "df[\"COD_AG\"] = random.choices([f\"AGENCIA_{x}\" for x in range(n_agencias)], k=n_elementos) # gências criadas\n",
    "df[\"NUM_NOTA\"] = random.choices(range(n_elementos*10), k=n_elementos) # IDs criados aleatoriamente\n",
    "df[\"DATA\"] = np.random.choice(range(1, n_dias+1), size=n_elementos, replace=True) # data aleatória entre 1 e 7000\n",
    "df[\"COD_TIPO_CARRO\"] = random.choices([f\"CARRO_{x}\" for x in range(n_carros)], k=n_elementos) # carros criados\n",
    "df[\"NUM_DIARIAS\"] = [int(np.abs(x)) for x in np.random.normal(8, 2, n_elementos)] # amostra de uma normal\n",
    "df[\"VALOR_MEDIO\"] = [round(np.abs(x), 2) for x in np.random.normal(230, 100, n_elementos)] # amostra de uma normal\n",
    "df[\"VALOR\"] = df[\"NUM_DIARIAS\"] * df[\"VALOR_MEDIO\"] # multiplica (para ser mais coerente)\n",
    "df = df.drop(columns=[\"VALOR_MEDIO\"])\n",
    "print('Shape do df criado artificialmente:', df.shape)\n",
    "\n",
    "# salva dados em um arquivo csv\n",
    "df.to_csv('Dados.csv', sep=';', index=False)\n",
    "\n",
    "# primeiras 5 linhas\n",
    "df.head()"
   ]
  },
  {
   "cell_type": "markdown",
   "id": "5f48da66",
   "metadata": {},
   "source": [
    "### Análise Exploratória dos Dados (EDA)"
   ]
  },
  {
   "cell_type": "code",
   "execution_count": 4,
   "id": "127c8903",
   "metadata": {},
   "outputs": [
    {
     "name": "stdout",
     "output_type": "stream",
     "text": [
      "<class 'pandas.core.frame.DataFrame'>\n",
      "RangeIndex: 500000 entries, 0 to 499999\n",
      "Data columns (total 6 columns):\n",
      " #   Column          Non-Null Count   Dtype  \n",
      "---  ------          --------------   -----  \n",
      " 0   COD_AG          500000 non-null  object \n",
      " 1   NUM_NOTA        500000 non-null  int64  \n",
      " 2   DATA            500000 non-null  int64  \n",
      " 3   COD_TIPO_CARRO  500000 non-null  object \n",
      " 4   NUM_DIARIAS     500000 non-null  int64  \n",
      " 5   VALOR           500000 non-null  float64\n",
      "dtypes: float64(1), int64(3), object(2)\n",
      "memory usage: 22.9+ MB\n"
     ]
    }
   ],
   "source": [
    "# informações gerais do dataset criado\n",
    "df.info()"
   ]
  },
  {
   "cell_type": "code",
   "execution_count": 5,
   "id": "14175f53",
   "metadata": {},
   "outputs": [
    {
     "data": {
      "text/html": [
       "<div>\n",
       "<style scoped>\n",
       "    .dataframe tbody tr th:only-of-type {\n",
       "        vertical-align: middle;\n",
       "    }\n",
       "\n",
       "    .dataframe tbody tr th {\n",
       "        vertical-align: top;\n",
       "    }\n",
       "\n",
       "    .dataframe thead th {\n",
       "        text-align: right;\n",
       "    }\n",
       "</style>\n",
       "<table border=\"1\" class=\"dataframe\">\n",
       "  <thead>\n",
       "    <tr style=\"text-align: right;\">\n",
       "      <th></th>\n",
       "      <th>column_name</th>\n",
       "      <th>percent_missing</th>\n",
       "    </tr>\n",
       "  </thead>\n",
       "  <tbody>\n",
       "    <tr>\n",
       "      <th>COD_AG</th>\n",
       "      <td>COD_AG</td>\n",
       "      <td>0.0</td>\n",
       "    </tr>\n",
       "    <tr>\n",
       "      <th>NUM_NOTA</th>\n",
       "      <td>NUM_NOTA</td>\n",
       "      <td>0.0</td>\n",
       "    </tr>\n",
       "    <tr>\n",
       "      <th>DATA</th>\n",
       "      <td>DATA</td>\n",
       "      <td>0.0</td>\n",
       "    </tr>\n",
       "    <tr>\n",
       "      <th>COD_TIPO_CARRO</th>\n",
       "      <td>COD_TIPO_CARRO</td>\n",
       "      <td>0.0</td>\n",
       "    </tr>\n",
       "    <tr>\n",
       "      <th>NUM_DIARIAS</th>\n",
       "      <td>NUM_DIARIAS</td>\n",
       "      <td>0.0</td>\n",
       "    </tr>\n",
       "    <tr>\n",
       "      <th>VALOR</th>\n",
       "      <td>VALOR</td>\n",
       "      <td>0.0</td>\n",
       "    </tr>\n",
       "  </tbody>\n",
       "</table>\n",
       "</div>"
      ],
      "text/plain": [
       "                   column_name  percent_missing\n",
       "COD_AG                  COD_AG              0.0\n",
       "NUM_NOTA              NUM_NOTA              0.0\n",
       "DATA                      DATA              0.0\n",
       "COD_TIPO_CARRO  COD_TIPO_CARRO              0.0\n",
       "NUM_DIARIAS        NUM_DIARIAS              0.0\n",
       "VALOR                    VALOR              0.0"
      ]
     },
     "execution_count": 5,
     "metadata": {},
     "output_type": "execute_result"
    }
   ],
   "source": [
    "# não existem dados sem preenchimento no dataset\n",
    "show_missings(df)"
   ]
  },
  {
   "cell_type": "markdown",
   "id": "d8e5e873",
   "metadata": {},
   "source": [
    "### Análises Univariadas"
   ]
  },
  {
   "cell_type": "code",
   "execution_count": 6,
   "id": "d5f214dc",
   "metadata": {},
   "outputs": [
    {
     "data": {
      "text/plain": [
       "Text(0, 0.5, 'Frequência')"
      ]
     },
     "execution_count": 6,
     "metadata": {},
     "output_type": "execute_result"
    },
    {
     "data": {
      "image/png": "[encoded data removed]",
      "text/plain": [
       "<Figure size 500x500 with 1 Axes>"
      ]
     },
     "metadata": {},
     "output_type": "display_data"
    }
   ],
   "source": [
    "# Histograma do preço total\n",
    "df_eda = df.copy()\n",
    "df_eda['VALOR'].hist(bins=100, figsize=(5,5))\n",
    "plt.title('Preço Total do Aluguel')\n",
    "plt.xlabel('Preço')\n",
    "plt.ylabel('Frequência')"
   ]
  },
  {
   "cell_type": "code",
   "execution_count": 7,
   "id": "7dbb9eb2",
   "metadata": {},
   "outputs": [
    {
     "data": {
      "text/plain": [
       "Text(0, 0.5, 'Frequência')"
      ]
     },
     "execution_count": 7,
     "metadata": {},
     "output_type": "execute_result"
    },
    {
     "data": {
      "image/png": "[encoded data removed]",
      "text/plain": [
       "<Figure size 500x500 with 1 Axes>"
      ]
     },
     "metadata": {},
     "output_type": "display_data"
    }
   ],
   "source": [
    "# Preço do aluguel dividido pelo número de diárias\n",
    "df_eda['VALOR_MEDIO'] = df_eda['VALOR'] / df_eda['NUM_DIARIAS']\n",
    "df_eda['VALOR_MEDIO'].hist(bins=100, figsize=(5,5))\n",
    "plt.title('Preço Médio do Aluguel')\n",
    "plt.xlabel('Preço')\n",
    "plt.ylabel('Frequência')"
   ]
  },
  {
   "cell_type": "code",
   "execution_count": 8,
   "id": "8bab96ec",
   "metadata": {},
   "outputs": [
    {
     "data": {
      "text/plain": [
       "Text(0, 0.5, 'Frequência')"
      ]
     },
     "execution_count": 8,
     "metadata": {},
     "output_type": "execute_result"
    },
    {
     "data": {
      "image/png": "[encoded data removed]",
      "text/plain": [
       "<Figure size 500x500 with 1 Axes>"
      ]
     },
     "metadata": {},
     "output_type": "display_data"
    }
   ],
   "source": [
    "# QUantidade de diárias\n",
    "df_eda['NUM_DIARIAS'].hist(bins=100, figsize=(5,5))\n",
    "plt.title('Número médio de Diárias')\n",
    "plt.xlabel('Preço')\n",
    "plt.ylabel('Frequência')"
   ]
  },
  {
   "cell_type": "code",
   "execution_count": 9,
   "id": "7bf1fdc0",
   "metadata": {},
   "outputs": [
    {
     "data": {
      "text/html": [
       "<div>\n",
       "<style scoped>\n",
       "    .dataframe tbody tr th:only-of-type {\n",
       "        vertical-align: middle;\n",
       "    }\n",
       "\n",
       "    .dataframe tbody tr th {\n",
       "        vertical-align: top;\n",
       "    }\n",
       "\n",
       "    .dataframe thead th {\n",
       "        text-align: right;\n",
       "    }\n",
       "</style>\n",
       "<table border=\"1\" class=\"dataframe\">\n",
       "  <thead>\n",
       "    <tr style=\"text-align: right;\">\n",
       "      <th></th>\n",
       "      <th>COD_AG</th>\n",
       "      <th>Volume (#)</th>\n",
       "      <th>Volume (%)</th>\n",
       "      <th>VALOR</th>\n",
       "    </tr>\n",
       "  </thead>\n",
       "  <tbody>\n",
       "    <tr>\n",
       "      <th>4</th>\n",
       "      <td>AGENCIA_4</td>\n",
       "      <td>100023</td>\n",
       "      <td>20.0046</td>\n",
       "      <td>1733.088055</td>\n",
       "    </tr>\n",
       "    <tr>\n",
       "      <th>3</th>\n",
       "      <td>AGENCIA_3</td>\n",
       "      <td>99887</td>\n",
       "      <td>19.9774</td>\n",
       "      <td>1732.206509</td>\n",
       "    </tr>\n",
       "    <tr>\n",
       "      <th>1</th>\n",
       "      <td>AGENCIA_1</td>\n",
       "      <td>100332</td>\n",
       "      <td>20.0664</td>\n",
       "      <td>1731.459616</td>\n",
       "    </tr>\n",
       "    <tr>\n",
       "      <th>0</th>\n",
       "      <td>AGENCIA_0</td>\n",
       "      <td>99886</td>\n",
       "      <td>19.9772</td>\n",
       "      <td>1728.702712</td>\n",
       "    </tr>\n",
       "    <tr>\n",
       "      <th>2</th>\n",
       "      <td>AGENCIA_2</td>\n",
       "      <td>99872</td>\n",
       "      <td>19.9744</td>\n",
       "      <td>1728.213865</td>\n",
       "    </tr>\n",
       "  </tbody>\n",
       "</table>\n",
       "</div>"
      ],
      "text/plain": [
       "      COD_AG  Volume (#)  Volume (%)        VALOR\n",
       "4  AGENCIA_4      100023     20.0046  1733.088055\n",
       "3  AGENCIA_3       99887     19.9774  1732.206509\n",
       "1  AGENCIA_1      100332     20.0664  1731.459616\n",
       "0  AGENCIA_0       99886     19.9772  1728.702712\n",
       "2  AGENCIA_2       99872     19.9744  1728.213865"
      ]
     },
     "execution_count": 9,
     "metadata": {},
     "output_type": "execute_result"
    }
   ],
   "source": [
    "# agrupando por agência\n",
    "group_values(df_eda, 'COD_AG', 'VALOR')"
   ]
  },
  {
   "cell_type": "code",
   "execution_count": 10,
   "id": "545789d6",
   "metadata": {},
   "outputs": [
    {
     "data": {
      "text/html": [
       "<div>\n",
       "<style scoped>\n",
       "    .dataframe tbody tr th:only-of-type {\n",
       "        vertical-align: middle;\n",
       "    }\n",
       "\n",
       "    .dataframe tbody tr th {\n",
       "        vertical-align: top;\n",
       "    }\n",
       "\n",
       "    .dataframe thead th {\n",
       "        text-align: right;\n",
       "    }\n",
       "</style>\n",
       "<table border=\"1\" class=\"dataframe\">\n",
       "  <thead>\n",
       "    <tr style=\"text-align: right;\">\n",
       "      <th></th>\n",
       "      <th>COD_TIPO_CARRO</th>\n",
       "      <th>Volume (#)</th>\n",
       "      <th>Volume (%)</th>\n",
       "      <th>VALOR</th>\n",
       "    </tr>\n",
       "  </thead>\n",
       "  <tbody>\n",
       "    <tr>\n",
       "      <th>3</th>\n",
       "      <td>CARRO_3</td>\n",
       "      <td>71539</td>\n",
       "      <td>14.3078</td>\n",
       "      <td>1736.817175</td>\n",
       "    </tr>\n",
       "    <tr>\n",
       "      <th>6</th>\n",
       "      <td>CARRO_6</td>\n",
       "      <td>71176</td>\n",
       "      <td>14.2352</td>\n",
       "      <td>1735.368413</td>\n",
       "    </tr>\n",
       "    <tr>\n",
       "      <th>1</th>\n",
       "      <td>CARRO_1</td>\n",
       "      <td>71693</td>\n",
       "      <td>14.3386</td>\n",
       "      <td>1732.697101</td>\n",
       "    </tr>\n",
       "    <tr>\n",
       "      <th>2</th>\n",
       "      <td>CARRO_2</td>\n",
       "      <td>71322</td>\n",
       "      <td>14.2644</td>\n",
       "      <td>1729.765774</td>\n",
       "    </tr>\n",
       "    <tr>\n",
       "      <th>4</th>\n",
       "      <td>CARRO_4</td>\n",
       "      <td>71331</td>\n",
       "      <td>14.2662</td>\n",
       "      <td>1728.114911</td>\n",
       "    </tr>\n",
       "    <tr>\n",
       "      <th>0</th>\n",
       "      <td>CARRO_0</td>\n",
       "      <td>71620</td>\n",
       "      <td>14.3240</td>\n",
       "      <td>1726.453076</td>\n",
       "    </tr>\n",
       "    <tr>\n",
       "      <th>5</th>\n",
       "      <td>CARRO_5</td>\n",
       "      <td>71319</td>\n",
       "      <td>14.2638</td>\n",
       "      <td>1725.930966</td>\n",
       "    </tr>\n",
       "  </tbody>\n",
       "</table>\n",
       "</div>"
      ],
      "text/plain": [
       "  COD_TIPO_CARRO  Volume (#)  Volume (%)        VALOR\n",
       "3        CARRO_3       71539     14.3078  1736.817175\n",
       "6        CARRO_6       71176     14.2352  1735.368413\n",
       "1        CARRO_1       71693     14.3386  1732.697101\n",
       "2        CARRO_2       71322     14.2644  1729.765774\n",
       "4        CARRO_4       71331     14.2662  1728.114911\n",
       "0        CARRO_0       71620     14.3240  1726.453076\n",
       "5        CARRO_5       71319     14.2638  1725.930966"
      ]
     },
     "execution_count": 10,
     "metadata": {},
     "output_type": "execute_result"
    }
   ],
   "source": [
    "# agrupando por modelo do carro\n",
    "group_values(df_eda, 'COD_TIPO_CARRO', 'VALOR')"
   ]
  },
  {
   "cell_type": "code",
   "execution_count": 11,
   "id": "b8e9dd90",
   "metadata": {},
   "outputs": [
    {
     "data": {
      "text/plain": [
       "[<matplotlib.lines.Line2D at 0x7f0c1e0632e0>]"
      ]
     },
     "execution_count": 11,
     "metadata": {},
     "output_type": "execute_result"
    },
    {
     "data": {
      "image/png": "[encoded data removed]",
      "text/plain": [
       "<Figure size 640x480 with 1 Axes>"
      ]
     },
     "metadata": {},
     "output_type": "display_data"
    }
   ],
   "source": [
    "# Valor médio por dia ao longo do tempo\n",
    "df_valor_medio_tempo = (\n",
    "      df_eda\n",
    "      .groupby('DATA', as_index=True)\n",
    "      .agg({'VALOR': 'mean'})\n",
    "      .reset_index()\n",
    "    )\n",
    "plt.plot(df_valor_medio_tempo['VALOR'])"
   ]
  },
  {
   "cell_type": "markdown",
   "id": "57c4b22d",
   "metadata": {},
   "source": [
    "### Questões"
   ]
  },
  {
   "cell_type": "markdown",
   "id": "83ed83a7",
   "metadata": {},
   "source": [
    "1) Escreva o código (usando SQL; Python com Pandas ou Spark; ou R) correspondente à preparação do seguinte dataframe (ou tabela SQL) para a criação de um modelo preditivo:\n",
    " \n",
    " \n",
    "- DATA_REF: data de referência (i.e. valores correspondem a 7 dias a partir dessa data)\n",
    "- COD_AG: código da agência\n",
    "- COD_TIPO_CARRO: código do tipo de carro\n",
    "- PRECO_MEDIO: preço médio ponderado por número de diárias do tipo de carro no período de referência e na agência\n",
    "- DELTA_PRECO_MEDIO: variação percentual do preço médio ponderado entre semana anterior (entre DATA_REF-7dias e DATA_REF-1 dia, incluindo os limites) e semana atual (entre DATA_REF e DATA_REF+6 dias, incluindo os limites)\n",
    "- NUM_DIARIAS_SEMANA_ANTERIOR: número total de diárias vendidas na semana anterior (entre DATA_REF-7dias e DATA_REF-1 dia, incluindo os limites)\n",
    "- NUM_DIARIAS_SEMANA: número total de diárias vendidas na semana atual (entre DATA_REF e DATA_REF+6 dias, incluindo os limites)"
   ]
  },
  {
   "cell_type": "code",
   "execution_count": 12,
   "id": "879dacaa",
   "metadata": {},
   "outputs": [
    {
     "name": "stderr",
     "output_type": "stream",
     "text": [
      "100%|███████████████████████████████████████| 7000/7000 [12:38<00:00,  9.23it/s]\n"
     ]
    },
    {
     "name": "stdout",
     "output_type": "stream",
     "text": [
      "CPU times: user 12min 4s, sys: 38.3 s, total: 12min 43s\n",
      "Wall time: 12min 40s\n"
     ]
    },
    {
     "data": {
      "text/html": [
       "<div>\n",
       "<style scoped>\n",
       "    .dataframe tbody tr th:only-of-type {\n",
       "        vertical-align: middle;\n",
       "    }\n",
       "\n",
       "    .dataframe tbody tr th {\n",
       "        vertical-align: top;\n",
       "    }\n",
       "\n",
       "    .dataframe thead th {\n",
       "        text-align: right;\n",
       "    }\n",
       "</style>\n",
       "<table border=\"1\" class=\"dataframe\">\n",
       "  <thead>\n",
       "    <tr style=\"text-align: right;\">\n",
       "      <th></th>\n",
       "      <th>DATA_REF</th>\n",
       "      <th>COD_AG</th>\n",
       "      <th>COD_TIPO_CARRO</th>\n",
       "      <th>PRECO_MEDIO</th>\n",
       "      <th>DELTA_PRECO_MEDIO</th>\n",
       "      <th>NUM_DIARIAS_SEMANA_ANTERIOR</th>\n",
       "      <th>NUM_DIARIAS_SEMANA</th>\n",
       "    </tr>\n",
       "  </thead>\n",
       "  <tbody>\n",
       "    <tr>\n",
       "      <th>0</th>\n",
       "      <td>1</td>\n",
       "      <td>AGENCIA_0</td>\n",
       "      <td>CARRO_4</td>\n",
       "      <td>211.442523</td>\n",
       "      <td>NaN</td>\n",
       "      <td>0</td>\n",
       "      <td>107</td>\n",
       "    </tr>\n",
       "    <tr>\n",
       "      <th>1</th>\n",
       "      <td>1</td>\n",
       "      <td>AGENCIA_0</td>\n",
       "      <td>CARRO_2</td>\n",
       "      <td>214.507391</td>\n",
       "      <td>NaN</td>\n",
       "      <td>0</td>\n",
       "      <td>92</td>\n",
       "    </tr>\n",
       "    <tr>\n",
       "      <th>2</th>\n",
       "      <td>1</td>\n",
       "      <td>AGENCIA_0</td>\n",
       "      <td>CARRO_3</td>\n",
       "      <td>234.689712</td>\n",
       "      <td>NaN</td>\n",
       "      <td>0</td>\n",
       "      <td>104</td>\n",
       "    </tr>\n",
       "    <tr>\n",
       "      <th>3</th>\n",
       "      <td>1</td>\n",
       "      <td>AGENCIA_3</td>\n",
       "      <td>CARRO_2</td>\n",
       "      <td>237.099570</td>\n",
       "      <td>NaN</td>\n",
       "      <td>0</td>\n",
       "      <td>93</td>\n",
       "    </tr>\n",
       "    <tr>\n",
       "      <th>4</th>\n",
       "      <td>1</td>\n",
       "      <td>AGENCIA_1</td>\n",
       "      <td>CARRO_5</td>\n",
       "      <td>263.932411</td>\n",
       "      <td>NaN</td>\n",
       "      <td>0</td>\n",
       "      <td>112</td>\n",
       "    </tr>\n",
       "  </tbody>\n",
       "</table>\n",
       "</div>"
      ],
      "text/plain": [
       "   DATA_REF     COD_AG COD_TIPO_CARRO  PRECO_MEDIO  DELTA_PRECO_MEDIO  \\\n",
       "0         1  AGENCIA_0        CARRO_4   211.442523                NaN   \n",
       "1         1  AGENCIA_0        CARRO_2   214.507391                NaN   \n",
       "2         1  AGENCIA_0        CARRO_3   234.689712                NaN   \n",
       "3         1  AGENCIA_3        CARRO_2   237.099570                NaN   \n",
       "4         1  AGENCIA_1        CARRO_5   263.932411                NaN   \n",
       "\n",
       "   NUM_DIARIAS_SEMANA_ANTERIOR  NUM_DIARIAS_SEMANA  \n",
       "0                            0                 107  \n",
       "1                            0                  92  \n",
       "2                            0                 104  \n",
       "3                            0                  93  \n",
       "4                            0                 112  "
      ]
     },
     "execution_count": 12,
     "metadata": {},
     "output_type": "execute_result"
    }
   ],
   "source": [
    "%%time\n",
    "# Iterar pelas datas de referência para criar as novas colunas do dataframe\n",
    "dados_modelagem = []\n",
    "for data_ref in tqdm(range(1, n_dias+1)):\n",
    "    semana_anterior_inicio = data_ref - 7\n",
    "    semana_anterior_fim = data_ref - 1\n",
    "    semana_atual_inicio = data_ref\n",
    "    semana_atual_fim = data_ref + 6\n",
    "\n",
    "    # Filtrar os dados para a semana anterior e a semana atual\n",
    "    dados_semana_anterior = df[(df['DATA'] >= semana_anterior_inicio) & (df['DATA'] <= semana_anterior_fim)]\n",
    "    dados_semana_atual = df[(df['DATA'] >= semana_atual_inicio) & (df['DATA'] <= semana_atual_fim)]\n",
    "\n",
    "    # Calcular o preço médio ponderado para cada tipo de carro na agência\n",
    "    # na semana anterior e na semana atual\n",
    "    for cod_ag, cod_tipo_carro in df[['COD_AG', 'COD_TIPO_CARRO']].drop_duplicates().values:\n",
    "        # daods da semana anterior\n",
    "        filtro_ag_tipo_carro_semana_anterior = (\n",
    "            (dados_semana_anterior['COD_AG'] == cod_ag) &\n",
    "            (dados_semana_anterior['COD_TIPO_CARRO'] == cod_tipo_carro)\n",
    "        )\n",
    "        # dados da semana atual\n",
    "        filtro_ag_tipo_carro_semana_atual = (\n",
    "            (dados_semana_atual['COD_AG'] == cod_ag) &\n",
    "            (dados_semana_atual['COD_TIPO_CARRO'] == cod_tipo_carro)\n",
    "        )\n",
    "\n",
    "        # diárias\n",
    "        dados_anteriores = dados_semana_anterior.loc[filtro_ag_tipo_carro_semana_anterior, 'NUM_DIARIAS']\n",
    "        dados_atuais = dados_semana_atual.loc[filtro_ag_tipo_carro_semana_atual, 'NUM_DIARIAS']\n",
    "        num_diarias_semana_anterior = dados_anteriores.sum()\n",
    "        num_diarias_semana_atual = dados_atuais.sum()\n",
    "\n",
    "        # preco medio semana anterior\n",
    "        if len(dados_anteriores) > 0 and num_diarias_semana_anterior > 0:\n",
    "            preco_medio_semana_anterior = dados_semana_anterior.loc[filtro_ag_tipo_carro_semana_anterior, 'VALOR'].sum() / num_diarias_semana_anterior\n",
    "        else:\n",
    "            preco_medio_semana_anterior = np.nan\n",
    "\n",
    "        # preco medio semana atual\n",
    "        if len(dados_atuais) > 0 and num_diarias_semana_atual > 0:\n",
    "            preco_medio_semana_atual = dados_semana_atual.loc[filtro_ag_tipo_carro_semana_atual, 'VALOR'].sum() / num_diarias_semana_atual\n",
    "        else:\n",
    "            preco_medio_semana_atual = np.nan\n",
    "\n",
    "        # delta preco medio (%)\n",
    "        if preco_medio_semana_anterior != 0:\n",
    "            delta_preco_medio = 100 * ((preco_medio_semana_atual - preco_medio_semana_anterior) / preco_medio_semana_anterior)\n",
    "        else:\n",
    "            delta_preco_medio = np.nan\n",
    "\n",
    "        # incrementa dados\n",
    "        dados_modelagem.append({\n",
    "            'DATA_REF': data_ref,\n",
    "            'COD_AG': cod_ag,\n",
    "            'COD_TIPO_CARRO': cod_tipo_carro,\n",
    "            'PRECO_MEDIO': preco_medio_semana_atual,\n",
    "            'DELTA_PRECO_MEDIO': delta_preco_medio,\n",
    "            'NUM_DIARIAS_SEMANA_ANTERIOR': num_diarias_semana_anterior,\n",
    "            'NUM_DIARIAS_SEMANA': num_diarias_semana_atual,\n",
    "        })\n",
    "\n",
    "# Criar o novo dataframe com os dados gerados\n",
    "df_modelagem = pd.DataFrame(dados_modelagem)\n",
    "df_modelagem.to_csv('df_modelagem.csv', sep=';', index=False)\n",
    "df_modelagem.head()"
   ]
  },
  {
   "cell_type": "markdown",
   "id": "ece22c4e",
   "metadata": {},
   "source": [
    "2) Proponha conjunto de “features” adicionais que possam ajudar na previsão futura, a serem adicionadas no dataframe. Note que há uma infinidade de “features” que podem ser úteis ao se agregar as vendas por semana e ao se considerar o histórico."
   ]
  },
  {
   "cell_type": "markdown",
   "id": "9849cfc1",
   "metadata": {},
   "source": [
    "##### Resposta\n",
    "\n",
    "1. Variáveis explicativas internas\n",
    "- Defasagem de valores e qtd por agência e modelo em outras janelas de tempo (semana de Mês-1, semana de Ano-1)\n",
    "- Valores médios por agência e carro históricos, tanto da agência quanto das agências mais próximas ou parecidas\n",
    "- Dados sobre a agência (quantidade de funcionários, tempo de operação, distância até aeroporto ou rodoviária)\n",
    "- Dados sobre o carro (valor médio no mercado, popularidade, ano, km percorridos, estado do carro, etc)\n",
    "\n",
    "2. Variáveis explicativas externas\n",
    "- Eventos baseados em calendário (ex. mês do ano, férias escolares, feriados, etc)\n",
    "- Dados climáticos (ex. previsão do tempo em cada cidade, temperatura média estimada, etc)\n",
    "- Dados do IBGE ou Bureaus externos (ex. Renda média por município, escolaridade, idade, perfil de público)\n",
    "- Dados sobre a cidade (quantidade de habitantes, renda média dos habitantes)\n",
    "- Informações sobre a concorrência (i.e. existem concorrentes próximos à agência?)\n",
    "- Valores macroeconômicos (inflação, desemprego, turismo, saúde, pandemias, etc)\n",
    "\n",
    "3. Variáveis explicativas adicionais\n",
    "- Normalização dos dados disponíveis\n",
    "- Transformações (ex. log)\n",
    "- Criação de novos campos (ex. dividindo ou multiplicando valores)"
   ]
  },
  {
   "cell_type": "code",
   "execution_count": null,
   "id": "111021db",
   "metadata": {},
   "outputs": [],
   "source": []
  },
  {
   "cell_type": "markdown",
   "id": "366941ad",
   "metadata": {},
   "source": [
    "3) Explique como faria o treinamento e o teste do modelo."
   ]
  },
  {
   "cell_type": "markdown",
   "id": "44438afd",
   "metadata": {},
   "source": [
    "##### Resposta\n",
    "\n",
    "Eu utilizaria todas as variáveis explicativas disponíveis (internas e/ou externas) para prever a soma do número de diárias de carros a serem vendidas nos próximos 7 dias em cada agência (coluna NUM_DIARIAS_SEMANA do dataframe), em função do preço médio (coluna PRECO_MEDIO) a ser arbitrado para cada tipo de carro em cada agência.\n",
    "\n",
    "Seria interessante criar um conjunto de teste contendo dados futuros ao treinamento do modelo, de forma a coletar uma estimativa não enviesada do desempenho do modelo em produção. Como o dataset possui aproximadamente 19 anos (7000 dias) de informações, minha abordagem seria utilizar o ano mais recente como teste (junho/2022 a maio/2023, por exemplo).\n",
    "\n",
    "Para separar os dados de treino em treino e validação, existem algumas abordagens possíveis e uma pode ser melhor que a outra dependendo de como o modelo for ser usado na prática e da evolução da quantidade de agências e carros ao longo do tempo. É possível fazer outra separação temporal (por ex. 17 anos anos para treino e 1 para validação), mas isso poderia sacrificar os dados mais recentes para treinar o modelo, o que não seria interessante caso tenham surgido novos carros e agências. Minha preferência de abordagem é fazer um split temporal (ex. método TimeSeriesSplit), garantindo que o modelo sempre será validado em dados futuros ao treino e sem sacrificar o ano mais recente para desenvolver o modelo. Contudo, é interessante analisar se realmente faria sentido treinar o modelo com todos os 18 anos de histórico ao invés dos últimos 5 anos, por exemplo.\n",
    "\n",
    "Uma vez definidos os conjuntos de treino, validação (criados usando TimeSeriesSplit) e teste (out of time puro), eu treinaria diversos modelos (ex. algoritmos baseados em árvores, SVM, redes neurais, regressão linear, etc) na base de dados disponível, tunando hiperparâmetros com uma abordagem bayesiana. Após eleger o melhor modelo (já com as variáveis finalistas que discriminam o target) com base nas métricas de regressão consideradas (ex. RMSE, R2, MAE, etc) para o conjunto de treino e validação eleitos, estar satisfeito com os resultados no conjunto de teste, e também as áreas clientes estarem satisfeitas com o resultado apresentado, o modelo está finalizado e poderá ser implantado, pilotado e monitorado em ambiente produtivo. Se não houver restrições adicionais, pode ser interessante treinar o modelo finalista com todo o conjunto de dados disponíveis (caso realmente faça sentido utilizar dados relativos a dados de muitos anos atrás)."
   ]
  },
  {
   "cell_type": "markdown",
   "id": "d49d2808",
   "metadata": {},
   "source": [
    "### Separa dados em treino e teste (apenas um exemplo de como poderia ser feito!)"
   ]
  },
  {
   "cell_type": "code",
   "execution_count": 13,
   "id": "2d9c8706",
   "metadata": {},
   "outputs": [
    {
     "name": "stdout",
     "output_type": "stream",
     "text": [
      "treino: (56000, 7)\n",
      "teste: (13685, 7)\n"
     ]
    }
   ],
   "source": [
    "feature_cols = ['COD_AG', 'COD_TIPO_CARRO', 'PRECO_MEDIO', 'NUM_DIARIAS_SEMANA_ANTERIOR']\n",
    "target = 'NUM_DIARIAS_SEMANA'\n",
    "\n",
    "df_modelagem['COD_AG'] = df_modelagem['COD_AG'].astype('category')\n",
    "df_modelagem['COD_TIPO_CARRO'] = df_modelagem['COD_TIPO_CARRO'].astype('category')\n",
    "df_treino = df_modelagem.query(\"DATA_REF >= 5000 and DATA_REF < 6600\")\n",
    "df_teste = df_modelagem.query(\"DATA_REF >= 6600 and DATA_REF <= 6990\")\n",
    "print('treino:', df_treino.shape)\n",
    "print('teste:', df_teste.shape)\n",
    "\n",
    "X_teste = df_teste[feature_cols]\n",
    "y_teste = df_teste[target]"
   ]
  },
  {
   "cell_type": "markdown",
   "id": "3438df12",
   "metadata": {},
   "source": [
    "### Treinamento do modelo (apenas uma ilustração)"
   ]
  },
  {
   "cell_type": "code",
   "execution_count": 14,
   "id": "3f5ae88f",
   "metadata": {},
   "outputs": [
    {
     "data": {
      "text/html": [
       "<div>\n",
       "<style scoped>\n",
       "    .dataframe tbody tr th:only-of-type {\n",
       "        vertical-align: middle;\n",
       "    }\n",
       "\n",
       "    .dataframe tbody tr th {\n",
       "        vertical-align: top;\n",
       "    }\n",
       "\n",
       "    .dataframe thead th {\n",
       "        text-align: right;\n",
       "    }\n",
       "</style>\n",
       "<table border=\"1\" class=\"dataframe\">\n",
       "  <thead>\n",
       "    <tr style=\"text-align: right;\">\n",
       "      <th></th>\n",
       "      <th>Split</th>\n",
       "      <th>RMSE Treino</th>\n",
       "      <th>RMSE Validação</th>\n",
       "      <th>RMSE Teste</th>\n",
       "    </tr>\n",
       "  </thead>\n",
       "  <tbody>\n",
       "    <tr>\n",
       "      <th>0</th>\n",
       "      <td>1</td>\n",
       "      <td>27.54</td>\n",
       "      <td>29.18</td>\n",
       "      <td>29.10</td>\n",
       "    </tr>\n",
       "    <tr>\n",
       "      <th>1</th>\n",
       "      <td>2</td>\n",
       "      <td>28.20</td>\n",
       "      <td>29.30</td>\n",
       "      <td>29.03</td>\n",
       "    </tr>\n",
       "    <tr>\n",
       "      <th>2</th>\n",
       "      <td>3</td>\n",
       "      <td>28.53</td>\n",
       "      <td>29.33</td>\n",
       "      <td>29.02</td>\n",
       "    </tr>\n",
       "    <tr>\n",
       "      <th>3</th>\n",
       "      <td>4</td>\n",
       "      <td>28.69</td>\n",
       "      <td>29.00</td>\n",
       "      <td>29.00</td>\n",
       "    </tr>\n",
       "    <tr>\n",
       "      <th>4</th>\n",
       "      <td>5</td>\n",
       "      <td>28.74</td>\n",
       "      <td>28.64</td>\n",
       "      <td>28.94</td>\n",
       "    </tr>\n",
       "    <tr>\n",
       "      <th>5</th>\n",
       "      <td>6</td>\n",
       "      <td>28.72</td>\n",
       "      <td>28.94</td>\n",
       "      <td>28.95</td>\n",
       "    </tr>\n",
       "    <tr>\n",
       "      <th>6</th>\n",
       "      <td>7</td>\n",
       "      <td>28.75</td>\n",
       "      <td>28.72</td>\n",
       "      <td>28.94</td>\n",
       "    </tr>\n",
       "    <tr>\n",
       "      <th>7</th>\n",
       "      <td>8</td>\n",
       "      <td>28.74</td>\n",
       "      <td>28.80</td>\n",
       "      <td>28.95</td>\n",
       "    </tr>\n",
       "    <tr>\n",
       "      <th>8</th>\n",
       "      <td>9</td>\n",
       "      <td>28.75</td>\n",
       "      <td>29.23</td>\n",
       "      <td>28.95</td>\n",
       "    </tr>\n",
       "    <tr>\n",
       "      <th>9</th>\n",
       "      <td>10</td>\n",
       "      <td>28.79</td>\n",
       "      <td>29.14</td>\n",
       "      <td>28.95</td>\n",
       "    </tr>\n",
       "  </tbody>\n",
       "</table>\n",
       "</div>"
      ],
      "text/plain": [
       "   Split  RMSE Treino  RMSE Validação  RMSE Teste\n",
       "0      1        27.54           29.18       29.10\n",
       "1      2        28.20           29.30       29.03\n",
       "2      3        28.53           29.33       29.02\n",
       "3      4        28.69           29.00       29.00\n",
       "4      5        28.74           28.64       28.94\n",
       "5      6        28.72           28.94       28.95\n",
       "6      7        28.75           28.72       28.94\n",
       "7      8        28.74           28.80       28.95\n",
       "8      9        28.75           29.23       28.95\n",
       "9     10        28.79           29.14       28.95"
      ]
     },
     "execution_count": 14,
     "metadata": {},
     "output_type": "execute_result"
    }
   ],
   "source": [
    "# resultados\n",
    "resultados = []\n",
    "\n",
    "# time series split\n",
    "tscv = TimeSeriesSplit(n_splits=10)\n",
    "\n",
    "# treina modelo (ex. lgbm)\n",
    "iterador = 1\n",
    "for train_index, test_index in tscv.split(df_modelagem):\n",
    "    dados_treino = df_modelagem.loc[train_index]\n",
    "    dados_teste = df_modelagem.loc[test_index]\n",
    "\n",
    "    X_treino, y_treino = dados_treino[feature_cols], dados_treino[target]\n",
    "    X_val, y_val = dados_teste[feature_cols], dados_teste[target]\n",
    "\n",
    "    # dataset\n",
    "    dataset_treino = lgb.Dataset(X_treino, label=y_treino)\n",
    "\n",
    "    #  hiperparametros (apenas um exemplo, idealmente deveriam ser otimizados!)\n",
    "    lgb_params = {\n",
    "        'objective': 'regression',\n",
    "        'metric': 'rmse',\n",
    "        'boosting_type': 'gbdt',\n",
    "        'num_leaves': 31,\n",
    "        'learning_rate': 0.05,\n",
    "        'feature_fraction': 0.9,\n",
    "        'bagging_fraction': 0.8,\n",
    "        'bagging_freq': 5,\n",
    "        'verbose': -1\n",
    "    }\n",
    "\n",
    "    # treina modelo\n",
    "    model = lgb.train(lgb_params, dataset_treino)\n",
    "\n",
    "    # predições no conjunto de treino\n",
    "    y_treino_pred = model.predict(X_treino, num_iteration=model.best_iteration)\n",
    "    \n",
    "    # predições no conjunto de validação\n",
    "    y_val_pred = model.predict(X_val, num_iteration=model.best_iteration)\n",
    "    \n",
    "    # predições no conjunto de teste\n",
    "    y_teste_pred = model.predict(X_teste, num_iteration=model.best_iteration)\n",
    "\n",
    "    # calcula RMSE\n",
    "    rmse_treino = round(np.sqrt(mean_squared_error(y_treino, y_treino_pred)),2)\n",
    "    rmse_val = round(np.sqrt(mean_squared_error(y_val, y_val_pred)),2)\n",
    "    rmse_teste = round(np.sqrt(mean_squared_error(y_teste, y_teste_pred)),2)\n",
    "    \n",
    "    resultados.append([iterador, rmse_treino, rmse_val, rmse_teste])\n",
    "    iterador+=1\n",
    "    \n",
    "# resultados\n",
    "df_resultados = pd.DataFrame(resultados, columns=['Split', 'RMSE Treino', 'RMSE Validação', 'RMSE Teste'])\n",
    "df_resultados"
   ]
  },
  {
   "cell_type": "code",
   "execution_count": 15,
   "id": "0bff3a06",
   "metadata": {},
   "outputs": [
    {
     "data": {
      "text/plain": [
       "RMSE Treino       28.545\n",
       "RMSE Validação    29.028\n",
       "RMSE Teste        28.983\n",
       "dtype: float64"
      ]
     },
     "execution_count": 15,
     "metadata": {},
     "output_type": "execute_result"
    }
   ],
   "source": [
    "# Resultados médios obtidos\n",
    "df_resultados[['RMSE Treino', 'RMSE Validação', 'RMSE Teste']].mean()"
   ]
  }
 ],
 "metadata": {
  "kernelspec": {
   "display_name": "Python 3 (ipykernel)",
   "language": "python",
   "name": "python3"
  },
  "language_info": {
   "codemirror_mode": {
    "name": "ipython",
    "version": 3
   },
   "file_extension": ".py",
   "mimetype": "text/x-python",
   "name": "python",
   "nbconvert_exporter": "python",
   "pygments_lexer": "ipython3",
   "version": "3.10.9"
  }
 },
 "nbformat": 4,
 "nbformat_minor": 5
}
