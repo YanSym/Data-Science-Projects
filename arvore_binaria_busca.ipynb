{
 "cells": [
  {
   "cell_type": "markdown",
   "metadata": {},
   "source": [
    "### Árvores binárias de busca"
   ]
  },
  {
   "cell_type": "code",
   "execution_count": 3,
   "metadata": {},
   "outputs": [
    {
     "name": "stdout",
     "output_type": "stream",
     "text": [
      "Preorder:\n",
      "1\n",
      "2\n",
      "4\n",
      "5\n",
      "3\n",
      "\n",
      "Inorder:\n",
      "4\n",
      "2\n",
      "5\n",
      "1\n",
      "3\n",
      "\n",
      "Postorder:\n",
      "4\n",
      "5\n",
      "2\n",
      "3\n",
      "1\n"
     ]
    }
   ],
   "source": [
    "class Node:\n",
    "    def __init__(self,key):\n",
    "        self.left = None\n",
    "        self.right = None\n",
    "        self.val = key\n",
    "\n",
    "def printInorder(root):\n",
    "    if root:\n",
    "        printInorder(root.left)\n",
    "        print(root.val)\n",
    "        printInorder(root.right)\n",
    "\n",
    "def printPostorder(root):\n",
    "    if root:\n",
    "        printPostorder(root.left)\n",
    "        printPostorder(root.right)\n",
    "        print(root.val)\n",
    "\n",
    "def printPreorder(root):\n",
    "    if root:\n",
    "        print(root.val)\n",
    "        printPreorder(root.left)\n",
    "        printPreorder(root.right)\n",
    "\n",
    "# Driver code\n",
    "root = Node(1)\n",
    "root.left      = Node(2)\n",
    "root.right     = Node(3)\n",
    "root.left.left  = Node(4)\n",
    "root.left.right  = Node(5)\n",
    "print (\"Preorder:\")\n",
    "printPreorder(root)\n",
    "\n",
    "print (\"\\nInorder:\")\n",
    "printInorder(root)\n",
    "\n",
    "print (\"\\nPostorder:\")\n",
    "printPostorder(root)"
   ]
  },
  {
   "cell_type": "code",
   "execution_count": null,
   "metadata": {},
   "outputs": [],
   "source": []
  }
 ],
 "metadata": {
  "kernelspec": {
   "display_name": "Python 3",
   "language": "python",
   "name": "python3"
  },
  "language_info": {
   "codemirror_mode": {
    "name": "ipython",
    "version": 3
   },
   "file_extension": ".py",
   "mimetype": "text/x-python",
   "name": "python",
   "nbconvert_exporter": "python",
   "pygments_lexer": "ipython3",
   "version": "3.8.3"
  }
 },
 "nbformat": 4,
 "nbformat_minor": 4
}
