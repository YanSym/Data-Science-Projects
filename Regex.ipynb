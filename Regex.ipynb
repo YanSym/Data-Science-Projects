{
 "cells": [
  {
   "cell_type": "markdown",
   "metadata": {},
   "source": [
    "# Regex"
   ]
  },
  {
   "cell_type": "code",
   "execution_count": 15,
   "metadata": {},
   "outputs": [
    {
     "name": "stdout",
     "output_type": "stream",
     "text": [
      "matchObj.group(): Cats are smarter than dogs\n",
      "matchObj.group(1): Cats\n"
     ]
    }
   ],
   "source": [
    "#https://www.tutorialspoint.com/python/python_reg_expressions.htm\n",
    "import re\n",
    "\n",
    "line = \"Cats are smarter than dogs\"\n",
    "\n",
    "matchObj = re.match(r'(.*) are .*', line)\n",
    "#matchObj = re.match(r'(.*) are (.*?) .*', line, re.M|re.I)\n",
    "\n",
    "if matchObj:\n",
    "    print (\"matchObj.group():\", matchObj.group())\n",
    "    print (\"matchObj.group(1):\", matchObj.group(1))\n",
    "else:\n",
    "    print (\"No match!!\")"
   ]
  },
  {
   "cell_type": "code",
   "execution_count": null,
   "metadata": {},
   "outputs": [],
   "source": []
  }
 ],
 "metadata": {
  "kernelspec": {
   "display_name": "Python 3",
   "language": "python",
   "name": "python3"
  },
  "language_info": {
   "codemirror_mode": {
    "name": "ipython",
    "version": 3
   },
   "file_extension": ".py",
   "mimetype": "text/x-python",
   "name": "python",
   "nbconvert_exporter": "python",
   "pygments_lexer": "ipython3",
   "version": "3.6.5"
  }
 },
 "nbformat": 4,
 "nbformat_minor": 2
}
