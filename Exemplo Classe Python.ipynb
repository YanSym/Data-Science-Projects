{
 "cells": [
  {
   "cell_type": "markdown",
   "metadata": {},
   "source": [
    "## Exemplo simples de Orientação a Objetos"
   ]
  },
  {
   "cell_type": "code",
   "execution_count": 21,
   "metadata": {},
   "outputs": [
    {
     "name": "stdout",
     "output_type": "stream",
     "text": [
      "Hello my name is John\n",
      "Numero: 2\n",
      "Numero: 2\n",
      "<__main__.Person object at 0x7f5aee5b2b70>\n",
      "classe Pessoa\n",
      "\n",
      "        Imprime nome da pessoa\n",
      "        :param self: objeto pessoa\n",
      "\n",
      "        :returns 0\n",
      "        \n"
     ]
    }
   ],
   "source": [
    "class Person:\n",
    "    '''classe Pessoa'''\n",
    "    def __init__(mysillyobject, name, age):\n",
    "        mysillyobject.name = name\n",
    "        mysillyobject.age = age\n",
    "\n",
    "    def imprime_nome(self):\n",
    "        '''\n",
    "        Imprime nome da pessoa\n",
    "        :param self: objeto pessoa\n",
    "\n",
    "        :returns 0\n",
    "        '''\n",
    "        print(\"Hello my name is \" + self.name)\n",
    "        return 0\n",
    "        \n",
    "    @staticmethod\n",
    "    def imprime_numero(num):\n",
    "        print('Numero:', num)\n",
    "\n",
    "p1 = Person(\"John\", 36)\n",
    "p1.imprime_nome()\n",
    "p1.imprime_numero(2)\n",
    "Person.imprime_numero(2)\n",
    "\n",
    "print (p1)\n",
    "print (p1.__doc__)\n",
    "print (p1.imprime_nome.__doc__)\n",
    "#del p1"
   ]
  }
 ],
 "metadata": {
  "kernelspec": {
   "display_name": "Python 3",
   "language": "python",
   "name": "python3"
  },
  "language_info": {
   "codemirror_mode": {
    "name": "ipython",
    "version": 3
   },
   "file_extension": ".py",
   "mimetype": "text/x-python",
   "name": "python",
   "nbconvert_exporter": "python",
   "pygments_lexer": "ipython3",
   "version": "3.7.3"
  }
 },
 "nbformat": 4,
 "nbformat_minor": 2
}
