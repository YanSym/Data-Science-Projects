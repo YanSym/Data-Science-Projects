{
 "cells": [
  {
   "cell_type": "markdown",
   "metadata": {},
   "source": [
    "# Breast Cancer Classification\n",
    "\n",
    "Instituto de Computação - Unicamp  \n",
    "2018"
   ]
  },
  {
   "cell_type": "markdown",
   "metadata": {},
   "source": [
    "## Classificação binária (decisão)"
   ]
  },
  {
   "cell_type": "code",
   "execution_count": 13,
   "metadata": {},
   "outputs": [],
   "source": [
    "from sklearn.svm import SVC\n",
    "from sklearn.linear_model import LogisticRegression\n",
    "from sklearn.datasets import load_breast_cancer\n",
    "from sklearn.model_selection import train_test_split\n",
    "from sklearn import metrics\n",
    "import matplotlib.pyplot as plt\n",
    "import numpy as np\n",
    "\n",
    "from __future__ import print_function\n",
    "\n",
    "%matplotlib inline"
   ]
  },
  {
   "cell_type": "code",
   "execution_count": 14,
   "metadata": {},
   "outputs": [
    {
     "name": "stdout",
     "output_type": "stream",
     "text": [
      "Breast Cancer Wisconsin (Diagnostic) Database\n",
      "=============================================\n",
      "\n",
      "Notes\n",
      "-----\n",
      "Data Set Characteristics:\n",
      "    :Number of Instances: 569\n",
      "\n",
      "    :Number of Attributes: 30 numeric, predictive attributes and the class\n",
      "\n",
      "    :Attribute Information:\n",
      "        - radius (mean of distances from center to points on the perimeter)\n",
      "        - texture (standard deviation of gray-scale values)\n",
      "        - perimeter\n",
      "        - area\n",
      "        - smoothness (local variation in radius lengths)\n",
      "        - compactness (perimeter^2 / area - 1.0)\n",
      "        - concavity (severity of concave portions of the contour)\n",
      "        - concave points (number of concave portions of the contour)\n",
      "        - symmetry \n",
      "        - fractal dimension (\"coastline approximation\" - 1)\n",
      "\n",
      "        The mean, standard error, and \"worst\" or largest (mean of the three\n",
      "        largest values) of these features were computed for each image,\n",
      "        resulting in 30 features.  For instance, field 3 is Mean Radius, field\n",
      "        13 is Radius SE, field 23 is Worst Radius.\n",
      "\n",
      "        - class:\n",
      "                - WDBC-Malignant\n",
      "                - WDBC-Benign\n",
      "\n",
      "    :Summary Statistics:\n",
      "\n",
      "    ===================================== ====== ======\n",
      "                                           Min    Max\n",
      "    ===================================== ====== ======\n",
      "    radius (mean):                        6.981  28.11\n",
      "    texture (mean):                       9.71   39.28\n",
      "    perimeter (mean):                     43.79  188.5\n",
      "    area (mean):                          143.5  2501.0\n",
      "    smoothness (mean):                    0.053  0.163\n",
      "    compactness (mean):                   0.019  0.345\n",
      "    concavity (mean):                     0.0    0.427\n",
      "    concave points (mean):                0.0    0.201\n",
      "    symmetry (mean):                      0.106  0.304\n",
      "    fractal dimension (mean):             0.05   0.097\n",
      "    radius (standard error):              0.112  2.873\n",
      "    texture (standard error):             0.36   4.885\n",
      "    perimeter (standard error):           0.757  21.98\n",
      "    area (standard error):                6.802  542.2\n",
      "    smoothness (standard error):          0.002  0.031\n",
      "    compactness (standard error):         0.002  0.135\n",
      "    concavity (standard error):           0.0    0.396\n",
      "    concave points (standard error):      0.0    0.053\n",
      "    symmetry (standard error):            0.008  0.079\n",
      "    fractal dimension (standard error):   0.001  0.03\n",
      "    radius (worst):                       7.93   36.04\n",
      "    texture (worst):                      12.02  49.54\n",
      "    perimeter (worst):                    50.41  251.2\n",
      "    area (worst):                         185.2  4254.0\n",
      "    smoothness (worst):                   0.071  0.223\n",
      "    compactness (worst):                  0.027  1.058\n",
      "    concavity (worst):                    0.0    1.252\n",
      "    concave points (worst):               0.0    0.291\n",
      "    symmetry (worst):                     0.156  0.664\n",
      "    fractal dimension (worst):            0.055  0.208\n",
      "    ===================================== ====== ======\n",
      "\n",
      "    :Missing Attribute Values: None\n",
      "\n",
      "    :Class Distribution: 212 - Malignant, 357 - Benign\n",
      "\n",
      "    :Creator:  Dr. William H. Wolberg, W. Nick Street, Olvi L. Mangasarian\n",
      "\n",
      "    :Donor: Nick Street\n",
      "\n",
      "    :Date: November, 1995\n",
      "\n",
      "This is a copy of UCI ML Breast Cancer Wisconsin (Diagnostic) datasets.\n",
      "https://goo.gl/U2Uwz2\n",
      "\n",
      "Features are computed from a digitized image of a fine needle\n",
      "aspirate (FNA) of a breast mass.  They describe\n",
      "characteristics of the cell nuclei present in the image.\n",
      "\n",
      "Separating plane described above was obtained using\n",
      "Multisurface Method-Tree (MSM-T) [K. P. Bennett, \"Decision Tree\n",
      "Construction Via Linear Programming.\" Proceedings of the 4th\n",
      "Midwest Artificial Intelligence and Cognitive Science Society,\n",
      "pp. 97-101, 1992], a classification method which uses linear\n",
      "programming to construct a decision tree.  Relevant features\n",
      "were selected using an exhaustive search in the space of 1-4\n",
      "features and 1-3 separating planes.\n",
      "\n",
      "The actual linear program used to obtain the separating plane\n",
      "in the 3-dimensional space is that described in:\n",
      "[K. P. Bennett and O. L. Mangasarian: \"Robust Linear\n",
      "Programming Discrimination of Two Linearly Inseparable Sets\",\n",
      "Optimization Methods and Software 1, 1992, 23-34].\n",
      "\n",
      "This database is also available through the UW CS ftp server:\n",
      "\n",
      "ftp ftp.cs.wisc.edu\n",
      "cd math-prog/cpo-dataset/machine-learn/WDBC/\n",
      "\n",
      "References\n",
      "----------\n",
      "   - W.N. Street, W.H. Wolberg and O.L. Mangasarian. Nuclear feature extraction \n",
      "     for breast tumor diagnosis. IS&T/SPIE 1993 International Symposium on \n",
      "     Electronic Imaging: Science and Technology, volume 1905, pages 861-870,\n",
      "     San Jose, CA, 1993.\n",
      "   - O.L. Mangasarian, W.N. Street and W.H. Wolberg. Breast cancer diagnosis and \n",
      "     prognosis via linear programming. Operations Research, 43(4), pages 570-577, \n",
      "     July-August 1995.\n",
      "   - W.H. Wolberg, W.N. Street, and O.L. Mangasarian. Machine learning techniques\n",
      "     to diagnose breast cancer from fine-needle aspirates. Cancer Letters 77 (1994) \n",
      "     163-171.\n",
      "\n"
     ]
    }
   ],
   "source": [
    "dataset = load_breast_cancer()\n",
    "x_train, x_test, y_train, y_test = train_test_split(dataset.data, dataset.target,\n",
    "                                                    test_size=0.25,\n",
    "                                                    random_state=42)\n",
    "\n",
    "print(dataset.DESCR)"
   ]
  },
  {
   "cell_type": "code",
   "execution_count": 15,
   "metadata": {},
   "outputs": [
    {
     "name": "stdout",
     "output_type": "stream",
     "text": [
      "1: 357\n",
      "0: 212\n"
     ]
    }
   ],
   "source": [
    "print ('1:', np.count_nonzero(dataset.target == 1))\n",
    "print ('0:', np.count_nonzero(dataset.target == 0))"
   ]
  },
  {
   "cell_type": "code",
   "execution_count": 16,
   "metadata": {},
   "outputs": [
    {
     "name": "stdout",
     "output_type": "stream",
     "text": [
      "Gráfico exibindo as duas primeiras características do sub-conjunto de treino:\n"
     ]
    },
    {
     "data": {
      "image/png": "[encoded data removed]",
      "text/plain": [
       "<Figure size 432x288 with 1 Axes>"
      ]
     },
     "metadata": {},
     "output_type": "display_data"
    }
   ],
   "source": [
    "print('Gráfico exibindo as duas primeiras características do sub-conjunto de treino:')\n",
    "_ = plt.scatter(x_train[:, 0], x_train[:, 1],\n",
    "                c=y_train,\n",
    "                alpha=0.8)\n",
    "_ = plt.xlabel(dataset.feature_names[0])\n",
    "_ = plt.ylabel(dataset.feature_names[1])"
   ]
  },
  {
   "cell_type": "code",
   "execution_count": 17,
   "metadata": {},
   "outputs": [
    {
     "name": "stdout",
     "output_type": "stream",
     "text": [
      "Treinando estimator SVC\n",
      "Treinando estimator LogisticRegression\n",
      "Todos os estimatores foram treinados!\n"
     ]
    }
   ],
   "source": [
    "estimators = [SVC(random_state=13), LogisticRegression(random_state=24)]\n",
    "\n",
    "for e in estimators:\n",
    "    print('Treinando estimator', type(e).__name__)\n",
    "    e.fit(x_train, y_train)\n",
    "\n",
    "print('Todos os estimatores foram treinados!')"
   ]
  },
  {
   "cell_type": "markdown",
   "metadata": {},
   "source": [
    "### Qual dos dois estimadores apresenta menor taxa de erro sobre o conjunto WDBC teste?"
   ]
  },
  {
   "cell_type": "code",
   "execution_count": 18,
   "metadata": {},
   "outputs": [],
   "source": [
    "from sklearn.metrics import accuracy_score"
   ]
  },
  {
   "cell_type": "code",
   "execution_count": 19,
   "metadata": {},
   "outputs": [
    {
     "name": "stdout",
     "output_type": "stream",
     "text": [
      "treino:\n",
      "Teste do estimator SVC\n",
      "SVC error (%): 0.0\n",
      "Teste do estimator LogisticRegression\n",
      "LogisticRegression error (%): 4.225352112676061\n"
     ]
    }
   ],
   "source": [
    "print ('treino:')\n",
    "for e in estimators:\n",
    "    print('Teste do estimator', type(e).__name__)\n",
    "    y_pred = e.predict(x_train)\n",
    "    error_rate = (1 - accuracy_score(y_train, y_pred))\n",
    "    print (type(e).__name__ + ' error (%):', error_rate * 100)"
   ]
  },
  {
   "cell_type": "code",
   "execution_count": 20,
   "metadata": {
    "scrolled": true
   },
   "outputs": [
    {
     "name": "stdout",
     "output_type": "stream",
     "text": [
      "teste:\n",
      "Teste do estimator SVC\n",
      "SVC error (%): 37.76223776223776\n",
      "Teste do estimator LogisticRegression\n",
      "LogisticRegression error (%): 4.1958041958041985\n"
     ]
    }
   ],
   "source": [
    "print ('teste:')\n",
    "for e in estimators:\n",
    "    print('Teste do estimator', type(e).__name__)\n",
    "    y_pred = e.predict(x_test)\n",
    "    error_rate = (1 - accuracy_score(y_test, y_pred))\n",
    "    print (type(e).__name__ + ' error (%):', error_rate * 100)"
   ]
  },
  {
   "cell_type": "markdown",
   "metadata": {},
   "source": [
    "O estimador Regressão Logística apresenta um erro bem menor (4.2%) do que SVC (37%.8)"
   ]
  },
  {
   "cell_type": "code",
   "execution_count": 21,
   "metadata": {},
   "outputs": [
    {
     "name": "stdout",
     "output_type": "stream",
     "text": [
      "exemplo de rótulos de treino verdadeiros: [1 0 0 1 1 0 0 0 1 1] ...\n",
      "exemplo de rótulos de treino preditos: [1 0 1 0 0 0 1 0 1 1] ...\n"
     ]
    }
   ],
   "source": [
    "print('exemplo de rótulos de treino verdadeiros:', y_test[:10], '...')\n",
    "print('exemplo de rótulos de treino preditos:', y_train[:10], '...')"
   ]
  },
  {
   "cell_type": "code",
   "execution_count": 22,
   "metadata": {},
   "outputs": [
    {
     "name": "stdout",
     "output_type": "stream",
     "text": [
      "frequencies:\n",
      "size: 143\n",
      "1 - benigno: 89\n",
      "0 - maligno: 54\n"
     ]
    }
   ],
   "source": [
    "print ('frequencies:')\n",
    "print ('size:', len(y_test))\n",
    "print ('1 - benigno:', np.count_nonzero(y_test == 1))\n",
    "print ('0 - maligno:', np.count_nonzero(y_test == 0))"
   ]
  },
  {
   "cell_type": "markdown",
   "metadata": {},
   "source": [
    "- Algum dos estimatores super-especificou sobre o conjunto de treinamento?\n",
    "\n",
    "R: O SVC deu overfit (super-especificou), pois o erro no treino foi de 0% e no teste foi 37%. - \"chutou tudo 1\"\n",
    "Ja para o regressao logistica, nao teve overfit.\n",
    "\n",
    "- Quantas vezes cada um dos estimadores errou, no conjunto de teste?"
   ]
  },
  {
   "cell_type": "markdown",
   "metadata": {},
   "source": [
    "### Os estimadores conseguem distinguir ambas as classes de forma satisfatória?"
   ]
  },
  {
   "cell_type": "markdown",
   "metadata": {},
   "source": [
    "Utilize uma ou mais funções vistas em aula para descobrir se os classificadores efetivamente conseguem distinguir amostras benignas de malignas.\n",
    "\n",
    "Resposta:\n",
    "O classificador SVC apresenta resultados muito piores do que o classificador Regressão Logística.\n",
    "O SVC não consegue distinguir bem amostras benifnas e malignas, pois sua especificidade é 1 (100%) enquanto a especificidade é 0 (0%). Ou seja, sua taxa de acerto para a classe positiva (1 - benigno) é muito maior que a taxa acerto para a classe negativa (0 - negativo). Dentro do escopo do problema, isso significa que o classificador acerta bastante para amostras benignas, mas erra bastante para classes malignas. A acurácia normalizada é igual a 0,5 (50%) e o f1 score é 0,77 (77%).\n",
    "\n",
    "Já o classificador Regressão Logística possui tanto a sensibilidade (0,97) quanto a especificidade (0,92) altas. Ou seja, tanto a taxa de acerto para a classe positiva quanto a taxa acerto para a classe negativa são altos. Isso significa que o classificador acerta bastante tanto para amostras benignas quanto malignas. A acurácia normalizada é igual a 0,97 (97%) e o f1 score é 0,95 (95%)."
   ]
  },
  {
   "cell_type": "code",
   "execution_count": 23,
   "metadata": {},
   "outputs": [
    {
     "name": "stdout",
     "output_type": "stream",
     "text": [
      "Estimator SVC - results:\n",
      "*************\n",
      "accuracy: 0.6223776223776224\n",
      "error: 0.3776223776223776\n",
      "true positive rate, sensitivity or recall: 1.0\n",
      "true negative rate or specificity: 0.0\n",
      "normalized accuracy: 0.5\n",
      "f1 score: 0.7672413793103448\n",
      "cm: [[ 0 54]\n",
      " [ 0 89]]\n",
      "*************\n",
      "Estimator LogisticRegression - results:\n",
      "*************\n",
      "accuracy: 0.958041958041958\n",
      "error: 0.04195804195804198\n",
      "true positive rate, sensitivity or recall: 0.9775280898876404\n",
      "true negative rate or specificity: 0.9259259259259259\n",
      "normalized accuracy: 0.9517270079067832\n",
      "f1 score: 0.9666666666666667\n",
      "cm: [[50  4]\n",
      " [ 2 87]]\n",
      "*************\n"
     ]
    }
   ],
   "source": [
    "for e in estimators:\n",
    "    y_pred = e.predict(x_test)\n",
    "    \n",
    "    accuracy = accuracy_score(y_test, y_pred)\n",
    "    error_rate = (1 - accuracy)\n",
    "\n",
    "    cm = metrics.confusion_matrix(y_test, y_pred)\n",
    "    f1score = metrics.f1_score(y_test, y_pred)\n",
    "    \n",
    "    #sensitivity ou recall (true positive rate)\n",
    "    tpr = (cm[1][1] / (cm[1][1] + cm[1][0]))\n",
    "    \n",
    "    #specificity (true negative rate)\n",
    "    tnr = (cm[0][0] / (cm[0][0] + cm[0][1]))\n",
    "    \n",
    "    acc_norm = (tpr + tnr)/2\n",
    "    \n",
    "    print('Estimator {} - results:\\n*************'.format(type(e).__name__))\n",
    "    print ('accuracy:', accuracy)\n",
    "    print ('error:', error_rate)\n",
    "    print ('true positive rate, sensitivity or recall:', tpr)\n",
    "    print ('true negative rate or specificity:', tnr)\n",
    "    print ('normalized accuracy:', acc_norm)\n",
    "    print ('f1 score:', f1score)\n",
    "    print ('cm:', cm)\n",
    "    print (\"*************\")"
   ]
  },
  {
   "cell_type": "markdown",
   "metadata": {},
   "source": [
    "As pontuações mudam quando consideramos a frequência das classes?\n",
    "\n",
    "\n",
    "Ao considerar a acurácia normalizada ao invés da acurácia simples, a pontuação cai de 0.62 para 0,5 usando o classificador SVC e aumenta de 0,96 pra 0,98 usando o classificador Regressão Logística."
   ]
  },
  {
   "cell_type": "markdown",
   "metadata": {},
   "source": [
    "### Apresente um relatório das principais métricas para ambos estimadores"
   ]
  },
  {
   "cell_type": "code",
   "execution_count": 24,
   "metadata": {},
   "outputs": [
    {
     "name": "stdout",
     "output_type": "stream",
     "text": [
      "Estimator SVC - resultados:\n",
      "*************\n",
      "accuracy: 0.6223776223776224\n",
      "error: 0.3776223776223776\n",
      "true positive rate, sensitivity or recall: 1.0\n",
      "true negative rate or specificity: 0.0\n",
      "precision: 0.6223776223776224\n",
      "normalized accuracy: 0.5\n",
      "f1 score: 0.7672413793103448\n",
      "cm: [[ 0 54]\n",
      " [ 0 89]]\n",
      "*************\n",
      "Estimator LogisticRegression - resultados:\n",
      "*************\n",
      "accuracy: 0.958041958041958\n",
      "error: 0.04195804195804198\n",
      "true positive rate, sensitivity or recall: 0.9775280898876404\n",
      "true negative rate or specificity: 0.9259259259259259\n",
      "precision: 0.9560439560439561\n",
      "normalized accuracy: 0.9517270079067832\n",
      "f1 score: 0.9666666666666667\n",
      "cm: [[50  4]\n",
      " [ 2 87]]\n",
      "*************\n"
     ]
    }
   ],
   "source": [
    "for e in estimators:\n",
    "    y_pred = e.predict(x_test)\n",
    "    \n",
    "    accuracy = accuracy_score(y_test, y_pred)\n",
    "    error_rate = (1 - accuracy)\n",
    "    precision = metrics.precision_score(y_test, y_pred)\n",
    "\n",
    "    cm = metrics.confusion_matrix(y_test, y_pred)\n",
    "    f1score = metrics.f1_score(y_test, y_pred)\n",
    "\n",
    "    \n",
    "    #sensitivity ou recall\n",
    "    tpr = (cm[1][1] / (cm[1][1] + cm[1][0]))\n",
    "    \n",
    "    #specificity\n",
    "    tnr = (cm[0][0] / (cm[0][0] + cm[0][1]))\n",
    "    \n",
    "    acc_norm = (tpr + tnr)/2\n",
    "    \n",
    "    print('Estimator {} - resultados:\\n*************'.format(type(e).__name__))\n",
    "    print ('accuracy:', accuracy)\n",
    "    print ('error:', error_rate)\n",
    "    print ('true positive rate, sensitivity or recall:', tpr)\n",
    "    print ('true negative rate or specificity:', tnr)\n",
    "    print ('precision:', precision)\n",
    "    print ('normalized accuracy:', acc_norm)\n",
    "    print ('f1 score:', f1score)\n",
    "    print ('cm:', cm)\n",
    "    print (\"*************\")"
   ]
  },
  {
   "cell_type": "markdown",
   "metadata": {},
   "source": [
    "Qual estimador possui melhor *f-1 score*?\n",
    "\n",
    "Resposta:\n",
    "O estimador Regressão Logística possui um f1 score, com o valor de 0,96 (96%).\n",
    "Já o SVC apresenta um f1 score de 0,77 (77%)."
   ]
  }
 ],
 "metadata": {
  "kernelspec": {
   "display_name": "Python 3",
   "language": "python",
   "name": "python3"
  },
  "language_info": {
   "codemirror_mode": {
    "name": "ipython",
    "version": 3
   },
   "file_extension": ".py",
   "mimetype": "text/x-python",
   "name": "python",
   "nbconvert_exporter": "python",
   "pygments_lexer": "ipython3",
   "version": "3.5.2"
  }
 },
 "nbformat": 4,
 "nbformat_minor": 2
}
