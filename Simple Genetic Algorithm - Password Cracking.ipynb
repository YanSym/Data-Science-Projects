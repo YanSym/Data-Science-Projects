{
 "cells": [
  {
   "cell_type": "markdown",
   "metadata": {},
   "source": [
    "# Simple Genetic Algorithm - Password Cracking"
   ]
  },
  {
   "cell_type": "markdown",
   "metadata": {},
   "source": [
    "## Imports"
   ]
  },
  {
   "cell_type": "code",
   "execution_count": 1,
   "metadata": {},
   "outputs": [],
   "source": [
    "# Imports\n",
    "import random\n",
    "import operator\n",
    "import time\n",
    "import matplotlib.pyplot as plt"
   ]
  },
  {
   "cell_type": "markdown",
   "metadata": {},
   "source": [
    "## Helper Methods"
   ]
  },
  {
   "cell_type": "code",
   "execution_count": 2,
   "metadata": {},
   "outputs": [],
   "source": [
    "# fitness function\n",
    "def fitness (password, test_word):\n",
    "    score = 0\n",
    "    i = 0\n",
    "    while (i < len(password)):\n",
    "        if (password[i] == test_word[i]):\n",
    "            score+=1\n",
    "        i+=1\n",
    "\n",
    "    return (score * 100 / len(password))"
   ]
  },
  {
   "cell_type": "code",
   "execution_count": 3,
   "metadata": {},
   "outputs": [],
   "source": [
    "# generate individual with randomized genomes (word with random letters)\n",
    "def generateAWord(length):\n",
    "    i = 0\n",
    "    result = \"\"\n",
    "    while i < length:\n",
    "        letter = chr(97 + int(26 * random.random()))\n",
    "        result += letter\n",
    "        i +=1\n",
    "    return result\n",
    "\n",
    "# initialize population\n",
    "def generateFirstPopulation(sizePopulation, password):\n",
    "    population = []\n",
    "    i = 0\n",
    "    while i < sizePopulation:\n",
    "        population.append(generateAWord(len(password)))\n",
    "        i+=1\n",
    "        \n",
    "    return population"
   ]
  },
  {
   "cell_type": "code",
   "execution_count": 4,
   "metadata": {},
   "outputs": [],
   "source": [
    "# return fitness of each individual of the population\n",
    "def computePerfPopulation(population, password):\n",
    "    populationPerf = {}\n",
    "    for individual in population:\n",
    "        populationPerf[individual] = fitness(password, individual)\n",
    "    return sorted(populationPerf.items(), key = operator.itemgetter(1), reverse=True)\n",
    "\n",
    "# select best sample and lucky few\n",
    "def selectFromPopulation(populationSorted, best_sample, lucky_few):\n",
    "    nextGeneration = []\n",
    "    for i in range(best_sample):\n",
    "        nextGeneration.append(populationSorted[i][0])\n",
    "    for i in range(lucky_few):\n",
    "        nextGeneration.append(random.choice(populationSorted)[0])\n",
    "    random.shuffle(nextGeneration)\n",
    "    return nextGeneration"
   ]
  },
  {
   "cell_type": "code",
   "execution_count": 5,
   "metadata": {},
   "outputs": [],
   "source": [
    "#Reproduction\n",
    "def createChild(individual1, individual2):\n",
    "    child = \"\"\n",
    "    for i in range(len(individual1)):\n",
    "        if (int(100 * random.random()) < 50):\n",
    "            child += individual1[i]\n",
    "        else:\n",
    "            child += individual2[i]\n",
    "    return child\n",
    "\n",
    "def createChildren(breeders, number_of_child):\n",
    "    nextPopulation = []\n",
    "    for i in range(int(len(breeders)/2)):\n",
    "        for j in range(number_of_child):\n",
    "            nextPopulation.append(createChild(breeders[i], breeders[len(breeders) -1 -i]))\n",
    "    return nextPopulation"
   ]
  },
  {
   "cell_type": "code",
   "execution_count": 6,
   "metadata": {},
   "outputs": [],
   "source": [
    "#Mutation\n",
    "def mutateWord(word):\n",
    "    index_modification = int(random.random() * len(word))\n",
    "    if (index_modification == 0):\n",
    "        word = chr(97 + int(26 * random.random())) + word[1:]\n",
    "    else:\n",
    "        word = word[:index_modification] + chr(97 + int(26 * random.random())) + word[index_modification+1:]\n",
    "    return word\n",
    "\n",
    "def mutatePopulation(population, chance_of_mutation):\n",
    "    for i in range(len(population)):\n",
    "        if random.random() * 100 < chance_of_mutation:\n",
    "            population[i] = mutateWord(population[i])\n",
    "    return population"
   ]
  },
  {
   "cell_type": "code",
   "execution_count": 7,
   "metadata": {},
   "outputs": [],
   "source": [
    "# Next Generation\n",
    "def nextGeneration (firstGeneration, password, best_sample, lucky_few, number_of_child, chance_of_mutation):\n",
    "    populationSorted = computePerfPopulation(firstGeneration, password)\n",
    "    nextBreeders = selectFromPopulation(populationSorted, best_sample, lucky_few)\n",
    "    nextPopulation = createChildren(nextBreeders, number_of_child)\n",
    "    nextGeneration = mutatePopulation(nextPopulation, chance_of_mutation)\n",
    "    return nextGeneration\n",
    "\n",
    "def multipleGeneration(number_of_generation, password, size_population, best_sample, lucky_few, number_of_child, chance_of_mutation):\n",
    "    historic = []\n",
    "    historic.append(generateFirstPopulation(size_population, password))\n",
    "    for i in range (number_of_generation):\n",
    "        historic.append(nextGeneration(historic[i], password, best_sample, lucky_few, number_of_child, chance_of_mutation))\n",
    "    return historic"
   ]
  },
  {
   "cell_type": "code",
   "execution_count": 8,
   "metadata": {},
   "outputs": [],
   "source": [
    "#print result:\n",
    "def printSimpleResult(historic, password, number_of_generation): #bestSolution in historic. Caution not the last\n",
    "    result = getListBestIndividualFromHistorique(historic, password)[number_of_generation-1]\n",
    "    print ('Best Solution: {0} | Fitness {1}'.format(result[0], str(round(result[1],2))))"
   ]
  },
  {
   "cell_type": "code",
   "execution_count": 9,
   "metadata": {},
   "outputs": [],
   "source": [
    "#analysis tools\n",
    "def getBestIndividualFromPopulation(population, password):\n",
    "    return computePerfPopulation(population, password)[0]\n",
    "\n",
    "def getListBestIndividualFromHistorique(historic, password):\n",
    "    bestIndividuals = []\n",
    "    for population in historic:\n",
    "        bestIndividuals.append(getBestIndividualFromPopulation(population, password))\n",
    "    return bestIndividuals"
   ]
  },
  {
   "cell_type": "code",
   "execution_count": 10,
   "metadata": {},
   "outputs": [],
   "source": [
    "#graph\n",
    "def evolutionBestFitness(historic, password):\n",
    "    plt.axis([0,len(historic),0,105])\n",
    "    plt.title('Fitness of the best individual vs. Generation')\n",
    "\n",
    "    evolutionFitness = []\n",
    "    for population in historic:\n",
    "        evolutionFitness.append(getBestIndividualFromPopulation(population, password)[1])\n",
    "    plt.plot(evolutionFitness)\n",
    "    plt.ylabel('Fitness best individual')\n",
    "    plt.xlabel('Generation')\n",
    "    plt.show()\n",
    "\n",
    "def evolutionAverageFitness(historic, password, size_population):\n",
    "    plt.axis([0,len(historic),0,105])\n",
    "    plt.title('Average fitness vs. Generation')\n",
    "\n",
    "    evolutionFitness = []\n",
    "    for population in historic:\n",
    "        populationPerf = computePerfPopulation(population, password)\n",
    "        averageFitness = 0\n",
    "        for individual in populationPerf:\n",
    "            averageFitness += individual[1]\n",
    "        evolutionFitness.append(averageFitness/size_population)\n",
    "    plt.plot(evolutionFitness)\n",
    "    plt.ylabel('Average fitness')\n",
    "    plt.xlabel('Generation')\n",
    "    plt.show()"
   ]
  },
  {
   "cell_type": "markdown",
   "metadata": {},
   "source": [
    "## Evolution: Main Program"
   ]
  },
  {
   "cell_type": "code",
   "execution_count": 12,
   "metadata": {},
   "outputs": [
    {
     "name": "stdout",
     "output_type": "stream",
     "text": [
      "Password: helloworld\n",
      "Best Solution: helloworld | Fitness 100.0\n"
     ]
    },
    {
     "data": {
      "image/png": "[encoded data removed]",
      "text/plain": [
       "<Figure size 432x288 with 1 Axes>"
      ]
     },
     "metadata": {},
     "output_type": "display_data"
    },
    {
     "data": {
      "image/png": "[encoded data removed]",
      "text/plain": [
       "<Figure size 432x288 with 1 Axes>"
      ]
     },
     "metadata": {},
     "output_type": "display_data"
    },
    {
     "name": "stdout",
     "output_type": "stream",
     "text": [
      "Duration: 0.32473254203796387 seconds\n"
     ]
    }
   ],
   "source": [
    "#variables\n",
    "password = \"helloworld\"\n",
    "size_population = 100\n",
    "best_sample = 20\n",
    "lucky_few = 20\n",
    "number_of_child = 5\n",
    "number_of_generation = 100\n",
    "chance_of_mutation = 5\n",
    "\n",
    "start_time = time.time()\n",
    "\n",
    "#program\n",
    "if (((best_sample + lucky_few) / 2 * number_of_child) != size_population):\n",
    "    print (\"population size not stable\")\n",
    "\n",
    "else:\n",
    "    print ('Password: {0}'.format(password))\n",
    "    historic = multipleGeneration(number_of_generation, password, size_population, best_sample, lucky_few, number_of_child, chance_of_mutation)\n",
    "\n",
    "    printSimpleResult(historic, password, number_of_generation)\n",
    "\n",
    "    evolutionBestFitness(historic, password)\n",
    "    evolutionAverageFitness(historic, password, size_population)\n",
    "\n",
    "print ('Duration: {0} seconds'.format(time.time() - start_time))"
   ]
  }
 ],
 "metadata": {
  "kernelspec": {
   "display_name": "Python 3",
   "language": "python",
   "name": "python3"
  },
  "language_info": {
   "codemirror_mode": {
    "name": "ipython",
    "version": 3
   },
   "file_extension": ".py",
   "mimetype": "text/x-python",
   "name": "python",
   "nbconvert_exporter": "python",
   "pygments_lexer": "ipython3",
   "version": "3.6.5"
  }
 },
 "nbformat": 4,
 "nbformat_minor": 2
}
