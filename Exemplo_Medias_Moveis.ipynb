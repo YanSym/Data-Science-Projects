{
 "cells": [
  {
   "cell_type": "markdown",
   "metadata": {},
   "source": [
    "# Previsão utilizando Médias Móveis"
   ]
  },
  {
   "cell_type": "markdown",
   "metadata": {},
   "source": [
    "### Imports"
   ]
  },
  {
   "cell_type": "code",
   "execution_count": null,
   "metadata": {},
   "outputs": [],
   "source": [
    "import pandas as pd\n",
    "import numpy as np\n",
    "import matplotlib.pylab as plt\n",
    "%matplotlib inline\n",
    "from pandas.plotting import register_matplotlib_converters\n",
    "register_matplotlib_converters()\n",
    "from matplotlib.pylab import rcParams\n",
    "rcParams['figure.figsize'] = 15, 6"
   ]
  },
  {
   "cell_type": "markdown",
   "metadata": {},
   "source": [
    "### Leitura dos dados"
   ]
  },
  {
   "cell_type": "code",
   "execution_count": null,
   "metadata": {},
   "outputs": [],
   "source": [
    "dateparse = lambda dates: pd.datetime.strptime(dates, '%Y-%m')\n",
    "data = pd.read_csv('../../Dados/AirPassengers.csv', parse_dates=['Month'], index_col='Month',date_parser=dateparse)"
   ]
  },
  {
   "cell_type": "code",
   "execution_count": null,
   "metadata": {},
   "outputs": [],
   "source": [
    "data.index"
   ]
  },
  {
   "cell_type": "markdown",
   "metadata": {},
   "source": [
    "### Utilização de medias moveis para previsão"
   ]
  },
  {
   "cell_type": "code",
   "execution_count": null,
   "metadata": {},
   "outputs": [],
   "source": [
    "plt.plot(data)"
   ]
  },
  {
   "cell_type": "code",
   "execution_count": null,
   "metadata": {},
   "outputs": [],
   "source": [
    "optimal_n = None\n",
    "best_mse = None\n",
    "\n",
    "db = data[['#Passengers']].values.astype('float32')\n",
    "mean_results_for_all_possible_n_values = np.zeros(int(len(db) / 2 - 2))\n",
    "\n",
    "for n in range(3, int(len(db) / 2 + 1)):\n",
    "    mean_for_n = np.zeros(len(db) - n)\n",
    "    for i in range(0, len(db) - n):\n",
    "        previsao = np.mean(db[:, 0][i:i+n])\n",
    "        valor_observado = db[i + n][0]\n",
    "        mean_for_n[i] = np.power((previsao - valor_observado), 2)\n",
    "    mean_results_for_all_possible_n_values[n - 3] = np.mean(mean_for_n)\n",
    "optimal_n = np.argmin(mean_results_for_all_possible_n_values) + 3\n",
    "best_mse = np.min(mean_results_for_all_possible_n_values)\n",
    "\n",
    "print(\"MSE = %s\" % mean_results_for_all_possible_n_values)\n",
    "print(\"Melhor MSE = %s\" % best_mse)\n",
    "print(\"Otimo n = %s\" % optimal_n)"
   ]
  },
  {
   "cell_type": "markdown",
   "metadata": {},
   "source": [
    "### Forecasting"
   ]
  },
  {
   "cell_type": "code",
   "execution_count": null,
   "metadata": {},
   "outputs": [],
   "source": [
    "forecast = np.zeros(len(db) + 1)\n",
    "for i in range(0, optimal_n):\n",
    "    forecast[i] = db[i][0]\n",
    "for i in range(0, len(db) - optimal_n + 1):\n",
    "        forecast[i+optimal_n] = np.mean(db[:, 0][i:i+optimal_n])\n",
    "plt.plot(db[:, 0],label = 'Dados Originais')\n",
    "plt.plot(forecast, label = 'Previsão')\n",
    "plt.legend()\n",
    "plt.show()"
   ]
  }
 ],
 "metadata": {
  "kernelspec": {
   "display_name": "Python 3",
   "language": "python",
   "name": "python3"
  },
  "language_info": {
   "codemirror_mode": {
    "name": "ipython",
    "version": 3
   },
   "file_extension": ".py",
   "mimetype": "text/x-python",
   "name": "python",
   "nbconvert_exporter": "python",
   "pygments_lexer": "ipython3",
   "version": "3.8.3"
  }
 },
 "nbformat": 4,
 "nbformat_minor": 4
}
