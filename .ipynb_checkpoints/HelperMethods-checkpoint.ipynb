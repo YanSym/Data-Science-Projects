{
 "cells": [
  {
   "cell_type": "code",
   "execution_count": 7,
   "metadata": {
    "scrolled": true
   },
   "outputs": [
    {
     "name": "stdout",
     "output_type": "stream",
     "text": [
      "        col1 col2\n",
      "3  -0.092848    b\n",
      "9  -1.764106    a\n",
      "10  0.742781    b\n",
      "2   0.742781    c\n",
      "8   1.578410    c\n",
      "4   0.742781    a\n",
      "6  -0.092848    b\n",
      "7  -0.928477    a\n",
      "5  -0.928477    a\n",
      "        col1 col2\n",
      "1  -0.392232    b\n",
      "0  -0.980581    a\n",
      "11  1.372813    c\n",
      "Your selected dataframe has 2 columns.\n",
      "There are 0 columns that have missing values.\n",
      "Empty DataFrame\n",
      "Columns: [Missing Values, % of Total Values]\n",
      "Index: []\n"
     ]
    },
    {
     "name": "stderr",
     "output_type": "stream",
     "text": [
      "C:\\anaconda\\lib\\site-packages\\ipykernel_launcher.py:29: SettingWithCopyWarning: \n",
      "A value is trying to be set on a copy of a slice from a DataFrame.\n",
      "Try using .loc[row_indexer,col_indexer] = value instead\n",
      "\n",
      "See the caveats in the documentation: http://pandas.pydata.org/pandas-docs/stable/indexing.html#indexing-view-versus-copy\n",
      "C:\\anaconda\\lib\\site-packages\\ipykernel_launcher.py:30: SettingWithCopyWarning: \n",
      "A value is trying to be set on a copy of a slice from a DataFrame.\n",
      "Try using .loc[row_indexer,col_indexer] = value instead\n",
      "\n",
      "See the caveats in the documentation: http://pandas.pydata.org/pandas-docs/stable/indexing.html#indexing-view-versus-copy\n"
     ]
    }
   ],
   "source": [
    "import pandas as pd\n",
    "from sklearn.preprocessing import StandardScaler\n",
    "from sklearn.preprocessing import LabelEncoder\n",
    "from sklearn.model_selection import train_test_split\n",
    "\n",
    "# Suppress warnings \n",
    "#import warnings\n",
    "#warnings.filterwarnings('ignore')\n",
    "      \n",
    "            \n",
    "def one_hot_encode(df, list_columns_dummy):\n",
    "    le = LabelEncoder()\n",
    "    for col in list_columns_dummy:\n",
    "        if (len(list(df[col].unique())) <= 2):\n",
    "            df[col] = le.fit_transform(df[col])\n",
    "        else:\n",
    "            df_one_hot = pd.get_dummies(df[col], prefix=col)\n",
    "            df = df.drop([col], axis=1)\n",
    "            df = pd.concat([df, df_one_hot], axis=1)\n",
    "\n",
    "    return (df)\n",
    "\n",
    "\n",
    "\n",
    "def scale_data(df_train, df_test, list_columns_scale):\n",
    "    for col in list_columns_scale:\n",
    "        scaler = StandardScaler()\n",
    "        df_train[col] = scaler.fit_transform(df_train[[col]])\n",
    "        df_test[col] = scaler.fit_transform(df_test[[col]])\n",
    "\n",
    "    return (df_train, df_test)\n",
    "\n",
    "\n",
    "# Function to calculate missing values by column\n",
    "def get_missing_values(df):\n",
    "        # Total missing values\n",
    "        mis_val = df.isnull().sum()\n",
    "        \n",
    "        # Percentage of missing values\n",
    "        mis_val_percent = 100 * df.isnull().sum() / len(df)\n",
    "        \n",
    "        # Make a table with the results\n",
    "        mis_val_table = pd.concat([mis_val, mis_val_percent], axis=1)\n",
    "        \n",
    "        # Rename the columns\n",
    "        mis_val_table_ren_columns = mis_val_table.rename(\n",
    "        columns = {0 : 'Missing Values', 1 : '% of Total Values'})\n",
    "        \n",
    "        # Sort the table by percentage of missing descending\n",
    "        mis_val_table_ren_columns = mis_val_table_ren_columns[\n",
    "            mis_val_table_ren_columns.iloc[:,1] != 0].sort_values(\n",
    "        '% of Total Values', ascending=False).round(1)\n",
    "        \n",
    "        # Print some summary information\n",
    "        print (\"Your selected dataframe has \" + str(df.shape[1]) + \" columns.\\n\"      \n",
    "            \"There are \" + str(mis_val_table_ren_columns.shape[0]) +\n",
    "              \" columns that have missing values.\")\n",
    "        \n",
    "        # Return the dataframe with missing information\n",
    "        return mis_val_table_ren_columns\n",
    "\n",
    "    \n",
    "\n",
    "data_input = {'col1': [1, 2, 3, 2, 3, 1, 2, 1, 4, 0, 3, 5],\n",
    "              'col2': ['a', 'b', 'c', 'b', 'a', 'a', 'b', 'a', 'c', 'a', 'b', 'c']}\n",
    "\n",
    "df_input = pd.DataFrame(data=data_input)\n",
    "list_columns_dummy = ['col2']\n",
    "\n",
    "df_train = one_hot_encode(df_input, list_columns_dummy)\n",
    "\n",
    "df_train, df_test = train_test_split(df_input, test_size=0.2)\n",
    "\n",
    "list_columns_scale = ['col1']\n",
    "df_train, df_test = scale_data(df_train, df_test, list_columns_scale)\n",
    "\n",
    "print (df_train)\n",
    "print (df_test)\n",
    "\n",
    "df_missing = get_missing_values(df_train)\n",
    "print (df_missing)"
   ]
  },
  {
   "cell_type": "code",
   "execution_count": null,
   "metadata": {
    "collapsed": true
   },
   "outputs": [],
   "source": [
    "source: https://www.kaggle.com/willkoehrsen/start-here-a-gentle-introduction"
   ]
  },
  {
   "cell_type": "code",
   "execution_count": null,
   "metadata": {
    "collapsed": true
   },
   "outputs": [],
   "source": [
    "# Number of each type of column\n",
    "df.dtypes.value_counts()"
   ]
  },
  {
   "cell_type": "code",
   "execution_count": null,
   "metadata": {
    "collapsed": true
   },
   "outputs": [],
   "source": [
    "# Number of unique classes in each object column\n",
    "df.select_dtypes('object').apply(pd.Series.nunique, axis = 0)"
   ]
  },
  {
   "cell_type": "code",
   "execution_count": null,
   "metadata": {
    "collapsed": true
   },
   "outputs": [],
   "source": [
    "# Histogram\n",
    "app_train['TARGET'].astype(int).plot.hist()"
   ]
  },
  {
   "cell_type": "code",
   "execution_count": null,
   "metadata": {
    "collapsed": true
   },
   "outputs": [],
   "source": [
    "# Histogram\n",
    "df['var'].plot.hist(title = 'title')"
   ]
  },
  {
   "cell_type": "code",
   "execution_count": null,
   "metadata": {
    "collapsed": true
   },
   "outputs": [],
   "source": [
    "# Find Pearson correlation with the target and sort\n",
    "correlations = df.corr()['TARGET'].sort_values()"
   ]
  },
  {
   "cell_type": "code",
   "execution_count": null,
   "metadata": {
    "collapsed": true
   },
   "outputs": [],
   "source": [
    "df.describe()"
   ]
  }
 ],
 "metadata": {
  "kernelspec": {
   "display_name": "Python 3",
   "language": "python",
   "name": "python3"
  },
  "language_info": {
   "codemirror_mode": {
    "name": "ipython",
    "version": 3
   },
   "file_extension": ".py",
   "mimetype": "text/x-python",
   "name": "python",
   "nbconvert_exporter": "python",
   "pygments_lexer": "ipython3",
   "version": "3.6.6"
  }
 },
 "nbformat": 4,
 "nbformat_minor": 2
}
