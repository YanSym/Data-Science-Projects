{
 "cells": [
  {
   "cell_type": "markdown",
   "metadata": {},
   "source": [
    "<h1><center>Notebook de uso do modelo</center></h1>"
   ]
  },
  {
   "cell_type": "markdown",
   "metadata": {},
   "source": [
    "#### Autor: Yan Vianna Sym"
   ]
  },
  {
   "cell_type": "markdown",
   "metadata": {},
   "source": [
    "### Imports"
   ]
  },
  {
   "cell_type": "code",
   "execution_count": 1,
   "metadata": {},
   "outputs": [],
   "source": [
    "import json\n",
    "import requests\n",
    "import socket\n",
    "import pandas as pd\n",
    "import numpy as np\n",
    "from scipy import stats\n",
    "import warnings\n",
    "warnings.filterwarnings(\"ignore\")"
   ]
  },
  {
   "cell_type": "markdown",
   "metadata": {},
   "source": [
    "### Parametros que devem ser setados para escoragem"
   ]
  },
  {
   "cell_type": "code",
   "execution_count": 2,
   "metadata": {},
   "outputs": [],
   "source": [
    "# nome da base que desejamos escorar mensalmente\n",
    "nome_arquivo_input = 'default of credit card clients.xls'\n",
    "\n",
    "# nome da base de saída com a resposta do modelo (ligar ou não ligar)\n",
    "nome_arquivo_output = 'lista_ligacao.xlsx'"
   ]
  },
  {
   "cell_type": "markdown",
   "metadata": {},
   "source": [
    "### Variáveis globais"
   ]
  },
  {
   "cell_type": "code",
   "execution_count": 3,
   "metadata": {},
   "outputs": [],
   "source": [
    "threshold = 0.682\n",
    "taxa_conversao = 0.18\n",
    "PORT = \"8888\"\n",
    "hostname = socket.gethostname()\n",
    "CURRENT_IP = socket.gethostbyname(hostname)\n",
    "address_post = \"http://\" + CURRENT_IP + \":\" + PORT + \"/predict\"\n",
    "header = {'Content-Type': 'application/json', 'Accept': 'application/json'}\n",
    "\n",
    "dict_tipos = {'Valor':int,\n",
    "'Genero':int,\n",
    "'Grau_Educacao':int,\n",
    "'Estado_Civil':int,\n",
    "'Idade':int,\n",
    "'Status_Pagamento_1':int,\n",
    "'Status_Pagamento_2':int,\n",
    "'Status_Pagamento_3':int,\n",
    "'Status_Pagamento_4':int,\n",
    "'Status_Pagamento_5':int,\n",
    "'Status_Pagamento_6':int,\n",
    "'Conta_Valor_1':float,\n",
    "'Conta_Valor_2':float,\n",
    "'Conta_Valor_3':float,\n",
    "'Conta_Valor_4':float,\n",
    "'Conta_Valor_5':float,\n",
    "'Conta_Valor_6':float,\n",
    "'Pagamento_Valor_1':float,\n",
    "'Pagamento_Valor_2':float,\n",
    "'Pagamento_Valor_3':float,\n",
    "'Pagamento_Valor_4':float,\n",
    "'Pagamento_Valor_5':float,\n",
    "'Pagamento_Valor_6':float,\n",
    "'Pagamento_Valor_6':float}\n",
    "\n",
    "lista_colunas_leitura = ['Valor',\n",
    "'Genero',\n",
    "'Grau_Educacao',\n",
    "'Estado_Civil',\n",
    "'Idade',\n",
    "'Status_Pagamento_1',\n",
    "'Status_Pagamento_2',\n",
    "'Status_Pagamento_3',\n",
    "'Status_Pagamento_4',\n",
    "'Status_Pagamento_5',\n",
    "'Status_Pagamento_6',\n",
    "'Conta_Valor_1',\n",
    "'Conta_Valor_2',\n",
    "'Conta_Valor_3',\n",
    "'Conta_Valor_4',\n",
    "'Conta_Valor_5',\n",
    "'Conta_Valor_6',\n",
    "'Pagamento_Valor_1',\n",
    "'Pagamento_Valor_2',\n",
    "'Pagamento_Valor_3',\n",
    "'Pagamento_Valor_4',\n",
    "'Pagamento_Valor_5',\n",
    "'Pagamento_Valor_6']\n",
    "\n",
    "lista_colunas_converter_moeda = ['Valor',\n",
    "'Conta_Valor_1',\n",
    "'Conta_Valor_2',\n",
    "'Conta_Valor_3',\n",
    "'Conta_Valor_4',\n",
    "'Conta_Valor_5',\n",
    "'Conta_Valor_6',\n",
    "'Pagamento_Valor_1',\n",
    "'Pagamento_Valor_2',\n",
    "'Pagamento_Valor_3',\n",
    "'Pagamento_Valor_4',\n",
    "'Pagamento_Valor_5',\n",
    "'Pagamento_Valor_6']\n",
    "\n",
    "lista_colunas_modelo_final = ['Valor',\n",
    "'Status_Pagamento_1',\n",
    "'Conta_Slope',\n",
    "'Pagamento_Conta_5',\n",
    "'Pagamento_Valor_1',\n",
    "'Idade',\n",
    "'Pagamento_Valor_4',\n",
    "'Pagamento_Valor_2',\n",
    "'Pagamento_Conta_1',\n",
    "'Pagamento_Valor_3',\n",
    "'Pagamento_Conta_3',\n",
    "'Pagamento_Intercept',\n",
    "'Conta_Intercept',\n",
    "'Pagamento_Slope',\n",
    "'Conta_Valor_1',\n",
    "'Pagamento_Conta_2',\n",
    "'Pagamento_Conta_6',\n",
    "'Pagamento_Valor_5',\n",
    "'Pagamento_Conta_4',\n",
    "'Conta_Valor_2',\n",
    "'Status_Pagamento_6',\n",
    "'Estado_Civil',\n",
    "'Pagamento_Valor_count_1000',\n",
    "'Genero',\n",
    "'Pagamento_Valor_count_0',\n",
    "'Conta_Valor_3',\n",
    "'Status_Pagamento_3',\n",
    "'Conta_Valor_count_0',\n",
    "'Pagamento_Valor_6',\n",
    "'Conta_Valor_4',\n",
    "'Status_Pagamento_2',\n",
    "'Conta_Valor_6',\n",
    "'Grau_Educacao',\n",
    "'Status_Pagamento_5',\n",
    "'Status_Pagamento_4',\n",
    "'Conta_Valor_5',\n",
    "'Conta_Valor_count_10000']"
   ]
  },
  {
   "cell_type": "markdown",
   "metadata": {},
   "source": [
    "### Metodos customizados"
   ]
  },
  {
   "cell_type": "code",
   "execution_count": 4,
   "metadata": {},
   "outputs": [],
   "source": [
    "# Metodos customizados uteis para o problema\n",
    "class HelperClass(object):\n",
    "        \n",
    "    # estrelas\n",
    "    @staticmethod\n",
    "    def stars():\n",
    "        '''Alguns asteríscos apenas para formatação de output'''\n",
    "        print (\"*\"*30)\n",
    "        \n",
    "    \n",
    "    @staticmethod\n",
    "    def conta_regressao(df):\n",
    "        for i in range(len(df)):\n",
    "            lista_valores = [df.iloc[i][\"Conta_Valor_1\"], df.iloc[i][\"Conta_Valor_2\"], df.iloc[i][\"Conta_Valor_3\"],\n",
    "                             df.iloc[i][\"Conta_Valor_4\"], df.iloc[i][\"Conta_Valor_5\"], df.iloc[i][\"Conta_Valor_6\"]]\n",
    "            slope, intercept, _, _, _ = stats.linregress([1,2,3,4,5,6], lista_valores)\n",
    "            slope = round(slope, 2)\n",
    "            intercept = round(intercept, 2)\n",
    "            df.loc[df.index[i], \"Conta_Slope\"] = slope\n",
    "            df.loc[df.index[i], \"Conta_Intercept\"] = intercept\n",
    "        return df\n",
    "    \n",
    "    \n",
    "    @staticmethod\n",
    "    def pagamento_regressao(df):\n",
    "        for i in range(len(df)):\n",
    "            lista_valores = [df.iloc[i][\"Pagamento_Valor_1\"], df.iloc[i][\"Pagamento_Valor_2\"], df.iloc[i][\"Pagamento_Valor_3\"],\n",
    "                             df.iloc[i][\"Pagamento_Valor_4\"], df.iloc[i][\"Pagamento_Valor_5\"], df.iloc[i][\"Pagamento_Valor_6\"]]\n",
    "            slope, intercept, _, _, _ = stats.linregress([1,2,3,4,5,6], lista_valores)\n",
    "            slope = round(slope, 2)\n",
    "            intercept = round(intercept, 2)\n",
    "            df.loc[df.index[i], \"Pagamento_Slope\"] = slope\n",
    "            df.loc[df.index[i], \"Pagamento_Intercept\"] = intercept\n",
    "        return df\n",
    "\n",
    "    \n",
    "    @staticmethod\n",
    "    # conta quantos meses tiveram fatura ou pagamento menor ou igual ao threshold\n",
    "    def contagem_threshold(df):\n",
    "        data = df.copy()\n",
    "        \n",
    "        thresholds = [0,10000]\n",
    "        label = \"Conta_Valor_\"\n",
    "        \n",
    "        for threshold in thresholds:\n",
    "            for i in range(len(data)):\n",
    "                count = 0\n",
    "                for j in range(1,7):\n",
    "                    if data.loc[data.index[i], label + str(j)] <= threshold:\n",
    "                        count += 1\n",
    "                data.loc[data.index[i], label + \"count_\" + str(threshold)] = count\n",
    "                \n",
    "        thresholds = [0,1000]\n",
    "        label = \"Pagamento_Valor_\"\n",
    "        \n",
    "        for threshold in thresholds:\n",
    "            for i in range(len(data)):\n",
    "                count = 0\n",
    "                for j in range(1,7):\n",
    "                    if data.loc[data.index[i], label + str(j)] <= threshold:\n",
    "                        count += 1\n",
    "                data.loc[data.index[i], label + \"count_\" + str(threshold)] = count\n",
    "                \n",
    "        return data\n",
    "    \n",
    "    \n",
    "    @staticmethod\n",
    "    def funcao(x):\n",
    "        return float(1)/float(1+np.exp(x))\n",
    "\n",
    "    \n",
    "    @staticmethod\n",
    "    def funcao_pagamento(bill, pay):\n",
    "        if bill > 0:\n",
    "            if pay < bill:\n",
    "                result = (pay/bill)\n",
    "            else:\n",
    "                result = 1 + HelperClass.funcao(pay)\n",
    "        elif bill == 0:\n",
    "            if pay != 0:\n",
    "                result = 2 + HelperClass.funcao(pay)\n",
    "            if pay == 0:\n",
    "                result = 1\n",
    "        else:\n",
    "            if pay == 0:\n",
    "                result = 3 + HelperClass.funcao(pay)\n",
    "            if pay > 0:\n",
    "                result = 4 + HelperClass.funcao(pay) \n",
    "        return result\n",
    "    \n",
    "    \n",
    "    @staticmethod\n",
    "    # calcula porcentagem do valor que foi pago\n",
    "    def calcula_pagamento(df):\n",
    "        data = df.copy()\n",
    "        for i in range(len(data)):\n",
    "            temp = pd.DataFrame.transpose(pd.DataFrame(data=data.iloc[i]))\n",
    "            for j in range(1,7):\n",
    "                temp.loc[j] = temp.iloc[0]\n",
    "            temp[\"VAL\"] = 0\n",
    "            for j in range(1,7):\n",
    "                bill = data.loc[data.index[i], \"Conta_Valor_\" + str(j)]\n",
    "                pay = data.loc[data.index[i], \"Pagamento_Valor_\" + str(j)]\n",
    "                data.loc[data.index[i], \"Pagamento_Conta_\" + str(j)] = HelperClass.funcao_pagamento(bill, pay)\n",
    "        return data\n",
    "    \n",
    "    \n",
    "    @staticmethod\n",
    "    # metodo para implementar toda a engenharia de variaveis\n",
    "    def implementa_engenharia_variaveis(df):\n",
    "        df = HelperClass.conta_regressao(df)\n",
    "        df = HelperClass.pagamento_regressao(df)\n",
    "        df = HelperClass.contagem_threshold(df)\n",
    "        df = HelperClass.calcula_pagamento(df)\n",
    "        print ('Engenharia de variáveis finalizada...')\n",
    "        return df\n",
    "    \n",
    "    \n",
    "    @staticmethod\n",
    "    # converte moeda de NT dolares para Reais\n",
    "    def converte_moeda_reais(df, lista_colunas_converter_moeda, taxa_conversao):\n",
    "        for column in lista_colunas_converter_moeda:\n",
    "            df[column] = df[column] * taxa_conversao\n",
    "        return df\n",
    "    \n",
    "    \n",
    "    @staticmethod\n",
    "    # pre processamento da base de entrada\n",
    "    def formata_base_entrada(df):\n",
    "        # renomeia colunas da base\n",
    "        df.columns = lista_colunas_leitura\n",
    "\n",
    "        # transforma a coluna para o tipo certo\n",
    "        for column in df.columns.tolist():\n",
    "            df[column] = df[column].astype(dict_tipos[column])\n",
    "            \n",
    "        # transforma genero em binário [0, 1] para facilitar o entendimento\n",
    "        df['Genero'] = df['Genero'].map({2:1, 1:0})\n",
    "\n",
    "        # Converte a moeda de NT Dolares para Reais\n",
    "        df = HelperClass.converte_moeda_reais(df, lista_colunas_converter_moeda, taxa_conversao)\n",
    "\n",
    "        # Engenharia de variáveis\n",
    "        df = HelperClass.implementa_engenharia_variaveis(df)[lista_colunas_modelo_final]\n",
    "        \n",
    "        return df\n",
    "    \n",
    "    \n",
    "    @staticmethod\n",
    "    # monta lista de quem deve ser contactado para ofertas e renegociação e cobranças\n",
    "    def monta_lista_ligacao(resp):    \n",
    "        resp_json = resp.json()\n",
    "        lista_scores = resp_json['predictions'].replace('[', '').replace(']', '')\n",
    "        lista_scores = [float(flag) for flag in lista_scores.split(',')]\n",
    "        lista_ligar_ou_nao = ['Ligar' if valor >= threshold else 'Não Ligar' for valor in lista_scores]\n",
    "        df_lista_ligacao = pd.DataFrame({'Score':lista_scores, 'Flag_Ligar':lista_ligar_ou_nao})\n",
    "        print ('****************')\n",
    "        print (resp)\n",
    "        print ('****************')\n",
    "        print ('Lista indicando para quem a empresa deve ou não ligar:')\n",
    "        print ('****************')\n",
    "        print (lista_ligar_ou_nao)\n",
    "        return (lista_ligar_ou_nao, df_lista_ligacao)"
   ]
  },
  {
   "cell_type": "markdown",
   "metadata": {},
   "source": [
    "### Leitura e pre-processamento dos dados"
   ]
  },
  {
   "cell_type": "code",
   "execution_count": 5,
   "metadata": {},
   "outputs": [],
   "source": [
    "# quantidade de amostras da base para escorar\n",
    "# obs: não deve ser usado produtivamente, é só para exemplificar o processo de escoragem\n",
    "n = 1000"
   ]
  },
  {
   "cell_type": "code",
   "execution_count": 6,
   "metadata": {},
   "outputs": [
    {
     "name": "stdout",
     "output_type": "stream",
     "text": [
      "Engenharia de variáveis finalizada...\n",
      "Shape do dataset: (1000, 37)\n"
     ]
    }
   ],
   "source": [
    "# leitura da base\n",
    "df_input = pd.read_excel(nome_arquivo_input).iloc[1:, 1:-1].reset_index(drop=True)\n",
    "\n",
    "# Não devem existir valores NaN na base...devem ser tratados antes, caso existam\n",
    "check = !df_input.isnull().values.any()\n",
    "assert (check)\n",
    "\n",
    "# Amostra de n casos para escorar\n",
    "df_input = df_input.sample(n)\n",
    "\n",
    "# renomeia colunas (de acordo com os metadados disponibilizados) para portugês, para facilitar o entendimento\n",
    "df_input = HelperClass.formata_base_entrada(df_input)\n",
    "\n",
    "# o Dataset tem tamanho: 1000 observações e 36 variáveis explicativas\n",
    "print ('Shape do dataset:', df_input.shape)\n",
    "\n",
    "assert (df_input.shape[1] == len(lista_colunas_modelo_final))"
   ]
  },
  {
   "cell_type": "markdown",
   "metadata": {},
   "source": [
    "### Escoragem da base via API local + metodo Post"
   ]
  },
  {
   "cell_type": "code",
   "execution_count": 7,
   "metadata": {},
   "outputs": [
    {
     "name": "stdout",
     "output_type": "stream",
     "text": [
      "****************\n",
      "<Response [200]>\n",
      "****************\n",
      "Lista indicando para quem a empresa deve ou não ligar:\n",
      "****************\n",
      "['Não Ligar', 'Não Ligar', 'Não Ligar', 'Não Ligar', 'Não Ligar', 'Não Ligar', 'Ligar', 'Não Ligar', 'Não Ligar', 'Não Ligar', 'Não Ligar', 'Não Ligar', 'Ligar', 'Não Ligar', 'Ligar', 'Não Ligar', 'Não Ligar', 'Não Ligar', 'Não Ligar', 'Não Ligar', 'Não Ligar', 'Ligar', 'Não Ligar', 'Ligar', 'Não Ligar', 'Não Ligar', 'Não Ligar', 'Não Ligar', 'Não Ligar', 'Não Ligar', 'Não Ligar', 'Não Ligar', 'Não Ligar', 'Não Ligar', 'Não Ligar', 'Não Ligar', 'Não Ligar', 'Não Ligar', 'Não Ligar', 'Não Ligar', 'Não Ligar', 'Ligar', 'Não Ligar', 'Não Ligar', 'Não Ligar', 'Não Ligar', 'Não Ligar', 'Não Ligar', 'Não Ligar', 'Não Ligar', 'Não Ligar', 'Não Ligar', 'Não Ligar', 'Não Ligar', 'Não Ligar', 'Não Ligar', 'Não Ligar', 'Não Ligar', 'Não Ligar', 'Não Ligar', 'Não Ligar', 'Não Ligar', 'Não Ligar', 'Não Ligar', 'Não Ligar', 'Ligar', 'Não Ligar', 'Não Ligar', 'Não Ligar', 'Não Ligar', 'Não Ligar', 'Não Ligar', 'Não Ligar', 'Não Ligar', 'Não Ligar', 'Não Ligar', 'Não Ligar', 'Não Ligar', 'Não Ligar', 'Não Ligar', 'Não Ligar', 'Não Ligar', 'Não Ligar', 'Não Ligar', 'Não Ligar', 'Não Ligar', 'Não Ligar', 'Não Ligar', 'Não Ligar', 'Não Ligar', 'Não Ligar', 'Não Ligar', 'Não Ligar', 'Não Ligar', 'Não Ligar', 'Não Ligar', 'Não Ligar', 'Não Ligar', 'Não Ligar', 'Ligar', 'Não Ligar', 'Não Ligar', 'Não Ligar', 'Não Ligar', 'Não Ligar', 'Não Ligar', 'Não Ligar', 'Não Ligar', 'Não Ligar', 'Não Ligar', 'Não Ligar', 'Não Ligar', 'Não Ligar', 'Não Ligar', 'Não Ligar', 'Não Ligar', 'Não Ligar', 'Não Ligar', 'Não Ligar', 'Não Ligar', 'Não Ligar', 'Não Ligar', 'Não Ligar', 'Não Ligar', 'Não Ligar', 'Não Ligar', 'Não Ligar', 'Não Ligar', 'Não Ligar', 'Não Ligar', 'Não Ligar', 'Não Ligar', 'Não Ligar', 'Não Ligar', 'Ligar', 'Não Ligar', 'Ligar', 'Não Ligar', 'Não Ligar', 'Não Ligar', 'Não Ligar', 'Ligar', 'Não Ligar', 'Não Ligar', 'Não Ligar', 'Não Ligar', 'Não Ligar', 'Não Ligar', 'Não Ligar', 'Não Ligar', 'Não Ligar', 'Não Ligar', 'Ligar', 'Não Ligar', 'Não Ligar', 'Não Ligar', 'Não Ligar', 'Não Ligar', 'Não Ligar', 'Não Ligar', 'Ligar', 'Ligar', 'Não Ligar', 'Não Ligar', 'Não Ligar', 'Não Ligar', 'Não Ligar', 'Não Ligar', 'Não Ligar', 'Não Ligar', 'Não Ligar', 'Não Ligar', 'Não Ligar', 'Não Ligar', 'Não Ligar', 'Não Ligar', 'Não Ligar', 'Não Ligar', 'Não Ligar', 'Não Ligar', 'Não Ligar', 'Não Ligar', 'Ligar', 'Não Ligar', 'Não Ligar', 'Não Ligar', 'Não Ligar', 'Não Ligar', 'Não Ligar', 'Não Ligar', 'Ligar', 'Não Ligar', 'Não Ligar', 'Não Ligar', 'Não Ligar', 'Não Ligar', 'Não Ligar', 'Não Ligar', 'Não Ligar', 'Não Ligar', 'Não Ligar', 'Não Ligar', 'Não Ligar', 'Ligar', 'Ligar', 'Não Ligar', 'Não Ligar', 'Não Ligar', 'Não Ligar', 'Não Ligar', 'Não Ligar', 'Não Ligar', 'Não Ligar', 'Não Ligar', 'Não Ligar', 'Ligar', 'Não Ligar', 'Não Ligar', 'Não Ligar', 'Não Ligar', 'Não Ligar', 'Não Ligar', 'Não Ligar', 'Não Ligar', 'Não Ligar', 'Não Ligar', 'Não Ligar', 'Não Ligar', 'Não Ligar', 'Não Ligar', 'Não Ligar', 'Não Ligar', 'Não Ligar', 'Não Ligar', 'Não Ligar', 'Não Ligar', 'Não Ligar', 'Não Ligar', 'Não Ligar', 'Não Ligar', 'Não Ligar', 'Não Ligar', 'Não Ligar', 'Ligar', 'Não Ligar', 'Não Ligar', 'Não Ligar', 'Não Ligar', 'Não Ligar', 'Não Ligar', 'Ligar', 'Não Ligar', 'Não Ligar', 'Não Ligar', 'Não Ligar', 'Não Ligar', 'Não Ligar', 'Não Ligar', 'Não Ligar', 'Não Ligar', 'Não Ligar', 'Não Ligar', 'Não Ligar', 'Ligar', 'Não Ligar', 'Não Ligar', 'Não Ligar', 'Não Ligar', 'Não Ligar', 'Não Ligar', 'Não Ligar', 'Não Ligar', 'Não Ligar', 'Não Ligar', 'Não Ligar', 'Não Ligar', 'Ligar', 'Não Ligar', 'Não Ligar', 'Não Ligar', 'Não Ligar', 'Não Ligar', 'Não Ligar', 'Não Ligar', 'Não Ligar', 'Não Ligar', 'Não Ligar', 'Não Ligar', 'Não Ligar', 'Não Ligar', 'Não Ligar', 'Não Ligar', 'Não Ligar', 'Não Ligar', 'Não Ligar', 'Não Ligar', 'Não Ligar', 'Não Ligar', 'Não Ligar', 'Não Ligar', 'Não Ligar', 'Não Ligar', 'Não Ligar', 'Não Ligar', 'Não Ligar', 'Não Ligar', 'Não Ligar', 'Não Ligar', 'Não Ligar', 'Não Ligar', 'Não Ligar', 'Não Ligar', 'Ligar', 'Não Ligar', 'Não Ligar', 'Não Ligar', 'Não Ligar', 'Não Ligar', 'Não Ligar', 'Não Ligar', 'Não Ligar', 'Não Ligar', 'Não Ligar', 'Ligar', 'Não Ligar', 'Não Ligar', 'Não Ligar', 'Não Ligar', 'Não Ligar', 'Não Ligar', 'Não Ligar', 'Não Ligar', 'Não Ligar', 'Não Ligar', 'Não Ligar', 'Não Ligar', 'Não Ligar', 'Não Ligar', 'Não Ligar', 'Não Ligar', 'Não Ligar', 'Ligar', 'Não Ligar', 'Não Ligar', 'Não Ligar', 'Não Ligar', 'Não Ligar', 'Não Ligar', 'Não Ligar', 'Não Ligar', 'Não Ligar', 'Não Ligar', 'Não Ligar', 'Ligar', 'Não Ligar', 'Não Ligar', 'Não Ligar', 'Não Ligar', 'Não Ligar', 'Não Ligar', 'Não Ligar', 'Não Ligar', 'Não Ligar', 'Não Ligar', 'Não Ligar', 'Não Ligar', 'Ligar', 'Não Ligar', 'Não Ligar', 'Não Ligar', 'Não Ligar', 'Não Ligar', 'Não Ligar', 'Não Ligar', 'Não Ligar', 'Não Ligar', 'Ligar', 'Não Ligar', 'Não Ligar', 'Não Ligar', 'Não Ligar', 'Não Ligar', 'Não Ligar', 'Não Ligar', 'Não Ligar', 'Não Ligar', 'Não Ligar', 'Não Ligar', 'Não Ligar', 'Não Ligar', 'Não Ligar', 'Não Ligar', 'Não Ligar', 'Não Ligar', 'Não Ligar', 'Não Ligar', 'Não Ligar', 'Não Ligar', 'Não Ligar', 'Não Ligar', 'Não Ligar', 'Não Ligar', 'Não Ligar', 'Não Ligar', 'Não Ligar', 'Não Ligar', 'Não Ligar', 'Não Ligar', 'Não Ligar', 'Não Ligar', 'Não Ligar', 'Não Ligar', 'Não Ligar', 'Não Ligar', 'Não Ligar', 'Não Ligar', 'Não Ligar', 'Não Ligar', 'Não Ligar', 'Não Ligar', 'Não Ligar', 'Não Ligar', 'Não Ligar', 'Não Ligar', 'Não Ligar', 'Não Ligar', 'Não Ligar', 'Não Ligar', 'Não Ligar', 'Não Ligar', 'Não Ligar', 'Não Ligar', 'Não Ligar', 'Não Ligar', 'Não Ligar', 'Não Ligar', 'Não Ligar', 'Não Ligar', 'Não Ligar', 'Não Ligar', 'Não Ligar', 'Não Ligar', 'Ligar', 'Não Ligar', 'Não Ligar', 'Não Ligar', 'Não Ligar', 'Não Ligar', 'Não Ligar', 'Não Ligar', 'Não Ligar', 'Não Ligar', 'Não Ligar', 'Não Ligar', 'Não Ligar', 'Não Ligar', 'Não Ligar', 'Não Ligar', 'Não Ligar', 'Não Ligar', 'Não Ligar', 'Não Ligar', 'Não Ligar', 'Não Ligar', 'Não Ligar', 'Não Ligar', 'Não Ligar', 'Não Ligar', 'Não Ligar', 'Ligar', 'Não Ligar', 'Não Ligar', 'Ligar', 'Não Ligar', 'Não Ligar', 'Não Ligar', 'Não Ligar', 'Não Ligar', 'Não Ligar', 'Não Ligar', 'Não Ligar', 'Não Ligar', 'Não Ligar', 'Não Ligar', 'Não Ligar', 'Não Ligar', 'Não Ligar', 'Não Ligar', 'Não Ligar', 'Não Ligar', 'Não Ligar', 'Não Ligar', 'Não Ligar', 'Não Ligar', 'Não Ligar', 'Não Ligar', 'Não Ligar', 'Não Ligar', 'Não Ligar', 'Não Ligar', 'Não Ligar', 'Não Ligar', 'Não Ligar', 'Não Ligar', 'Não Ligar', 'Não Ligar', 'Não Ligar', 'Não Ligar', 'Não Ligar', 'Não Ligar', 'Não Ligar', 'Não Ligar', 'Não Ligar', 'Não Ligar', 'Não Ligar', 'Ligar', 'Não Ligar', 'Não Ligar', 'Não Ligar', 'Não Ligar', 'Não Ligar', 'Não Ligar', 'Não Ligar', 'Ligar', 'Não Ligar', 'Não Ligar', 'Não Ligar', 'Não Ligar', 'Não Ligar', 'Não Ligar', 'Não Ligar', 'Não Ligar', 'Não Ligar', 'Não Ligar', 'Não Ligar', 'Ligar', 'Não Ligar', 'Não Ligar', 'Não Ligar', 'Não Ligar', 'Não Ligar', 'Não Ligar', 'Não Ligar', 'Ligar', 'Não Ligar', 'Não Ligar', 'Não Ligar', 'Não Ligar', 'Não Ligar', 'Não Ligar', 'Não Ligar', 'Não Ligar', 'Não Ligar', 'Não Ligar', 'Não Ligar', 'Não Ligar', 'Não Ligar', 'Não Ligar', 'Não Ligar', 'Não Ligar', 'Não Ligar', 'Não Ligar', 'Não Ligar', 'Não Ligar', 'Não Ligar', 'Não Ligar', 'Não Ligar', 'Não Ligar', 'Não Ligar', 'Não Ligar', 'Não Ligar', 'Não Ligar', 'Não Ligar', 'Não Ligar', 'Não Ligar', 'Não Ligar', 'Não Ligar', 'Não Ligar', 'Não Ligar', 'Não Ligar', 'Não Ligar', 'Não Ligar', 'Não Ligar', 'Ligar', 'Não Ligar', 'Não Ligar', 'Não Ligar', 'Não Ligar', 'Não Ligar', 'Ligar', 'Não Ligar', 'Não Ligar', 'Não Ligar', 'Não Ligar', 'Não Ligar', 'Não Ligar', 'Não Ligar', 'Não Ligar', 'Não Ligar', 'Não Ligar', 'Não Ligar', 'Não Ligar', 'Não Ligar', 'Não Ligar', 'Não Ligar', 'Não Ligar', 'Não Ligar', 'Não Ligar', 'Não Ligar', 'Ligar', 'Não Ligar', 'Ligar', 'Não Ligar', 'Não Ligar', 'Não Ligar', 'Não Ligar', 'Não Ligar', 'Não Ligar', 'Não Ligar', 'Não Ligar', 'Não Ligar', 'Não Ligar', 'Não Ligar', 'Não Ligar', 'Não Ligar', 'Não Ligar', 'Não Ligar', 'Ligar', 'Ligar', 'Ligar', 'Não Ligar', 'Não Ligar', 'Não Ligar', 'Não Ligar', 'Não Ligar', 'Não Ligar', 'Não Ligar', 'Não Ligar', 'Não Ligar', 'Não Ligar', 'Não Ligar', 'Não Ligar', 'Não Ligar', 'Não Ligar', 'Não Ligar', 'Não Ligar', 'Não Ligar', 'Não Ligar', 'Não Ligar', 'Não Ligar', 'Não Ligar', 'Não Ligar', 'Não Ligar', 'Não Ligar', 'Não Ligar', 'Não Ligar', 'Não Ligar', 'Não Ligar', 'Não Ligar', 'Não Ligar', 'Não Ligar', 'Não Ligar', 'Não Ligar', 'Não Ligar', 'Não Ligar', 'Não Ligar', 'Não Ligar', 'Não Ligar', 'Não Ligar', 'Não Ligar', 'Não Ligar', 'Não Ligar', 'Não Ligar', 'Não Ligar', 'Não Ligar', 'Não Ligar', 'Não Ligar', 'Não Ligar', 'Não Ligar', 'Não Ligar', 'Não Ligar', 'Não Ligar', 'Não Ligar', 'Não Ligar', 'Não Ligar', 'Não Ligar', 'Não Ligar', 'Não Ligar', 'Não Ligar', 'Não Ligar', 'Não Ligar', 'Não Ligar', 'Não Ligar', 'Não Ligar', 'Não Ligar', 'Não Ligar', 'Não Ligar', 'Não Ligar', 'Não Ligar', 'Não Ligar', 'Não Ligar', 'Não Ligar', 'Não Ligar', 'Não Ligar', 'Não Ligar', 'Não Ligar', 'Não Ligar', 'Não Ligar', 'Não Ligar', 'Não Ligar', 'Não Ligar', 'Não Ligar', 'Não Ligar', 'Não Ligar', 'Não Ligar', 'Não Ligar', 'Não Ligar', 'Ligar', 'Não Ligar', 'Não Ligar', 'Não Ligar', 'Ligar', 'Não Ligar', 'Não Ligar', 'Não Ligar', 'Não Ligar', 'Não Ligar', 'Não Ligar', 'Não Ligar', 'Não Ligar', 'Não Ligar', 'Não Ligar', 'Não Ligar', 'Não Ligar', 'Não Ligar', 'Não Ligar', 'Ligar', 'Não Ligar', 'Não Ligar', 'Não Ligar', 'Não Ligar', 'Não Ligar', 'Não Ligar', 'Não Ligar', 'Não Ligar', 'Não Ligar', 'Não Ligar', 'Não Ligar', 'Não Ligar', 'Não Ligar', 'Não Ligar', 'Não Ligar', 'Não Ligar', 'Não Ligar', 'Não Ligar', 'Não Ligar', 'Não Ligar', 'Não Ligar', 'Não Ligar', 'Não Ligar', 'Não Ligar', 'Não Ligar', 'Não Ligar', 'Não Ligar', 'Não Ligar', 'Não Ligar', 'Não Ligar', 'Ligar', 'Não Ligar', 'Não Ligar', 'Não Ligar', 'Não Ligar', 'Não Ligar', 'Não Ligar', 'Não Ligar', 'Não Ligar', 'Não Ligar', 'Não Ligar', 'Ligar', 'Não Ligar', 'Não Ligar', 'Não Ligar', 'Não Ligar', 'Não Ligar', 'Não Ligar', 'Não Ligar', 'Não Ligar', 'Não Ligar', 'Não Ligar', 'Não Ligar', 'Ligar', 'Não Ligar', 'Não Ligar', 'Não Ligar', 'Não Ligar', 'Não Ligar', 'Não Ligar', 'Não Ligar', 'Ligar', 'Não Ligar', 'Não Ligar', 'Não Ligar', 'Não Ligar', 'Não Ligar', 'Ligar', 'Não Ligar', 'Não Ligar', 'Não Ligar', 'Não Ligar', 'Não Ligar', 'Não Ligar', 'Ligar', 'Não Ligar', 'Não Ligar', 'Não Ligar', 'Não Ligar', 'Não Ligar', 'Não Ligar', 'Não Ligar', 'Não Ligar', 'Não Ligar', 'Não Ligar', 'Não Ligar', 'Ligar', 'Não Ligar', 'Não Ligar', 'Não Ligar', 'Não Ligar', 'Não Ligar', 'Não Ligar', 'Não Ligar', 'Não Ligar', 'Não Ligar', 'Não Ligar', 'Não Ligar', 'Não Ligar', 'Não Ligar', 'Não Ligar', 'Não Ligar', 'Não Ligar', 'Ligar', 'Ligar', 'Não Ligar', 'Não Ligar', 'Ligar', 'Não Ligar', 'Não Ligar', 'Não Ligar', 'Ligar', 'Ligar', 'Não Ligar', 'Não Ligar', 'Não Ligar', 'Não Ligar', 'Não Ligar', 'Não Ligar', 'Não Ligar', 'Não Ligar', 'Não Ligar', 'Não Ligar', 'Não Ligar', 'Não Ligar', 'Não Ligar', 'Não Ligar', 'Não Ligar', 'Não Ligar', 'Não Ligar', 'Ligar', 'Não Ligar', 'Não Ligar', 'Não Ligar', 'Não Ligar', 'Ligar', 'Não Ligar', 'Não Ligar', 'Ligar', 'Não Ligar', 'Ligar', 'Não Ligar', 'Não Ligar', 'Não Ligar', 'Não Ligar', 'Não Ligar', 'Não Ligar', 'Não Ligar', 'Não Ligar', 'Não Ligar', 'Não Ligar', 'Não Ligar', 'Não Ligar', 'Ligar', 'Não Ligar', 'Não Ligar', 'Não Ligar', 'Não Ligar', 'Não Ligar', 'Ligar', 'Não Ligar', 'Não Ligar', 'Não Ligar', 'Não Ligar', 'Não Ligar', 'Não Ligar', 'Não Ligar', 'Não Ligar', 'Não Ligar', 'Não Ligar', 'Não Ligar', 'Não Ligar', 'Não Ligar', 'Não Ligar', 'Ligar', 'Não Ligar', 'Não Ligar', 'Não Ligar', 'Não Ligar', 'Não Ligar', 'Não Ligar', 'Não Ligar', 'Não Ligar', 'Não Ligar', 'Não Ligar', 'Não Ligar', 'Não Ligar', 'Não Ligar', 'Ligar', 'Não Ligar', 'Não Ligar', 'Não Ligar', 'Não Ligar', 'Ligar', 'Não Ligar', 'Não Ligar', 'Não Ligar', 'Não Ligar', 'Não Ligar', 'Não Ligar', 'Não Ligar', 'Não Ligar', 'Não Ligar', 'Não Ligar', 'Não Ligar', 'Não Ligar', 'Não Ligar', 'Não Ligar', 'Não Ligar', 'Não Ligar', 'Não Ligar', 'Não Ligar', 'Não Ligar', 'Não Ligar', 'Não Ligar', 'Não Ligar', 'Não Ligar', 'Não Ligar', 'Não Ligar', 'Não Ligar', 'Não Ligar', 'Não Ligar', 'Ligar', 'Não Ligar', 'Ligar', 'Não Ligar', 'Não Ligar', 'Não Ligar', 'Não Ligar', 'Não Ligar', 'Não Ligar', 'Não Ligar', 'Ligar', 'Não Ligar', 'Não Ligar', 'Não Ligar', 'Não Ligar', 'Não Ligar', 'Não Ligar', 'Não Ligar', 'Não Ligar', 'Não Ligar', 'Não Ligar', 'Não Ligar', 'Não Ligar', 'Não Ligar', 'Não Ligar', 'Não Ligar', 'Não Ligar', 'Não Ligar', 'Não Ligar', 'Ligar', 'Não Ligar', 'Não Ligar', 'Não Ligar', 'Não Ligar', 'Não Ligar', 'Ligar', 'Não Ligar', 'Não Ligar', 'Não Ligar', 'Não Ligar', 'Não Ligar']\n"
     ]
    }
   ],
   "source": [
    "base_escorar = pd.DataFrame(df_input).to_json(orient='records')\n",
    "resp = requests.post(address_post, data=json.dumps(base_escorar), headers=header)\n",
    "\n",
    "try:\n",
    "    lista_ligacao, df_lista_ligacao = HelperClass.monta_lista_ligacao(resp)\n",
    "    df_lista_ligacao.to_excel(nome_arquivo_output, index=False)\n",
    "\n",
    "except Exception as e:\n",
    "    print ('Erro de processamento...')\n",
    "    print ('Erro:', e)"
   ]
  },
  {
   "cell_type": "code",
   "execution_count": 8,
   "metadata": {},
   "outputs": [
    {
     "name": "stdout",
     "output_type": "stream",
     "text": [
      "Não Ligar    0.928\n",
      "Ligar        0.072\n",
      "Name: Flag_Ligar, dtype: float64\n"
     ]
    },
    {
     "data": {
      "text/plain": [
       "<matplotlib.axes._subplots.AxesSubplot at 0x27c97cdd220>"
      ]
     },
     "execution_count": 8,
     "metadata": {},
     "output_type": "execute_result"
    },
    {
     "data": {
      "image/png": "[encoded data removed]",
      "text/plain": [
       "<Figure size 432x288 with 1 Axes>"
      ]
     },
     "metadata": {
      "needs_background": "light"
     },
     "output_type": "display_data"
    }
   ],
   "source": [
    "# distribuição de ligar vs. não ligar\n",
    "# porcentagem da base que será contactada: ~95%\n",
    "print (df_lista_ligacao['Flag_Ligar'].value_counts(dropna=False, normalize=True))\n",
    "df_plot = df_lista_ligacao['Flag_Ligar'].value_counts(dropna=False, normalize=True)\n",
    "df_plot.plot(kind='bar')"
   ]
  }
 ],
 "metadata": {
  "kernelspec": {
   "display_name": "Python 3",
   "language": "python",
   "name": "python3"
  },
  "language_info": {
   "codemirror_mode": {
    "name": "ipython",
    "version": 3
   },
   "file_extension": ".py",
   "mimetype": "text/x-python",
   "name": "python",
   "nbconvert_exporter": "python",
   "pygments_lexer": "ipython3",
   "version": "3.8.3"
  }
 },
 "nbformat": 4,
 "nbformat_minor": 4
}
