{
 "cells": [
  {
   "cell_type": "markdown",
   "metadata": {},
   "source": [
    "## NLP: Natural Language Processing\n",
    "### Analise de sentimentos"
   ]
  },
  {
   "cell_type": "markdown",
   "metadata": {},
   "source": [
    "<img src=\"https://miro.medium.com/max/960/0*xLRsbQ02J7sQpNNy\" width=400 height=400/>"
   ]
  },
  {
   "cell_type": "markdown",
   "metadata": {},
   "source": [
    "### Imports"
   ]
  },
  {
   "cell_type": "code",
   "execution_count": 1,
   "metadata": {},
   "outputs": [
    {
     "name": "stderr",
     "output_type": "stream",
     "text": [
      "Using TensorFlow backend.\n",
      "<ipython-input-1-eae617846774>:26: DeprecationWarning: `import kerastuner` is deprecated, please use `import keras_tuner`.\n",
      "  import kerastuner as kt\n"
     ]
    }
   ],
   "source": [
    "import pandas as pd\n",
    "import numpy as np\n",
    "from IPython.display import Image\n",
    "import matplotlib.pyplot as plt\n",
    "import seaborn as sns\n",
    "from random import sample\n",
    "from numpy import array\n",
    "from numpy import asarray\n",
    "from numpy import zeros\n",
    "import re\n",
    "import nltk\n",
    "from sklearn.metrics import accuracy_score\n",
    "from nltk.corpus import stopwords\n",
    "from nltk.stem import PorterStemmer\n",
    "from nltk.stem import LancasterStemmer\n",
    "from sklearn.feature_extraction.text import CountVectorizer, TfidfVectorizer\n",
    "from sklearn.linear_model import LogisticRegression\n",
    "from sklearn.naive_bayes import GaussianNB\n",
    "from sklearn.tree import DecisionTreeClassifier\n",
    "from sklearn.ensemble import RandomForestClassifier\n",
    "from sklearn.model_selection import train_test_split\n",
    "from tensorflow.keras.models import load_model\n",
    "from keras.preprocessing.sequence import pad_sequences\n",
    "from keras.preprocessing.text import Tokenizer\n",
    "from tensorflow import keras\n",
    "import kerastuner as kt\n",
    "from tensorflow.keras.layers import Activation, Dropout, Dense, Embedding\n",
    "from tensorflow.keras.layers import Flatten, Conv1D, GlobalMaxPooling1D, LSTM, SimpleRNN, SpatialDropout1D\n",
    "from tensorflow.keras.models import Sequential\n",
    "from tensorflow.keras.callbacks import EarlyStopping, ModelCheckpoint\n",
    "from transformers import BertTokenizer, TFBertForSequenceClassification\n",
    "from transformers import InputExample, InputFeatures\n",
    "#from kerastuner.tuners import BayesianOptimization\n",
    "#nltk.download('stopwords')"
   ]
  },
  {
   "cell_type": "markdown",
   "metadata": {},
   "source": [
    "### Métodos"
   ]
  },
  {
   "cell_type": "code",
   "execution_count": 2,
   "metadata": {},
   "outputs": [],
   "source": [
    "TAG_RE = re.compile(r'<[^>]+>')\n",
    "list_stop_words = set(stopwords.words('english'))\n",
    "    \n",
    "# plot resultados\n",
    "def plot_results(history):\n",
    "    # acuracia\n",
    "    plt.plot(history.history['acc'])\n",
    "    plt.plot(history.history['val_acc'])\n",
    "    plt.title('model accuracy')\n",
    "    plt.ylabel('accuracy')\n",
    "    plt.xlabel('epoch')\n",
    "    plt.legend(['train','test'], loc='upper left')\n",
    "    plt.show()\n",
    "\n",
    "    # loss\n",
    "    plt.plot(history.history['loss'])\n",
    "    plt.plot(history.history['val_loss'])\n",
    "    plt.title('model loss')\n",
    "    plt.ylabel('loss')\n",
    "    plt.xlabel('epoch')\n",
    "    plt.legend(['train','test'], loc='upper left')\n",
    "    plt.show()\n",
    "\n",
    "\n",
    "# pre-processamento\n",
    "def preprocess_text(sen):\n",
    "    \n",
    "    # Removing html tags\n",
    "    sentence = TAG_RE.sub('', sen)\n",
    "\n",
    "    # Remove punctuations and numbers\n",
    "    sentence = re.sub('[^a-zA-Z]', ' ', sentence)\n",
    "\n",
    "    # Single character removal\n",
    "    sentence = re.sub(r\"\\s+[a-zA-Z]\\s+\", ' ', sentence)\n",
    "\n",
    "    # Removing multiple spaces\n",
    "    sentence = re.sub(r'\\s+', ' ', sentence)\n",
    "    \n",
    "    # lowercase\n",
    "    sentence = sentence.lower()\n",
    "    \n",
    "    # remove stopwords\n",
    "    #sentence = [w for w in sentence if w not in list_stop_words]\n",
    "\n",
    "    return sentence"
   ]
  },
  {
   "cell_type": "markdown",
   "metadata": {},
   "source": [
    "### Dataset"
   ]
  },
  {
   "cell_type": "code",
   "execution_count": 3,
   "metadata": {},
   "outputs": [
    {
     "name": "stdout",
     "output_type": "stream",
     "text": [
      "False\n",
      "(50000, 2)\n",
      "(25000, 2)\n"
     ]
    },
    {
     "data": {
      "text/html": [
       "<div>\n",
       "<style scoped>\n",
       "    .dataframe tbody tr th:only-of-type {\n",
       "        vertical-align: middle;\n",
       "    }\n",
       "\n",
       "    .dataframe tbody tr th {\n",
       "        vertical-align: top;\n",
       "    }\n",
       "\n",
       "    .dataframe thead th {\n",
       "        text-align: right;\n",
       "    }\n",
       "</style>\n",
       "<table border=\"1\" class=\"dataframe\">\n",
       "  <thead>\n",
       "    <tr style=\"text-align: right;\">\n",
       "      <th></th>\n",
       "      <th>review</th>\n",
       "      <th>sentiment</th>\n",
       "    </tr>\n",
       "  </thead>\n",
       "  <tbody>\n",
       "    <tr>\n",
       "      <th>3055</th>\n",
       "      <td>Trio's vignettes were insightful and quite enj...</td>\n",
       "      <td>positive</td>\n",
       "    </tr>\n",
       "    <tr>\n",
       "      <th>47326</th>\n",
       "      <td>I had never heard of this one before the owner...</td>\n",
       "      <td>negative</td>\n",
       "    </tr>\n",
       "    <tr>\n",
       "      <th>48869</th>\n",
       "      <td>This is an excellent but hard to find trippy W...</td>\n",
       "      <td>positive</td>\n",
       "    </tr>\n",
       "    <tr>\n",
       "      <th>48623</th>\n",
       "      <td>I am a huge fan of big, loud, trashy, complete...</td>\n",
       "      <td>positive</td>\n",
       "    </tr>\n",
       "    <tr>\n",
       "      <th>39657</th>\n",
       "      <td>Easily Lucio Fulci's most respected film, \"Don...</td>\n",
       "      <td>positive</td>\n",
       "    </tr>\n",
       "  </tbody>\n",
       "</table>\n",
       "</div>"
      ],
      "text/plain": [
       "                                                  review sentiment\n",
       "3055   Trio's vignettes were insightful and quite enj...  positive\n",
       "47326  I had never heard of this one before the owner...  negative\n",
       "48869  This is an excellent but hard to find trippy W...  positive\n",
       "48623  I am a huge fan of big, loud, trashy, complete...  positive\n",
       "39657  Easily Lucio Fulci's most respected film, \"Don...  positive"
      ]
     },
     "execution_count": 3,
     "metadata": {},
     "output_type": "execute_result"
    }
   ],
   "source": [
    "movie_reviews = pd.read_csv(\"data/IMDB Dataset.csv\")\n",
    "print (movie_reviews.isnull().values.any())\n",
    "print (movie_reviews.shape)\n",
    "\n",
    "# amostra\n",
    "movie_reviews, _ = train_test_split(movie_reviews, train_size=0.5, random_state=42, stratify=movie_reviews['sentiment'])\n",
    "print (movie_reviews.shape)\n",
    "movie_reviews.head()"
   ]
  },
  {
   "cell_type": "markdown",
   "metadata": {},
   "source": [
    "### Analises"
   ]
  },
  {
   "cell_type": "code",
   "execution_count": 4,
   "metadata": {},
   "outputs": [
    {
     "name": "stdout",
     "output_type": "stream",
     "text": [
      "negative    12500\n",
      "positive    12500\n",
      "Name: sentiment, dtype: int64\n"
     ]
    },
    {
     "data": {
      "text/plain": [
       "<matplotlib.axes._subplots.AxesSubplot at 0x1ff39fd51f0>"
      ]
     },
     "execution_count": 4,
     "metadata": {},
     "output_type": "execute_result"
    },
    {
     "data": {
      "image/png": "[encoded data removed]",
      "text/plain": [
       "<Figure size 432x288 with 1 Axes>"
      ]
     },
     "metadata": {
      "needs_background": "light"
     },
     "output_type": "display_data"
    }
   ],
   "source": [
    "print (movie_reviews['sentiment'].value_counts(dropna=False))\n",
    "sns.countplot(x='sentiment', data=movie_reviews)"
   ]
  },
  {
   "cell_type": "markdown",
   "metadata": {},
   "source": [
    "### Pre-processamento"
   ]
  },
  {
   "cell_type": "code",
   "execution_count": 5,
   "metadata": {},
   "outputs": [],
   "source": [
    "X = []\n",
    "sentences = list(movie_reviews['review'])\n",
    "for sen in sentences:\n",
    "    X.append(preprocess_text(sen))\n",
    "    \n",
    "y = movie_reviews['sentiment']\n",
    "y = np.array(list(map(lambda x: 1 if x==\"positive\" else 0, y)))"
   ]
  },
  {
   "cell_type": "markdown",
   "metadata": {},
   "source": [
    "### Separa dados em treino e teste"
   ]
  },
  {
   "cell_type": "code",
   "execution_count": 6,
   "metadata": {},
   "outputs": [],
   "source": [
    "# treino e teste\n",
    "X_train, X_test, y_train, y_test = train_test_split(X, y, test_size=0.20, random_state=42)\n",
    "X_val_tmp, X_test_tmp, y_val_tmp, y_test_tmp = train_test_split(X_test, y_test, test_size=0.20, random_state=42)"
   ]
  },
  {
   "cell_type": "markdown",
   "metadata": {},
   "source": [
    "### Tokenizer"
   ]
  },
  {
   "cell_type": "code",
   "execution_count": 7,
   "metadata": {},
   "outputs": [],
   "source": [
    "tokenizer = Tokenizer(num_words=5000)\n",
    "tokenizer.fit_on_texts(X_train)\n",
    "\n",
    "X_train = tokenizer.texts_to_sequences(X_train)\n",
    "X_test = tokenizer.texts_to_sequences(X_test)\n",
    "X_val_tmp = tokenizer.texts_to_sequences(X_val_tmp)\n",
    "X_test_tmp = tokenizer.texts_to_sequences(X_test_tmp)\n",
    "\n",
    "# Adding 1 because of reserved 0 index\n",
    "vocab_size = len(tokenizer.word_index) + 1\n",
    "maxlen = 100\n",
    "\n",
    "X_train = pad_sequences(X_train, padding='post', maxlen=maxlen)\n",
    "X_test = pad_sequences(X_test, padding='post', maxlen=maxlen)\n",
    "X_val_tmp = pad_sequences(X_val_tmp, padding='post', maxlen=maxlen)\n",
    "X_test_tmp = pad_sequences(X_test_tmp, padding='post', maxlen=maxlen)"
   ]
  },
  {
   "cell_type": "markdown",
   "metadata": {},
   "source": [
    "## Modelos com Bag of Words"
   ]
  },
  {
   "cell_type": "markdown",
   "metadata": {},
   "source": [
    "### Bag of Words"
   ]
  },
  {
   "cell_type": "markdown",
   "metadata": {},
   "source": [
    "<img src=\"https://i.ibb.co/j5Dj80T/bad.png\" width=400 height=400/>"
   ]
  },
  {
   "cell_type": "code",
   "execution_count": 8,
   "metadata": {
    "scrolled": true
   },
   "outputs": [],
   "source": [
    "X_train_str = []\n",
    "for lista in X_train:\n",
    "    lista = ' '.join([str(x) for x in lista])\n",
    "    X_train_str.append(lista)\n",
    "    \n",
    "X_test_str = []\n",
    "for lista in X_test:\n",
    "    lista = ' '.join([str(x) for x in lista])\n",
    "    X_test_str.append(lista)\n",
    "    \n",
    "CountVec = CountVectorizer(ngram_range=(1,1), stop_words='english')\n",
    "\n",
    "#transform train\n",
    "Count_data_train = CountVec.fit_transform(X_train_str)\n",
    " \n",
    "#create dataframe\n",
    "df_train_str=pd.DataFrame(Count_data_train.toarray(), columns=CountVec.get_feature_names())\n",
    "\n",
    "\n",
    "#transform test\n",
    "Count_data_test = CountVec.transform(X_test_str)\n",
    " \n",
    "#create dataframe\n",
    "df_test_str=pd.DataFrame(Count_data_test.toarray(), columns=CountVec.get_feature_names())"
   ]
  },
  {
   "cell_type": "markdown",
   "metadata": {},
   "source": [
    "### BoW (Bag of Words) + Logistic Regression"
   ]
  },
  {
   "cell_type": "code",
   "execution_count": 9,
   "metadata": {},
   "outputs": [
    {
     "name": "stdout",
     "output_type": "stream",
     "text": [
      "Train Accuracy: 0.9461\n",
      "Test Accuracy: 0.8364\n"
     ]
    }
   ],
   "source": [
    "classifier = LogisticRegression(solver='lbfgs', max_iter=1000)\n",
    "classifier.fit(df_train_str, y_train)\n",
    "score_train = round(classifier.score(df_train_str, y_train), 4)\n",
    "score_test = round(classifier.score(df_test_str, y_test), 4)\n",
    "\n",
    "# results\n",
    "print(\"Train Accuracy:\", score_train)\n",
    "print(\"Test Accuracy:\", score_test)\n",
    "\n",
    "# score medio\n",
    "y_pred = classifier.predict_proba(df_train_str)[:, 1]"
   ]
  },
  {
   "cell_type": "markdown",
   "metadata": {},
   "source": [
    "### Score test"
   ]
  },
  {
   "cell_type": "code",
   "execution_count": 10,
   "metadata": {},
   "outputs": [
    {
     "name": "stdout",
     "output_type": "stream",
     "text": [
      "0.9602899778227699\n",
      "0.26013185613117773\n"
     ]
    },
    {
     "data": {
      "text/html": [
       "<div>\n",
       "<style scoped>\n",
       "    .dataframe tbody tr th:only-of-type {\n",
       "        vertical-align: middle;\n",
       "    }\n",
       "\n",
       "    .dataframe tbody tr th {\n",
       "        vertical-align: top;\n",
       "    }\n",
       "\n",
       "    .dataframe thead th {\n",
       "        text-align: right;\n",
       "    }\n",
       "</style>\n",
       "<table border=\"1\" class=\"dataframe\">\n",
       "  <thead>\n",
       "    <tr style=\"text-align: right;\">\n",
       "      <th></th>\n",
       "      <th>text</th>\n",
       "      <th>score</th>\n",
       "      <th>rating</th>\n",
       "    </tr>\n",
       "  </thead>\n",
       "  <tbody>\n",
       "    <tr>\n",
       "      <th>0</th>\n",
       "      <td>The movie was amazing, I loved it, very good</td>\n",
       "      <td>0.960290</td>\n",
       "      <td>Positivo</td>\n",
       "    </tr>\n",
       "    <tr>\n",
       "      <th>1</th>\n",
       "      <td>I hate this movie, it is very bad and terrible</td>\n",
       "      <td>0.260132</td>\n",
       "      <td>Negativo</td>\n",
       "    </tr>\n",
       "  </tbody>\n",
       "</table>\n",
       "</div>"
      ],
      "text/plain": [
       "                                             text     score    rating\n",
       "0    The movie was amazing, I loved it, very good  0.960290  Positivo\n",
       "1  I hate this movie, it is very bad and terrible  0.260132  Negativo"
      ]
     },
     "metadata": {},
     "output_type": "display_data"
    }
   ],
   "source": [
    "def score_list(list_instances):\n",
    "    \n",
    "    list_scores = []\n",
    "    \n",
    "    for text in list_instances:\n",
    "        instance = tokenizer.texts_to_sequences([text])\n",
    "        instance = pad_sequences(instance, padding='post', maxlen=maxlen)   \n",
    "        instance = ' '.join([str(x) for x in instance])\n",
    "        \n",
    "        #transform test\n",
    "        instance = CountVec.transform([instance])\n",
    "\n",
    "        #create dataframe\n",
    "        instance=pd.DataFrame(instance.toarray(), columns=CountVec.get_feature_names())\n",
    "\n",
    "        score = classifier.predict_proba(instance)[:, 1][0]\n",
    "        print (score)\n",
    "        \n",
    "        if (score >= 0.5):\n",
    "            flag = 'Positivo'\n",
    "        else:\n",
    "            flag = 'Negativo'\n",
    "            \n",
    "        list_scores.append([text, score, flag])\n",
    "        \n",
    "    df = pd.DataFrame(list_scores, columns=['text', 'score', 'rating'])\n",
    "    display(df)\n",
    "        \n",
    "        \n",
    "list_instances = ['The movie was amazing, I loved it, very good',\n",
    "                  'I hate this movie, it is very bad and terrible']\n",
    "# score list\n",
    "score_list(list_instances)"
   ]
  },
  {
   "cell_type": "markdown",
   "metadata": {},
   "source": [
    "### BoW (Bag of Words) + Naive Bayes"
   ]
  },
  {
   "cell_type": "code",
   "execution_count": 11,
   "metadata": {},
   "outputs": [
    {
     "name": "stdout",
     "output_type": "stream",
     "text": [
      "Train Accuracy: 0.8206\n",
      "Test Accuracy: 0.7626\n"
     ]
    }
   ],
   "source": [
    "classifier = GaussianNB()\n",
    "classifier.fit(df_train_str, y_train)\n",
    "score_train = round(classifier.score(df_train_str, y_train), 4)\n",
    "score_test = round(classifier.score(df_test_str, y_test), 4)\n",
    "\n",
    "# results\n",
    "print(\"Train Accuracy:\", score_train)\n",
    "print(\"Test Accuracy:\", score_test)"
   ]
  },
  {
   "cell_type": "markdown",
   "metadata": {},
   "source": [
    "### BoW (Bag of Words) + Random Forest"
   ]
  },
  {
   "cell_type": "code",
   "execution_count": 12,
   "metadata": {},
   "outputs": [
    {
     "name": "stdout",
     "output_type": "stream",
     "text": [
      "Train Accuracy: 0.804\n",
      "Test Accuracy: 0.7914\n"
     ]
    }
   ],
   "source": [
    "classifier = RandomForestClassifier(max_depth=5)\n",
    "classifier.fit(df_train_str, y_train)\n",
    "score_train = round(classifier.score(df_train_str, y_train), 4)\n",
    "score_test = round(classifier.score(df_test_str, y_test), 4)\n",
    "\n",
    "# results\n",
    "print(\"Train Accuracy:\", score_train)\n",
    "print(\"Test Accuracy:\", score_test)"
   ]
  },
  {
   "cell_type": "markdown",
   "metadata": {},
   "source": [
    "## Modelos com tf-idf"
   ]
  },
  {
   "cell_type": "markdown",
   "metadata": {},
   "source": [
    "<img src=\"https://miro.medium.com/max/1000/1*KZrjbKHcsWt-zzUj2oRk3w.jpeg\" width=400 height=400/>"
   ]
  },
  {
   "cell_type": "markdown",
   "metadata": {},
   "source": [
    "<img src=\"https://i.ytimg.com/vi/vZAXpvHhQow/maxresdefault.jpg\" width=600 height=60/>"
   ]
  },
  {
   "cell_type": "code",
   "execution_count": 13,
   "metadata": {},
   "outputs": [],
   "source": [
    "X_train_str = []\n",
    "for lista in X_train:\n",
    "    lista = ' '.join([str(x) for x in lista])\n",
    "    X_train_str.append(lista)\n",
    "    \n",
    "X_test_str = []\n",
    "for lista in X_test:\n",
    "    lista = ' '.join([str(x) for x in lista])\n",
    "    X_test_str.append(lista)\n",
    "    \n",
    "vectorizer = TfidfVectorizer()\n",
    "\n",
    "#transform train\n",
    "Count_data_train = CountVec.fit_transform(X_train_str)\n",
    " \n",
    "#create dataframe\n",
    "df_train_str=pd.DataFrame(Count_data_train.toarray(), columns=CountVec.get_feature_names())\n",
    "\n",
    "\n",
    "#transform test\n",
    "Count_data_test = CountVec.transform(X_test_str)\n",
    " \n",
    "#create dataframe\n",
    "df_test_str=pd.DataFrame(Count_data_test.toarray(), columns=CountVec.get_feature_names())"
   ]
  },
  {
   "cell_type": "markdown",
   "metadata": {},
   "source": [
    "### Tf-Idf (Bag of Words) + Logistic Regression"
   ]
  },
  {
   "cell_type": "code",
   "execution_count": 14,
   "metadata": {},
   "outputs": [
    {
     "name": "stdout",
     "output_type": "stream",
     "text": [
      "Train Accuracy: 0.9461\n",
      "Test Accuracy: 0.8364\n"
     ]
    }
   ],
   "source": [
    "classifier = LogisticRegression(solver='lbfgs', max_iter=1000)\n",
    "classifier.fit(df_train_str, y_train)\n",
    "score_train = round(classifier.score(df_train_str, y_train), 4)\n",
    "score_test = round(classifier.score(df_test_str, y_test), 4)\n",
    "\n",
    "# results\n",
    "print(\"Train Accuracy:\", score_train)\n",
    "print(\"Test Accuracy:\", score_test)"
   ]
  },
  {
   "cell_type": "markdown",
   "metadata": {},
   "source": [
    "### Tf-Idf (Bag of Words) + Naive Bayes"
   ]
  },
  {
   "cell_type": "code",
   "execution_count": 15,
   "metadata": {},
   "outputs": [
    {
     "name": "stdout",
     "output_type": "stream",
     "text": [
      "Train Accuracy: 0.8206\n",
      "Test Accuracy: 0.7626\n"
     ]
    }
   ],
   "source": [
    "classifier = GaussianNB()\n",
    "classifier.fit(df_train_str, y_train)\n",
    "score_train = round(classifier.score(df_train_str, y_train), 4)\n",
    "score_test = round(classifier.score(df_test_str, y_test), 4)\n",
    "\n",
    "# results\n",
    "print(\"Train Accuracy:\", score_train)\n",
    "print(\"Test Accuracy:\", score_test)"
   ]
  },
  {
   "cell_type": "markdown",
   "metadata": {},
   "source": [
    "### Tf-Idf (Bag of Words) + Decision Tree"
   ]
  },
  {
   "cell_type": "code",
   "execution_count": 16,
   "metadata": {},
   "outputs": [
    {
     "name": "stdout",
     "output_type": "stream",
     "text": [
      "Train Accuracy: 0.6582\n",
      "Test Accuracy: 0.6548\n"
     ]
    }
   ],
   "source": [
    "classifier = DecisionTreeClassifier(max_depth=5)\n",
    "classifier.fit(df_train_str, y_train)\n",
    "score_train = round(classifier.score(df_train_str, y_train), 4)\n",
    "score_test = round(classifier.score(df_test_str, y_test), 4)\n",
    "\n",
    "# results\n",
    "print(\"Train Accuracy:\", score_train)\n",
    "print(\"Test Accuracy:\", score_test)"
   ]
  },
  {
   "cell_type": "markdown",
   "metadata": {},
   "source": [
    "### Tf-Idf (Bag of Words) + Random Forest (max_depth=3)"
   ]
  },
  {
   "cell_type": "code",
   "execution_count": 17,
   "metadata": {},
   "outputs": [
    {
     "name": "stdout",
     "output_type": "stream",
     "text": [
      "Train Accuracy: 0.7904\n",
      "Test Accuracy: 0.7928\n"
     ]
    }
   ],
   "source": [
    "classifier = RandomForestClassifier(max_depth=3)\n",
    "classifier.fit(df_train_str, y_train)\n",
    "score_train = round(classifier.score(df_train_str, y_train), 4)\n",
    "score_test = round(classifier.score(df_test_str, y_test), 4)\n",
    "\n",
    "# results\n",
    "print(\"Train Accuracy:\", score_train)\n",
    "print(\"Test Accuracy:\", score_test)"
   ]
  },
  {
   "cell_type": "markdown",
   "metadata": {},
   "source": [
    "### Tf-Idf (Bag of Words) + Random Forest (max_depth=5)"
   ]
  },
  {
   "cell_type": "code",
   "execution_count": 18,
   "metadata": {},
   "outputs": [
    {
     "name": "stdout",
     "output_type": "stream",
     "text": [
      "Train Accuracy: 0.8057\n",
      "Test Accuracy: 0.7862\n"
     ]
    }
   ],
   "source": [
    "classifier = RandomForestClassifier(max_depth=5)\n",
    "classifier.fit(df_train_str, y_train)\n",
    "score_train = round(classifier.score(df_train_str, y_train), 4)\n",
    "score_test = round(classifier.score(df_test_str, y_test), 4)\n",
    "\n",
    "# results\n",
    "print(\"Train Accuracy:\", score_train)\n",
    "print(\"Test Accuracy:\", score_test)"
   ]
  },
  {
   "cell_type": "markdown",
   "metadata": {},
   "source": [
    "### Tf-Idf (Bag of Words) + Random Forest (max_depth=7)"
   ]
  },
  {
   "cell_type": "code",
   "execution_count": 19,
   "metadata": {},
   "outputs": [
    {
     "name": "stdout",
     "output_type": "stream",
     "text": [
      "Train Accuracy: 0.8201\n",
      "Test Accuracy: 0.797\n"
     ]
    }
   ],
   "source": [
    "classifier = RandomForestClassifier(max_depth=7)\n",
    "classifier.fit(df_train_str, y_train)\n",
    "score_train = round(classifier.score(df_train_str, y_train), 4)\n",
    "score_test = round(classifier.score(df_test_str, y_test), 4)\n",
    "\n",
    "# results\n",
    "print(\"Train Accuracy:\", score_train)\n",
    "print(\"Test Accuracy:\", score_test)"
   ]
  },
  {
   "cell_type": "markdown",
   "metadata": {},
   "source": [
    "### Tf-Idf (Bag of Words) + Random Forest (max_depth=15)"
   ]
  },
  {
   "cell_type": "code",
   "execution_count": 20,
   "metadata": {},
   "outputs": [
    {
     "name": "stdout",
     "output_type": "stream",
     "text": [
      "Train Accuracy: 0.8846\n",
      "Test Accuracy: 0.81\n"
     ]
    }
   ],
   "source": [
    "classifier = RandomForestClassifier(max_depth=15)\n",
    "classifier.fit(df_train_str, y_train)\n",
    "score_train = round(classifier.score(df_train_str, y_train), 4)\n",
    "score_test = round(classifier.score(df_test_str, y_test), 4)\n",
    "\n",
    "# results\n",
    "print(\"Train Accuracy:\", score_train)\n",
    "print(\"Test Accuracy:\", score_test)"
   ]
  },
  {
   "cell_type": "markdown",
   "metadata": {},
   "source": [
    "## Modelos com Embedding"
   ]
  },
  {
   "cell_type": "markdown",
   "metadata": {},
   "source": [
    "### Regressão Logística"
   ]
  },
  {
   "cell_type": "code",
   "execution_count": 21,
   "metadata": {},
   "outputs": [
    {
     "name": "stdout",
     "output_type": "stream",
     "text": [
      "Train Accuracy: 0.5343\n",
      "Test Accuracy: 0.5098\n"
     ]
    }
   ],
   "source": [
    "classifier = LogisticRegression()\n",
    "classifier.fit(X_train, y_train)\n",
    "score_train = round(classifier.score(X_train, y_train), 4)\n",
    "score_test = round(classifier.score(X_test, y_test), 4)\n",
    "\n",
    "# results\n",
    "print(\"Train Accuracy:\", score_train)\n",
    "print(\"Test Accuracy:\", score_test)"
   ]
  },
  {
   "cell_type": "markdown",
   "metadata": {},
   "source": [
    "### Naive Bayes"
   ]
  },
  {
   "cell_type": "code",
   "execution_count": 22,
   "metadata": {},
   "outputs": [
    {
     "name": "stdout",
     "output_type": "stream",
     "text": [
      "Train Accuracy: 0.5394\n",
      "Test Accuracy: 0.5288\n"
     ]
    }
   ],
   "source": [
    "classifier = GaussianNB()\n",
    "classifier.fit(X_train, y_train)\n",
    "score_train = round(classifier.score(X_train, y_train), 4)\n",
    "score_test = round(classifier.score(X_test, y_test), 4)\n",
    "\n",
    "# results\n",
    "print(\"Train Accuracy:\", score_train)\n",
    "print(\"Test Accuracy:\", score_test)"
   ]
  },
  {
   "cell_type": "markdown",
   "metadata": {},
   "source": [
    "### Árvore de Decisão"
   ]
  },
  {
   "cell_type": "code",
   "execution_count": 23,
   "metadata": {},
   "outputs": [
    {
     "name": "stdout",
     "output_type": "stream",
     "text": [
      "Train Accuracy: 0.5494\n",
      "Test Accuracy: 0.5144\n"
     ]
    }
   ],
   "source": [
    "classifier = DecisionTreeClassifier(max_depth=5)\n",
    "classifier.fit(X_train, y_train)\n",
    "score_train = round(classifier.score(X_train, y_train), 4)\n",
    "score_test = round(classifier.score(X_test, y_test), 4)\n",
    "\n",
    "# results\n",
    "print(\"Train Accuracy:\", score_train)\n",
    "print(\"Test Accuracy:\", score_test)"
   ]
  },
  {
   "cell_type": "markdown",
   "metadata": {},
   "source": [
    "### Random Forest"
   ]
  },
  {
   "cell_type": "code",
   "execution_count": 24,
   "metadata": {},
   "outputs": [
    {
     "name": "stdout",
     "output_type": "stream",
     "text": [
      "Train Accuracy: 0.6632\n",
      "Test Accuracy: 0.5556\n"
     ]
    }
   ],
   "source": [
    "classifier = RandomForestClassifier(max_depth=5)\n",
    "classifier.fit(X_train, y_train)\n",
    "score_train = round(classifier.score(X_train, y_train), 4)\n",
    "score_test = round(classifier.score(X_test, y_test), 4)\n",
    "\n",
    "# results\n",
    "print(\"Train Accuracy:\", score_train)\n",
    "print(\"Test Accuracy:\", score_test)"
   ]
  },
  {
   "cell_type": "markdown",
   "metadata": {},
   "source": [
    "### Modelo simples com Redes Neurais v1 (sem Early Stopping)"
   ]
  },
  {
   "cell_type": "code",
   "execution_count": 25,
   "metadata": {},
   "outputs": [
    {
     "name": "stdout",
     "output_type": "stream",
     "text": [
      "Epoch 1/50\n",
      "125/125 [==============================] - 0s 2ms/step - loss: 146.0728 - acc: 0.4942 - val_loss: 2.9678 - val_acc: 0.5010\n",
      "Epoch 2/50\n",
      "125/125 [==============================] - 0s 1ms/step - loss: 19.1464 - acc: 0.5017 - val_loss: 0.7705 - val_acc: 0.4958\n",
      "Epoch 3/50\n",
      "125/125 [==============================] - 0s 1ms/step - loss: 7.4362 - acc: 0.5018 - val_loss: 0.7283 - val_acc: 0.4963\n",
      "Epoch 4/50\n",
      "125/125 [==============================] - 0s 1ms/step - loss: 4.2157 - acc: 0.4971 - val_loss: 0.7145 - val_acc: 0.4963\n",
      "Epoch 5/50\n",
      "125/125 [==============================] - 0s 1ms/step - loss: 2.9159 - acc: 0.4994 - val_loss: 0.7036 - val_acc: 0.4963\n",
      "Epoch 6/50\n",
      "125/125 [==============================] - 0s 1ms/step - loss: 1.9525 - acc: 0.5002 - val_loss: 0.6937 - val_acc: 0.4963\n",
      "Epoch 7/50\n",
      "125/125 [==============================] - 0s 1ms/step - loss: 1.6945 - acc: 0.4978 - val_loss: 0.6932 - val_acc: 0.4952\n",
      "Epoch 8/50\n",
      "125/125 [==============================] - 0s 1ms/step - loss: 1.1837 - acc: 0.5016 - val_loss: 0.6931 - val_acc: 0.4955\n",
      "Epoch 9/50\n",
      "125/125 [==============================] - 0s 1ms/step - loss: 1.1384 - acc: 0.4946 - val_loss: 0.6932 - val_acc: 0.5040\n",
      "Epoch 10/50\n",
      "125/125 [==============================] - 0s 1ms/step - loss: 1.0012 - acc: 0.5006 - val_loss: 0.6931 - val_acc: 0.5048\n",
      "Epoch 11/50\n",
      "125/125 [==============================] - 0s 1ms/step - loss: 0.9197 - acc: 0.5012 - val_loss: 0.6931 - val_acc: 0.5042\n",
      "Epoch 12/50\n",
      "125/125 [==============================] - 0s 1ms/step - loss: 0.8812 - acc: 0.4942 - val_loss: 0.6932 - val_acc: 0.5042\n",
      "Epoch 13/50\n",
      "125/125 [==============================] - 0s 1ms/step - loss: 1.0004 - acc: 0.4967 - val_loss: 0.6931 - val_acc: 0.5042\n",
      "Epoch 14/50\n",
      "125/125 [==============================] - 0s 1ms/step - loss: 0.8443 - acc: 0.4994 - val_loss: 0.6931 - val_acc: 0.5045\n",
      "Epoch 15/50\n",
      "125/125 [==============================] - 0s 1ms/step - loss: 0.8329 - acc: 0.4989 - val_loss: 0.6932 - val_acc: 0.5040\n",
      "Epoch 16/50\n",
      "125/125 [==============================] - 0s 1ms/step - loss: 0.8016 - acc: 0.4961 - val_loss: 0.6931 - val_acc: 0.5042\n",
      "Epoch 17/50\n",
      "125/125 [==============================] - 0s 1ms/step - loss: 0.8310 - acc: 0.4988 - val_loss: 0.6931 - val_acc: 0.5048\n",
      "Epoch 18/50\n",
      "125/125 [==============================] - 0s 963us/step - loss: 0.7846 - acc: 0.4992 - val_loss: 0.6931 - val_acc: 0.5045\n",
      "Epoch 19/50\n",
      "125/125 [==============================] - 0s 1ms/step - loss: 0.7305 - acc: 0.4999 - val_loss: 0.6931 - val_acc: 0.5040\n",
      "Epoch 20/50\n",
      "125/125 [==============================] - 0s 1ms/step - loss: 0.7461 - acc: 0.4943 - val_loss: 0.6931 - val_acc: 0.5048\n",
      "Epoch 21/50\n",
      "125/125 [==============================] - 0s 1ms/step - loss: 0.7730 - acc: 0.5014 - val_loss: 0.6931 - val_acc: 0.5045\n",
      "Epoch 22/50\n",
      "125/125 [==============================] - 0s 1ms/step - loss: 0.7219 - acc: 0.5004 - val_loss: 0.6931 - val_acc: 0.5042\n",
      "Epoch 23/50\n",
      "125/125 [==============================] - 0s 1ms/step - loss: 0.7568 - acc: 0.5002 - val_loss: 0.6931 - val_acc: 0.5045\n",
      "Epoch 24/50\n",
      "125/125 [==============================] - 0s 1ms/step - loss: 0.7102 - acc: 0.4979 - val_loss: 0.6932 - val_acc: 0.4955\n",
      "Epoch 25/50\n",
      "125/125 [==============================] - 0s 1ms/step - loss: 0.7247 - acc: 0.4966 - val_loss: 0.6931 - val_acc: 0.5042\n",
      "Epoch 26/50\n",
      "125/125 [==============================] - 0s 1ms/step - loss: 0.7449 - acc: 0.5007 - val_loss: 0.6931 - val_acc: 0.5042\n",
      "Epoch 27/50\n",
      "125/125 [==============================] - 0s 1ms/step - loss: 0.7420 - acc: 0.4922 - val_loss: 0.6931 - val_acc: 0.5042\n",
      "Epoch 28/50\n",
      "125/125 [==============================] - 0s 1ms/step - loss: 0.7110 - acc: 0.4984 - val_loss: 0.6931 - val_acc: 0.5042\n",
      "Epoch 29/50\n",
      "125/125 [==============================] - 0s 966us/step - loss: 0.7147 - acc: 0.5004 - val_loss: 0.6931 - val_acc: 0.5042\n",
      "Epoch 30/50\n",
      "125/125 [==============================] - 0s 1ms/step - loss: 0.7279 - acc: 0.4999 - val_loss: 0.6931 - val_acc: 0.5042\n",
      "Epoch 31/50\n",
      "125/125 [==============================] - 0s 997us/step - loss: 0.7155 - acc: 0.5017 - val_loss: 0.6931 - val_acc: 0.5042\n",
      "Epoch 32/50\n",
      "125/125 [==============================] - 0s 997us/step - loss: 0.7038 - acc: 0.5011 - val_loss: 0.6931 - val_acc: 0.5042\n",
      "Epoch 33/50\n",
      "125/125 [==============================] - 0s 969us/step - loss: 0.7182 - acc: 0.5001 - val_loss: 0.6931 - val_acc: 0.5042\n",
      "Epoch 34/50\n",
      "125/125 [==============================] - 0s 1ms/step - loss: 0.7696 - acc: 0.4994 - val_loss: 0.6931 - val_acc: 0.5042\n",
      "Epoch 35/50\n",
      "125/125 [==============================] - 0s 1ms/step - loss: 0.6977 - acc: 0.4939 - val_loss: 0.6931 - val_acc: 0.5042\n",
      "Epoch 36/50\n",
      "125/125 [==============================] - 0s 946us/step - loss: 0.7224 - acc: 0.4968 - val_loss: 0.6931 - val_acc: 0.5042\n",
      "Epoch 37/50\n",
      "125/125 [==============================] - 0s 1ms/step - loss: 0.6942 - acc: 0.4988 - val_loss: 0.6931 - val_acc: 0.5042\n",
      "Epoch 38/50\n",
      "125/125 [==============================] - 0s 1ms/step - loss: 0.6977 - acc: 0.5006 - val_loss: 0.6931 - val_acc: 0.5042\n",
      "Epoch 39/50\n",
      "125/125 [==============================] - 0s 1ms/step - loss: 0.6961 - acc: 0.4984 - val_loss: 0.6931 - val_acc: 0.5042\n",
      "Epoch 40/50\n",
      "125/125 [==============================] - 0s 1ms/step - loss: 0.6992 - acc: 0.4992 - val_loss: 0.6931 - val_acc: 0.5042\n",
      "Epoch 41/50\n",
      "125/125 [==============================] - 0s 993us/step - loss: 0.7021 - acc: 0.5002 - val_loss: 0.6931 - val_acc: 0.5042\n",
      "Epoch 42/50\n",
      "125/125 [==============================] - 0s 1ms/step - loss: 0.7323 - acc: 0.4967 - val_loss: 0.6932 - val_acc: 0.4958\n",
      "Epoch 43/50\n",
      "125/125 [==============================] - 0s 1ms/step - loss: 0.7054 - acc: 0.4947 - val_loss: 0.6931 - val_acc: 0.5042\n",
      "Epoch 44/50\n",
      "125/125 [==============================] - 0s 1ms/step - loss: 0.6990 - acc: 0.5008 - val_loss: 0.6931 - val_acc: 0.5042\n",
      "Epoch 45/50\n",
      "125/125 [==============================] - 0s 899us/step - loss: 0.6976 - acc: 0.4988 - val_loss: 0.6931 - val_acc: 0.5042\n",
      "Epoch 46/50\n",
      "125/125 [==============================] - 0s 1ms/step - loss: 0.7054 - acc: 0.4952 - val_loss: 0.6931 - val_acc: 0.5042\n",
      "Epoch 47/50\n",
      "125/125 [==============================] - 0s 1ms/step - loss: 0.6972 - acc: 0.4987 - val_loss: 0.6932 - val_acc: 0.4958\n",
      "Epoch 48/50\n",
      "125/125 [==============================] - 0s 1ms/step - loss: 0.6977 - acc: 0.5023 - val_loss: 0.6931 - val_acc: 0.5042\n",
      "Epoch 49/50\n",
      "125/125 [==============================] - 0s 1ms/step - loss: 0.7020 - acc: 0.4965 - val_loss: 0.6931 - val_acc: 0.5042\n",
      "Epoch 50/50\n",
      "125/125 [==============================] - 0s 990us/step - loss: 0.7014 - acc: 0.5008 - val_loss: 0.6931 - val_acc: 0.5042\n",
      "Model: \"sequential\"\n",
      "_________________________________________________________________\n",
      "Layer (type)                 Output Shape              Param #   \n",
      "=================================================================\n",
      "dense (Dense)                (None, 32)                3232      \n",
      "_________________________________________________________________\n",
      "dropout (Dropout)            (None, 32)                0         \n",
      "_________________________________________________________________\n",
      "dense_1 (Dense)              (None, 8)                 264       \n",
      "_________________________________________________________________\n",
      "dense_2 (Dense)              (None, 1)                 9         \n",
      "=================================================================\n",
      "Total params: 3,505\n",
      "Trainable params: 3,505\n",
      "Non-trainable params: 0\n",
      "_________________________________________________________________\n",
      "None\n",
      "625/625 [==============================] - 0s 783us/step - loss: 0.6931 - acc: 0.5013\n",
      "157/157 [==============================] - 0s 531us/step - loss: 0.6932 - acc: 0.4946\n",
      "Train Accuracy: 0.5013499855995178\n",
      "Test Accuracy: 0.49459999799728394\n"
     ]
    },
    {
     "data": {
      "image/png": "[encoded data removed]",
      "text/plain": [
       "<Figure size 432x288 with 1 Axes>"
      ]
     },
     "metadata": {
      "needs_background": "light"
     },
     "output_type": "display_data"
    },
    {
     "data": {
      "image/png": "[encoded data removed]",
      "text/plain": [
       "<Figure size 432x288 with 1 Axes>"
      ]
     },
     "metadata": {
      "needs_background": "light"
     },
     "output_type": "display_data"
    }
   ],
   "source": [
    "model = Sequential()\n",
    "model.add(Dense(32, activation='relu'))\n",
    "model.add(Dropout(0.4))\n",
    "model.add(Dense(8, activation='relu'))\n",
    "model.add(Dense(1, activation='sigmoid'))\n",
    "model.compile(optimizer='adam', loss='binary_crossentropy', metrics=['acc'])\n",
    "history = model.fit(X_train, y_train, batch_size=128, epochs=50, verbose=1, validation_split=0.2)\n",
    "print(model.summary())\n",
    "score_train = model.evaluate(X_train, y_train, verbose=1)\n",
    "score_test = model.evaluate(X_test, y_test, verbose=1)\n",
    "\n",
    "# results\n",
    "print (\"Train Accuracy:\", score_train[1])\n",
    "print(\"Test Accuracy:\", score_test[1])\n",
    "plot_results(history)"
   ]
  },
  {
   "cell_type": "markdown",
   "metadata": {},
   "source": [
    "### Modelo simples com Redes Neurais  (Early Stopping)"
   ]
  },
  {
   "cell_type": "code",
   "execution_count": 26,
   "metadata": {},
   "outputs": [
    {
     "name": "stdout",
     "output_type": "stream",
     "text": [
      "Epoch 1/30\n",
      "123/157 [======================>.......] - ETA: 0s - loss: 86.6829 - acc: 0.4999 \n",
      "Epoch 00001: val_loss improved from inf to 27.34586, saving model to best_model.h5\n",
      "157/157 [==============================] - 0s 2ms/step - loss: 74.3880 - acc: 0.5008 - val_loss: 27.3459 - val_acc: 0.4955\n",
      "Epoch 2/30\n",
      "148/157 [===========================>..] - ETA: 0s - loss: 17.4112 - acc: 0.5106\n",
      "Epoch 00002: val_loss improved from 27.34586 to 10.38356, saving model to best_model.h5\n",
      "157/157 [==============================] - 0s 1ms/step - loss: 17.0277 - acc: 0.5100 - val_loss: 10.3836 - val_acc: 0.5030\n",
      "Epoch 3/30\n",
      "110/157 [====================>.........] - ETA: 0s - loss: 7.2141 - acc: 0.5176\n",
      "Epoch 00003: val_loss improved from 10.38356 to 4.81144, saving model to best_model.h5\n",
      "157/157 [==============================] - 0s 1ms/step - loss: 6.4181 - acc: 0.5149 - val_loss: 4.8114 - val_acc: 0.5027\n",
      "Epoch 4/30\n",
      "121/157 [======================>.......] - ETA: 0s - loss: 2.9924 - acc: 0.5214\n",
      "Epoch 00004: val_loss improved from 4.81144 to 1.99719, saving model to best_model.h5\n",
      "157/157 [==============================] - 0s 2ms/step - loss: 2.7589 - acc: 0.5177 - val_loss: 1.9972 - val_acc: 0.5017\n",
      "Epoch 5/30\n",
      "100/157 [==================>...........] - ETA: 0s - loss: 1.6567 - acc: 0.5143\n",
      "Epoch 00005: val_loss improved from 1.99719 to 1.58563, saving model to best_model.h5\n",
      "157/157 [==============================] - 0s 1ms/step - loss: 1.7483 - acc: 0.5107 - val_loss: 1.5856 - val_acc: 0.5017\n",
      "Epoch 6/30\n",
      "124/157 [======================>.......] - ETA: 0s - loss: 1.2786 - acc: 0.5183\n",
      "Epoch 00006: val_loss did not improve from 1.58563\n",
      "157/157 [==============================] - 0s 1ms/step - loss: 1.2930 - acc: 0.5153 - val_loss: 1.7272 - val_acc: 0.5025\n",
      "Epoch 00006: early stopping\n",
      "Model: \"sequential_1\"\n",
      "_________________________________________________________________\n",
      "Layer (type)                 Output Shape              Param #   \n",
      "=================================================================\n",
      "dense_3 (Dense)              (None, 64)                6464      \n",
      "_________________________________________________________________\n",
      "dense_4 (Dense)              (None, 8)                 520       \n",
      "_________________________________________________________________\n",
      "dense_5 (Dense)              (None, 1)                 9         \n",
      "=================================================================\n",
      "Total params: 6,993\n",
      "Trainable params: 6,993\n",
      "Non-trainable params: 0\n",
      "_________________________________________________________________\n",
      "None\n",
      "625/625 [==============================] - 0s 759us/step - loss: 1.6919 - acc: 0.5031\n",
      "157/157 [==============================] - 0s 514us/step - loss: 1.7297 - acc: 0.5024\n",
      "Train Accuracy: 0.5030999779701233\n",
      "Test Accuracy: 0.5023999810218811\n"
     ]
    },
    {
     "data": {
      "image/png": "[encoded data removed]",
      "text/plain": [
       "<Figure size 432x288 with 1 Axes>"
      ]
     },
     "metadata": {
      "needs_background": "light"
     },
     "output_type": "display_data"
    },
    {
     "data": {
      "image/png": "[encoded data removed]",
      "text/plain": [
       "<Figure size 432x288 with 1 Axes>"
      ]
     },
     "metadata": {
      "needs_background": "light"
     },
     "output_type": "display_data"
    }
   ],
   "source": [
    "model = Sequential()\n",
    "model.add(Dense(64, activation='relu'))\n",
    "model.add(Dense(8, activation='relu'))\n",
    "model.add(Dense(1, activation='sigmoid'))\n",
    "model.compile(optimizer='adam', loss='binary_crossentropy', metrics=['acc'])\n",
    "\n",
    "es = EarlyStopping(monitor='val_acc', mode='min', patience=5, verbose=1)\n",
    "mc = ModelCheckpoint('best_model.h5', monitor='val_loss', mode='min', verbose=1, save_best_only=True)\n",
    "\n",
    "history = model.fit(X_train, y_train, validation_data=(X_val_tmp, y_val_tmp), batch_size=128, epochs=30, verbose=1, callbacks=[es, mc])\n",
    "print(model.summary())\n",
    "score_train = model.evaluate(X_train, y_train, verbose=1)\n",
    "score_test = model.evaluate(X_test, y_test, verbose=1)\n",
    "\n",
    "# results\n",
    "print (\"Train Accuracy:\", score_train[1])\n",
    "print(\"Test Accuracy:\", score_test[1])\n",
    "plot_results(history)"
   ]
  },
  {
   "cell_type": "markdown",
   "metadata": {},
   "source": [
    "### Simple Model Embedding layer (sem Glove)"
   ]
  },
  {
   "cell_type": "code",
   "execution_count": 27,
   "metadata": {},
   "outputs": [
    {
     "name": "stdout",
     "output_type": "stream",
     "text": [
      "Model: \"sequential_2\"\n",
      "_________________________________________________________________\n",
      "Layer (type)                 Output Shape              Param #   \n",
      "=================================================================\n",
      "embedding (Embedding)        (None, 100, 100)          6855600   \n",
      "_________________________________________________________________\n",
      "flatten (Flatten)            (None, 10000)             0         \n",
      "_________________________________________________________________\n",
      "dense_6 (Dense)              (None, 1)                 10001     \n",
      "=================================================================\n",
      "Total params: 6,865,601\n",
      "Trainable params: 6,865,601\n",
      "Non-trainable params: 0\n",
      "_________________________________________________________________\n",
      "None\n",
      "Epoch 1/20\n",
      "125/125 [==============================] - ETA: 0s - loss: 0.6285 - acc: 0.6683\n",
      "Epoch 00001: val_loss improved from inf to 0.47921, saving model to best_model.h5\n",
      "125/125 [==============================] - 14s 115ms/step - loss: 0.6285 - acc: 0.6683 - val_loss: 0.4792 - val_acc: 0.7922\n",
      "Epoch 2/20\n",
      "125/125 [==============================] - ETA: 0s - loss: 0.3421 - acc: 0.8681\n",
      "Epoch 00002: val_loss improved from 0.47921 to 0.35853, saving model to best_model.h5\n",
      "125/125 [==============================] - 14s 112ms/step - loss: 0.3421 - acc: 0.8681 - val_loss: 0.3585 - val_acc: 0.8388\n",
      "Epoch 3/20\n",
      "125/125 [==============================] - ETA: 0s - loss: 0.2209 - acc: 0.9235\n",
      "Epoch 00003: val_loss improved from 0.35853 to 0.35205, saving model to best_model.h5\n",
      "125/125 [==============================] - 14s 112ms/step - loss: 0.2209 - acc: 0.9235 - val_loss: 0.3521 - val_acc: 0.8435\n",
      "Epoch 4/20\n",
      "125/125 [==============================] - ETA: 0s - loss: 0.1409 - acc: 0.9646\n",
      "Epoch 00004: val_loss did not improve from 0.35205\n",
      "125/125 [==============================] - 13s 108ms/step - loss: 0.1409 - acc: 0.9646 - val_loss: 0.3595 - val_acc: 0.8407\n",
      "Epoch 5/20\n",
      "125/125 [==============================] - ETA: 0s - loss: 0.0793 - acc: 0.9906\n",
      "Epoch 00005: val_loss did not improve from 0.35205\n",
      "125/125 [==============================] - 14s 112ms/step - loss: 0.0793 - acc: 0.9906 - val_loss: 0.3738 - val_acc: 0.8357\n",
      "Epoch 6/20\n",
      "125/125 [==============================] - ETA: 0s - loss: 0.0439 - acc: 0.9981\n",
      "Epoch 00006: val_loss did not improve from 0.35205\n",
      "125/125 [==============================] - 14s 113ms/step - loss: 0.0439 - acc: 0.9981 - val_loss: 0.3929 - val_acc: 0.8360\n",
      "Epoch 00006: early stopping\n",
      "Model: \"sequential_2\"\n",
      "_________________________________________________________________\n",
      "Layer (type)                 Output Shape              Param #   \n",
      "=================================================================\n",
      "embedding (Embedding)        (None, 100, 100)          6855600   \n",
      "_________________________________________________________________\n",
      "flatten (Flatten)            (None, 10000)             0         \n",
      "_________________________________________________________________\n",
      "dense_6 (Dense)              (None, 1)                 10001     \n",
      "=================================================================\n",
      "Total params: 6,865,601\n",
      "Trainable params: 6,865,601\n",
      "Non-trainable params: 0\n",
      "_________________________________________________________________\n",
      "None\n",
      "625/625 [==============================] - 1s 1ms/step - loss: 0.1020 - acc: 0.9668\n",
      "157/157 [==============================] - 0s 1ms/step - loss: 0.3788 - acc: 0.8474\n",
      "Train Accuracy: 0.9668499827384949\n",
      "Test Accuracy: 0.8474000096321106\n"
     ]
    },
    {
     "data": {
      "image/png": "[encoded data removed]",
      "text/plain": [
       "<Figure size 432x288 with 1 Axes>"
      ]
     },
     "metadata": {
      "needs_background": "light"
     },
     "output_type": "display_data"
    },
    {
     "data": {
      "image/png": "[encoded data removed]",
      "text/plain": [
       "<Figure size 432x288 with 1 Axes>"
      ]
     },
     "metadata": {
      "needs_background": "light"
     },
     "output_type": "display_data"
    }
   ],
   "source": [
    "model = Sequential()\n",
    "embedding_layer = Embedding(vocab_size, 100, input_length=maxlen)\n",
    "model.add(embedding_layer)\n",
    "model.add(Flatten())\n",
    "model.add(Dense(1, activation='sigmoid'))\n",
    "model.compile(optimizer='adam', loss='binary_crossentropy', metrics=['acc'])\n",
    "print(model.summary())\n",
    "\n",
    "es = EarlyStopping(monitor='val_acc', mode='min', patience=5, verbose=1)\n",
    "mc = ModelCheckpoint('best_model.h5', monitor='val_loss', mode='min', verbose=1, save_best_only=True)\n",
    "\n",
    "history = model.fit(X_train, y_train, batch_size=128, epochs=20, verbose=1, callbacks=[es, mc], validation_split=0.2)\n",
    "print(model.summary())\n",
    "score_train = model.evaluate(X_train, y_train, verbose=1)\n",
    "score_test = model.evaluate(X_test, y_test, verbose=1)\n",
    "\n",
    "# results\n",
    "print (\"Train Accuracy:\", score_train[1])\n",
    "print(\"Test Accuracy:\", score_test[1])\n",
    "plot_results(history)"
   ]
  },
  {
   "cell_type": "markdown",
   "metadata": {},
   "source": [
    "### Glove"
   ]
  },
  {
   "cell_type": "code",
   "execution_count": 28,
   "metadata": {},
   "outputs": [],
   "source": [
    "embeddings_dictionary = dict()\n",
    "glove_file = open('data/glove.6B.100d.txt', encoding=\"utf8\")\n",
    "\n",
    "for line in glove_file:\n",
    "    records = line.split()\n",
    "    word = records[0]\n",
    "    vector_dimensions = asarray(records[1:], dtype='float32')\n",
    "    embeddings_dictionary [word] = vector_dimensions\n",
    "glove_file.close()\n",
    "\n",
    "embedding_matrix = zeros((vocab_size, 100))\n",
    "for word, index in tokenizer.word_index.items():\n",
    "    embedding_vector = embeddings_dictionary.get(word)\n",
    "    if embedding_vector is not None:\n",
    "        embedding_matrix[index] = embedding_vector"
   ]
  },
  {
   "cell_type": "markdown",
   "metadata": {},
   "source": [
    "### Simple Model Glove (sem Early Stopping)"
   ]
  },
  {
   "cell_type": "code",
   "execution_count": 29,
   "metadata": {},
   "outputs": [
    {
     "name": "stdout",
     "output_type": "stream",
     "text": [
      "Model: \"sequential_3\"\n",
      "_________________________________________________________________\n",
      "Layer (type)                 Output Shape              Param #   \n",
      "=================================================================\n",
      "embedding_1 (Embedding)      (None, 100, 100)          6855600   \n",
      "_________________________________________________________________\n",
      "flatten_1 (Flatten)          (None, 10000)             0         \n",
      "_________________________________________________________________\n",
      "dense_7 (Dense)              (None, 1)                 10001     \n",
      "=================================================================\n",
      "Total params: 6,865,601\n",
      "Trainable params: 10,001\n",
      "Non-trainable params: 6,855,600\n",
      "_________________________________________________________________\n",
      "None\n",
      "Epoch 1/20\n",
      "125/125 [==============================] - 1s 5ms/step - loss: 0.6376 - acc: 0.6385 - val_loss: 0.5902 - val_acc: 0.6802\n",
      "Epoch 2/20\n",
      "125/125 [==============================] - 0s 4ms/step - loss: 0.5031 - acc: 0.7625 - val_loss: 0.5688 - val_acc: 0.6990\n",
      "Epoch 3/20\n",
      "125/125 [==============================] - 0s 4ms/step - loss: 0.4610 - acc: 0.7854 - val_loss: 0.5566 - val_acc: 0.7138\n",
      "Epoch 4/20\n",
      "125/125 [==============================] - 1s 4ms/step - loss: 0.4201 - acc: 0.8133 - val_loss: 0.6156 - val_acc: 0.6873\n",
      "Epoch 5/20\n",
      "125/125 [==============================] - 1s 4ms/step - loss: 0.3904 - acc: 0.8333 - val_loss: 0.5656 - val_acc: 0.7138\n",
      "Epoch 6/20\n",
      "125/125 [==============================] - 0s 3ms/step - loss: 0.3743 - acc: 0.8399 - val_loss: 0.5742 - val_acc: 0.7153\n",
      "Epoch 7/20\n",
      "125/125 [==============================] - 0s 4ms/step - loss: 0.3575 - acc: 0.8504 - val_loss: 0.5850 - val_acc: 0.7128\n",
      "Epoch 8/20\n",
      "125/125 [==============================] - 0s 4ms/step - loss: 0.3437 - acc: 0.8575 - val_loss: 0.5899 - val_acc: 0.7122\n",
      "Epoch 9/20\n",
      "125/125 [==============================] - 0s 4ms/step - loss: 0.3257 - acc: 0.8687 - val_loss: 0.6052 - val_acc: 0.7085\n",
      "Epoch 10/20\n",
      "125/125 [==============================] - 0s 4ms/step - loss: 0.3180 - acc: 0.8736 - val_loss: 0.6067 - val_acc: 0.7113\n",
      "Epoch 11/20\n",
      "125/125 [==============================] - 0s 4ms/step - loss: 0.3033 - acc: 0.8810 - val_loss: 0.6180 - val_acc: 0.7132\n",
      "Epoch 12/20\n",
      "125/125 [==============================] - 0s 4ms/step - loss: 0.2953 - acc: 0.8864 - val_loss: 0.6261 - val_acc: 0.7103\n",
      "Epoch 13/20\n",
      "125/125 [==============================] - 0s 4ms/step - loss: 0.2867 - acc: 0.8916 - val_loss: 0.6337 - val_acc: 0.7110\n",
      "Epoch 14/20\n",
      "125/125 [==============================] - 0s 4ms/step - loss: 0.2785 - acc: 0.8955 - val_loss: 0.6583 - val_acc: 0.7090\n",
      "Epoch 15/20\n",
      "125/125 [==============================] - 0s 4ms/step - loss: 0.2727 - acc: 0.8978 - val_loss: 0.6519 - val_acc: 0.7113\n",
      "Epoch 16/20\n",
      "125/125 [==============================] - 0s 4ms/step - loss: 0.2674 - acc: 0.8991 - val_loss: 0.6585 - val_acc: 0.7097\n",
      "Epoch 17/20\n",
      "125/125 [==============================] - 0s 4ms/step - loss: 0.2583 - acc: 0.9055 - val_loss: 0.6684 - val_acc: 0.7088\n",
      "Epoch 18/20\n",
      "125/125 [==============================] - 0s 4ms/step - loss: 0.2499 - acc: 0.9104 - val_loss: 0.6816 - val_acc: 0.7095\n",
      "Epoch 19/20\n",
      "125/125 [==============================] - 0s 3ms/step - loss: 0.2476 - acc: 0.9104 - val_loss: 0.7165 - val_acc: 0.6908\n",
      "Epoch 20/20\n",
      "125/125 [==============================] - 1s 4ms/step - loss: 0.2429 - acc: 0.9153 - val_loss: 0.7039 - val_acc: 0.7057\n",
      "Model: \"sequential_3\"\n",
      "_________________________________________________________________\n",
      "Layer (type)                 Output Shape              Param #   \n",
      "=================================================================\n",
      "embedding_1 (Embedding)      (None, 100, 100)          6855600   \n",
      "_________________________________________________________________\n",
      "flatten_1 (Flatten)          (None, 10000)             0         \n",
      "_________________________________________________________________\n",
      "dense_7 (Dense)              (None, 1)                 10001     \n",
      "=================================================================\n",
      "Total params: 6,865,601\n",
      "Trainable params: 10,001\n",
      "Non-trainable params: 6,855,600\n",
      "_________________________________________________________________\n",
      "None\n",
      "625/625 [==============================] - 1s 1ms/step - loss: 0.3197 - acc: 0.8810\n",
      "157/157 [==============================] - 0s 1ms/step - loss: 0.7129 - acc: 0.7058\n",
      "Train Accuracy: 0.8809999823570251\n",
      "Test Accuracy: 0.7057999968528748\n"
     ]
    },
    {
     "data": {
      "image/png": "[encoded data removed]",
      "text/plain": [
       "<Figure size 432x288 with 1 Axes>"
      ]
     },
     "metadata": {
      "needs_background": "light"
     },
     "output_type": "display_data"
    },
    {
     "data": {
      "image/png": "[encoded data removed]",
      "text/plain": [
       "<Figure size 432x288 with 1 Axes>"
      ]
     },
     "metadata": {
      "needs_background": "light"
     },
     "output_type": "display_data"
    }
   ],
   "source": [
    "model = Sequential()\n",
    "embedding_layer = Embedding(vocab_size, 100, weights=[embedding_matrix], input_length=maxlen, trainable=False)\n",
    "model.add(embedding_layer)\n",
    "model.add(Flatten())\n",
    "model.add(Dense(1, activation='sigmoid'))\n",
    "model.compile(optimizer='adam', loss='binary_crossentropy', metrics=['acc'])\n",
    "print(model.summary())\n",
    "\n",
    "history = model.fit(X_train, y_train, batch_size=128, epochs=20, verbose=1, validation_split=0.2)\n",
    "print(model.summary())\n",
    "score_train = model.evaluate(X_train, y_train, verbose=1)\n",
    "score_test = model.evaluate(X_test, y_test, verbose=1)\n",
    "\n",
    "# results\n",
    "print (\"Train Accuracy:\", score_train[1])\n",
    "print(\"Test Accuracy:\", score_test[1])\n",
    "plot_results(history)"
   ]
  },
  {
   "cell_type": "markdown",
   "metadata": {},
   "source": [
    "### Simple Model Glove (com Early Stopping)"
   ]
  },
  {
   "cell_type": "code",
   "execution_count": 30,
   "metadata": {},
   "outputs": [
    {
     "name": "stdout",
     "output_type": "stream",
     "text": [
      "Model: \"sequential_4\"\n",
      "_________________________________________________________________\n",
      "Layer (type)                 Output Shape              Param #   \n",
      "=================================================================\n",
      "embedding_2 (Embedding)      (None, 100, 100)          6855600   \n",
      "_________________________________________________________________\n",
      "flatten_2 (Flatten)          (None, 10000)             0         \n",
      "_________________________________________________________________\n",
      "dense_8 (Dense)              (None, 1)                 10001     \n",
      "=================================================================\n",
      "Total params: 6,865,601\n",
      "Trainable params: 10,001\n",
      "Non-trainable params: 6,855,600\n",
      "_________________________________________________________________\n",
      "None\n",
      "Epoch 1/30\n",
      "121/125 [============================>.] - ETA: 0s - loss: 0.6379 - acc: 0.6353\n",
      "Epoch 00001: val_loss improved from inf to 0.58542, saving model to best_model.h5\n",
      "125/125 [==============================] - 1s 6ms/step - loss: 0.6360 - acc: 0.6373 - val_loss: 0.5854 - val_acc: 0.6880\n",
      "Epoch 2/30\n",
      "120/125 [===========================>..] - ETA: 0s - loss: 0.5025 - acc: 0.7592\n",
      "Epoch 00002: val_loss improved from 0.58542 to 0.56837, saving model to best_model.h5\n",
      "125/125 [==============================] - 1s 5ms/step - loss: 0.5015 - acc: 0.7598 - val_loss: 0.5684 - val_acc: 0.7050\n",
      "Epoch 3/30\n",
      "118/125 [===========================>..] - ETA: 0s - loss: 0.4479 - acc: 0.8010\n",
      "Epoch 00003: val_loss improved from 0.56837 to 0.56012, saving model to best_model.h5\n",
      "125/125 [==============================] - 1s 5ms/step - loss: 0.4490 - acc: 0.7997 - val_loss: 0.5601 - val_acc: 0.7132\n",
      "Epoch 4/30\n",
      "124/125 [============================>.] - ETA: 0s - loss: 0.4141 - acc: 0.8185\n",
      "Epoch 00004: val_loss did not improve from 0.56012\n",
      "125/125 [==============================] - 1s 4ms/step - loss: 0.4142 - acc: 0.8181 - val_loss: 0.5689 - val_acc: 0.7088\n",
      "Epoch 5/30\n",
      "122/125 [============================>.] - ETA: 0s - loss: 0.3874 - acc: 0.8346\n",
      "Epoch 00005: val_loss did not improve from 0.56012\n",
      "125/125 [==============================] - 1s 4ms/step - loss: 0.3887 - acc: 0.8330 - val_loss: 0.5661 - val_acc: 0.7147\n",
      "Epoch 6/30\n",
      "116/125 [==========================>...] - ETA: 0s - loss: 0.3690 - acc: 0.8467\n",
      "Epoch 00006: val_loss did not improve from 0.56012\n",
      "125/125 [==============================] - 0s 4ms/step - loss: 0.3696 - acc: 0.8462 - val_loss: 0.5844 - val_acc: 0.7040\n",
      "Epoch 7/30\n",
      "118/125 [===========================>..] - ETA: 0s - loss: 0.3515 - acc: 0.8537\n",
      "Epoch 00007: val_loss did not improve from 0.56012\n",
      "125/125 [==============================] - 1s 4ms/step - loss: 0.3520 - acc: 0.8536 - val_loss: 0.5852 - val_acc: 0.7105\n",
      "Epoch 8/30\n",
      "120/125 [===========================>..] - ETA: 0s - loss: 0.3361 - acc: 0.8623\n",
      "Epoch 00008: val_loss did not improve from 0.56012\n",
      "125/125 [==============================] - 0s 4ms/step - loss: 0.3369 - acc: 0.8622 - val_loss: 0.5967 - val_acc: 0.7128\n",
      "Epoch 00008: early stopping\n",
      "Model: \"sequential_4\"\n",
      "_________________________________________________________________\n",
      "Layer (type)                 Output Shape              Param #   \n",
      "=================================================================\n",
      "embedding_2 (Embedding)      (None, 100, 100)          6855600   \n",
      "_________________________________________________________________\n",
      "flatten_2 (Flatten)          (None, 10000)             0         \n",
      "_________________________________________________________________\n",
      "dense_8 (Dense)              (None, 1)                 10001     \n",
      "=================================================================\n",
      "Total params: 6,865,601\n",
      "Trainable params: 10,001\n",
      "Non-trainable params: 6,855,600\n",
      "_________________________________________________________________\n",
      "None\n",
      "625/625 [==============================] - 1s 1ms/step - loss: 0.3632 - acc: 0.8514\n",
      "157/157 [==============================] - 0s 1ms/step - loss: 0.5910 - acc: 0.7204\n",
      "Train Accuracy: 0.8513500094413757\n",
      "Test Accuracy: 0.7203999757766724\n"
     ]
    },
    {
     "data": {
      "image/png": "[encoded data removed]",
      "text/plain": [
       "<Figure size 432x288 with 1 Axes>"
      ]
     },
     "metadata": {
      "needs_background": "light"
     },
     "output_type": "display_data"
    },
    {
     "data": {
      "image/png": "[encoded data removed]",
      "text/plain": [
       "<Figure size 432x288 with 1 Axes>"
      ]
     },
     "metadata": {
      "needs_background": "light"
     },
     "output_type": "display_data"
    }
   ],
   "source": [
    "model = Sequential()\n",
    "embedding_layer = Embedding(vocab_size, 100, weights=[embedding_matrix], input_length=maxlen, trainable=False)\n",
    "model.add(embedding_layer)\n",
    "model.add(Flatten())\n",
    "model.add(Dense(1, activation='sigmoid'))\n",
    "model.compile(optimizer='adam', loss='binary_crossentropy', metrics=['acc'])\n",
    "print(model.summary())\n",
    "\n",
    "es = EarlyStopping(monitor='val_loss', mode='min', patience=5, verbose=1)\n",
    "mc = ModelCheckpoint('best_model.h5', monitor='val_loss', mode='min', verbose=1, save_best_only=True)\n",
    "\n",
    "history = model.fit(X_train, y_train, batch_size=128, epochs=30, verbose=1, callbacks=[es, mc], validation_split=0.2)\n",
    "print(model.summary())\n",
    "score_train = model.evaluate(X_train, y_train, verbose=1)\n",
    "score_test = model.evaluate(X_test, y_test, verbose=1)\n",
    "\n",
    "# results\n",
    "print (\"Train Accuracy:\", score_train[1])\n",
    "print(\"Test Accuracy:\", score_test[1])\n",
    "plot_results(history)"
   ]
  },
  {
   "cell_type": "markdown",
   "metadata": {},
   "source": [
    "### CNN"
   ]
  },
  {
   "cell_type": "code",
   "execution_count": 31,
   "metadata": {},
   "outputs": [
    {
     "name": "stdout",
     "output_type": "stream",
     "text": [
      "Model: \"sequential_5\"\n",
      "_________________________________________________________________\n",
      "Layer (type)                 Output Shape              Param #   \n",
      "=================================================================\n",
      "embedding_3 (Embedding)      (None, 100, 100)          6855600   \n",
      "_________________________________________________________________\n",
      "conv1d (Conv1D)              (None, 96, 128)           64128     \n",
      "_________________________________________________________________\n",
      "global_max_pooling1d (Global (None, 128)               0         \n",
      "_________________________________________________________________\n",
      "dense_9 (Dense)              (None, 1)                 129       \n",
      "=================================================================\n",
      "Total params: 6,919,857\n",
      "Trainable params: 64,257\n",
      "Non-trainable params: 6,855,600\n",
      "_________________________________________________________________\n",
      "None\n",
      "Epoch 1/50\n",
      "125/125 [==============================] - 5s 42ms/step - loss: 0.5690 - acc: 0.6991 - val_loss: 0.4731 - val_acc: 0.7835\n",
      "Epoch 2/50\n",
      "125/125 [==============================] - 5s 42ms/step - loss: 0.4050 - acc: 0.8198 - val_loss: 0.4126 - val_acc: 0.8098\n",
      "Epoch 3/50\n",
      "125/125 [==============================] - 5s 42ms/step - loss: 0.3455 - acc: 0.8528 - val_loss: 0.3979 - val_acc: 0.8115\n",
      "Epoch 4/50\n",
      "125/125 [==============================] - 5s 42ms/step - loss: 0.3038 - acc: 0.8758 - val_loss: 0.3835 - val_acc: 0.8217\n",
      "Epoch 5/50\n",
      "125/125 [==============================] - 5s 41ms/step - loss: 0.2681 - acc: 0.8964 - val_loss: 0.3794 - val_acc: 0.8232\n",
      "Epoch 6/50\n",
      "125/125 [==============================] - 5s 43ms/step - loss: 0.2398 - acc: 0.9097 - val_loss: 0.3943 - val_acc: 0.8210\n",
      "Epoch 7/50\n",
      "125/125 [==============================] - 6s 44ms/step - loss: 0.2043 - acc: 0.9328 - val_loss: 0.3801 - val_acc: 0.8278\n",
      "Epoch 8/50\n",
      "125/125 [==============================] - 5s 44ms/step - loss: 0.1756 - acc: 0.9512 - val_loss: 0.3823 - val_acc: 0.8282\n",
      "Epoch 9/50\n",
      "125/125 [==============================] - 6s 48ms/step - loss: 0.1540 - acc: 0.9624 - val_loss: 0.3835 - val_acc: 0.8322\n",
      "Epoch 10/50\n",
      "125/125 [==============================] - 6s 49ms/step - loss: 0.1346 - acc: 0.9694 - val_loss: 0.4041 - val_acc: 0.8263\n",
      "Epoch 11/50\n",
      "125/125 [==============================] - 6s 46ms/step - loss: 0.1139 - acc: 0.9787 - val_loss: 0.3912 - val_acc: 0.8278\n",
      "Epoch 12/50\n",
      "125/125 [==============================] - 7s 53ms/step - loss: 0.0960 - acc: 0.9865 - val_loss: 0.4044 - val_acc: 0.8263\n",
      "Epoch 13/50\n",
      "125/125 [==============================] - 6s 52ms/step - loss: 0.0823 - acc: 0.9908 - val_loss: 0.4317 - val_acc: 0.8230\n",
      "Epoch 14/50\n",
      "125/125 [==============================] - 6s 50ms/step - loss: 0.0717 - acc: 0.9937 - val_loss: 0.4147 - val_acc: 0.8278\n",
      "Epoch 15/50\n",
      "125/125 [==============================] - 6s 49ms/step - loss: 0.0567 - acc: 0.9973 - val_loss: 0.4232 - val_acc: 0.8265\n",
      "Epoch 16/50\n",
      "125/125 [==============================] - 6s 49ms/step - loss: 0.0498 - acc: 0.9984 - val_loss: 0.4343 - val_acc: 0.8310\n",
      "Epoch 17/50\n",
      "125/125 [==============================] - 6s 51ms/step - loss: 0.0415 - acc: 0.9993 - val_loss: 0.4546 - val_acc: 0.8295\n",
      "Epoch 18/50\n",
      "125/125 [==============================] - 6s 49ms/step - loss: 0.0349 - acc: 0.9996 - val_loss: 0.4475 - val_acc: 0.8295\n",
      "Epoch 19/50\n",
      "125/125 [==============================] - 6s 44ms/step - loss: 0.0312 - acc: 0.9999 - val_loss: 0.4609 - val_acc: 0.8315\n",
      "Epoch 20/50\n",
      "125/125 [==============================] - 6s 44ms/step - loss: 0.0261 - acc: 0.9999 - val_loss: 0.4731 - val_acc: 0.8282\n",
      "Epoch 21/50\n",
      "125/125 [==============================] - 6s 46ms/step - loss: 0.0229 - acc: 0.9999 - val_loss: 0.4710 - val_acc: 0.8282\n",
      "Epoch 22/50\n",
      "125/125 [==============================] - 6s 45ms/step - loss: 0.0194 - acc: 0.9999 - val_loss: 0.4824 - val_acc: 0.8292\n",
      "Epoch 23/50\n",
      "125/125 [==============================] - 6s 44ms/step - loss: 0.0178 - acc: 1.0000 - val_loss: 0.4982 - val_acc: 0.8313\n",
      "Epoch 24/50\n",
      "125/125 [==============================] - 5s 43ms/step - loss: 0.0154 - acc: 1.0000 - val_loss: 0.4991 - val_acc: 0.8288\n",
      "Epoch 25/50\n",
      "125/125 [==============================] - 5s 44ms/step - loss: 0.0134 - acc: 0.9999 - val_loss: 0.5048 - val_acc: 0.8313\n",
      "Epoch 26/50\n",
      "125/125 [==============================] - 5s 43ms/step - loss: 0.0120 - acc: 1.0000 - val_loss: 0.5159 - val_acc: 0.8298\n",
      "Epoch 27/50\n",
      "125/125 [==============================] - 5s 43ms/step - loss: 0.0105 - acc: 1.0000 - val_loss: 0.5241 - val_acc: 0.8315\n",
      "Epoch 28/50\n",
      "125/125 [==============================] - 5s 44ms/step - loss: 0.0094 - acc: 1.0000 - val_loss: 0.5292 - val_acc: 0.8292\n",
      "Epoch 29/50\n",
      "125/125 [==============================] - 5s 42ms/step - loss: 0.0086 - acc: 1.0000 - val_loss: 0.5378 - val_acc: 0.8300\n",
      "Epoch 30/50\n",
      "125/125 [==============================] - 6s 49ms/step - loss: 0.0076 - acc: 1.0000 - val_loss: 0.5443 - val_acc: 0.8310\n",
      "Epoch 31/50\n",
      "125/125 [==============================] - 5s 43ms/step - loss: 0.0067 - acc: 1.0000 - val_loss: 0.5513 - val_acc: 0.8317\n",
      "Epoch 32/50\n",
      "125/125 [==============================] - 5s 43ms/step - loss: 0.0061 - acc: 1.0000 - val_loss: 0.5596 - val_acc: 0.8313\n",
      "Epoch 33/50\n",
      "125/125 [==============================] - 5s 43ms/step - loss: 0.0055 - acc: 1.0000 - val_loss: 0.5709 - val_acc: 0.8303\n",
      "Epoch 34/50\n",
      "125/125 [==============================] - 5s 44ms/step - loss: 0.0050 - acc: 1.0000 - val_loss: 0.5745 - val_acc: 0.8320\n",
      "Epoch 35/50\n",
      "125/125 [==============================] - 5s 43ms/step - loss: 0.0045 - acc: 1.0000 - val_loss: 0.5800 - val_acc: 0.8307\n",
      "Epoch 36/50\n",
      "125/125 [==============================] - 5s 43ms/step - loss: 0.0042 - acc: 1.0000 - val_loss: 0.5905 - val_acc: 0.8303\n",
      "Epoch 37/50\n",
      "125/125 [==============================] - 6s 45ms/step - loss: 0.0039 - acc: 1.0000 - val_loss: 0.6008 - val_acc: 0.8307\n",
      "Epoch 38/50\n",
      "125/125 [==============================] - 5s 43ms/step - loss: 0.0034 - acc: 1.0000 - val_loss: 0.6031 - val_acc: 0.8317\n",
      "Epoch 39/50\n",
      "125/125 [==============================] - 5s 43ms/step - loss: 0.0031 - acc: 1.0000 - val_loss: 0.6077 - val_acc: 0.8310\n",
      "Epoch 40/50\n",
      "125/125 [==============================] - 5s 44ms/step - loss: 0.0028 - acc: 1.0000 - val_loss: 0.6137 - val_acc: 0.8335\n",
      "Epoch 41/50\n",
      "125/125 [==============================] - 5s 42ms/step - loss: 0.0026 - acc: 1.0000 - val_loss: 0.6206 - val_acc: 0.8317\n",
      "Epoch 42/50\n",
      "125/125 [==============================] - 5s 42ms/step - loss: 0.0024 - acc: 1.0000 - val_loss: 0.6271 - val_acc: 0.8313\n",
      "Epoch 43/50\n",
      "125/125 [==============================] - 6s 49ms/step - loss: 0.0022 - acc: 1.0000 - val_loss: 0.6349 - val_acc: 0.8328\n",
      "Epoch 44/50\n",
      "125/125 [==============================] - 5s 43ms/step - loss: 0.0020 - acc: 1.0000 - val_loss: 0.6496 - val_acc: 0.8305\n",
      "Epoch 45/50\n",
      "125/125 [==============================] - 6s 48ms/step - loss: 0.0018 - acc: 1.0000 - val_loss: 0.6469 - val_acc: 0.8313\n",
      "Epoch 46/50\n",
      "125/125 [==============================] - 5s 43ms/step - loss: 0.0017 - acc: 1.0000 - val_loss: 0.6547 - val_acc: 0.8335\n",
      "Epoch 47/50\n",
      "125/125 [==============================] - 5s 43ms/step - loss: 0.0015 - acc: 1.0000 - val_loss: 0.6613 - val_acc: 0.8338\n",
      "Epoch 48/50\n",
      "125/125 [==============================] - 5s 43ms/step - loss: 0.0014 - acc: 1.0000 - val_loss: 0.6766 - val_acc: 0.8290\n",
      "Epoch 49/50\n",
      "125/125 [==============================] - 6s 48ms/step - loss: 0.0013 - acc: 1.0000 - val_loss: 0.6756 - val_acc: 0.8332\n",
      "Epoch 50/50\n",
      "125/125 [==============================] - 6s 47ms/step - loss: 0.0012 - acc: 1.0000 - val_loss: 0.6767 - val_acc: 0.8313\n",
      "Model: \"sequential_5\"\n",
      "_________________________________________________________________\n",
      "Layer (type)                 Output Shape              Param #   \n",
      "=================================================================\n",
      "embedding_3 (Embedding)      (None, 100, 100)          6855600   \n",
      "_________________________________________________________________\n",
      "conv1d (Conv1D)              (None, 96, 128)           64128     \n",
      "_________________________________________________________________\n",
      "global_max_pooling1d (Global (None, 128)               0         \n",
      "_________________________________________________________________\n",
      "dense_9 (Dense)              (None, 1)                 129       \n",
      "=================================================================\n",
      "Total params: 6,919,857\n",
      "Trainable params: 64,257\n",
      "Non-trainable params: 6,855,600\n",
      "_________________________________________________________________\n",
      "None\n"
     ]
    },
    {
     "name": "stdout",
     "output_type": "stream",
     "text": [
      "625/625 [==============================] - 3s 4ms/step - loss: 0.1362 - acc: 0.9663\n",
      "157/157 [==============================] - 1s 4ms/step - loss: 0.6551 - acc: 0.8350\n",
      "Train Accuracy: 0.9662500023841858\n",
      "Test Accuracy: 0.8349999785423279\n"
     ]
    },
    {
     "data": {
      "image/png": "[encoded data removed]",
      "text/plain": [
       "<Figure size 432x288 with 1 Axes>"
      ]
     },
     "metadata": {
      "needs_background": "light"
     },
     "output_type": "display_data"
    },
    {
     "data": {
      "image/png": "[encoded data removed]",
      "text/plain": [
       "<Figure size 432x288 with 1 Axes>"
      ]
     },
     "metadata": {
      "needs_background": "light"
     },
     "output_type": "display_data"
    }
   ],
   "source": [
    "model = Sequential()\n",
    "\n",
    "embedding_layer = Embedding(vocab_size, 100, weights=[embedding_matrix], input_length=maxlen, trainable=False)\n",
    "model.add(embedding_layer)\n",
    "\n",
    "model.add(Conv1D(128, 5, activation='relu'))\n",
    "model.add(GlobalMaxPooling1D())\n",
    "model.add(Dense(1, activation='sigmoid'))\n",
    "model.compile(optimizer='adam', loss='binary_crossentropy', metrics=['acc'])\n",
    "print(model.summary())\n",
    "\n",
    "history = model.fit(X_train, y_train, batch_size=128, epochs=50, verbose=1, validation_split=0.2)\n",
    "print(model.summary())\n",
    "score_train = model.evaluate(X_train, y_train, verbose=1)\n",
    "score_test = model.evaluate(X_test, y_test, verbose=1)\n",
    "\n",
    "# results\n",
    "print (\"Train Accuracy:\", score_train[1])\n",
    "print(\"Test Accuracy:\", score_test[1])\n",
    "plot_results(history)"
   ]
  },
  {
   "cell_type": "markdown",
   "metadata": {},
   "source": [
    "### CNN Early Stopping"
   ]
  },
  {
   "cell_type": "code",
   "execution_count": 32,
   "metadata": {},
   "outputs": [
    {
     "name": "stdout",
     "output_type": "stream",
     "text": [
      "Epoch 1/30\n",
      "125/125 [==============================] - ETA: 0s - loss: 0.5688 - acc: 0.7078\n",
      "Epoch 00001: val_loss improved from inf to 0.46783, saving model to best_model.h5\n",
      "125/125 [==============================] - 6s 47ms/step - loss: 0.5688 - acc: 0.7078 - val_loss: 0.4678 - val_acc: 0.7828\n",
      "Epoch 2/30\n",
      "124/125 [============================>.] - ETA: 0s - loss: 0.4057 - acc: 0.8230\n",
      "Epoch 00002: val_loss improved from 0.46783 to 0.41423, saving model to best_model.h5\n",
      "125/125 [==============================] - 7s 53ms/step - loss: 0.4056 - acc: 0.8227 - val_loss: 0.4142 - val_acc: 0.8070\n",
      "Epoch 3/30\n",
      "124/125 [============================>.] - ETA: 0s - loss: 0.3484 - acc: 0.8503\n",
      "Epoch 00003: val_loss improved from 0.41423 to 0.39625, saving model to best_model.h5\n",
      "125/125 [==============================] - 6s 50ms/step - loss: 0.3485 - acc: 0.8502 - val_loss: 0.3963 - val_acc: 0.8195\n",
      "Epoch 4/30\n",
      "124/125 [============================>.] - ETA: 0s - loss: 0.2981 - acc: 0.8827- ETA: 1s - loss: 0.29\n",
      "Epoch 00004: val_loss improved from 0.39625 to 0.39359, saving model to best_model.h5\n",
      "125/125 [==============================] - 6s 50ms/step - loss: 0.2986 - acc: 0.8823 - val_loss: 0.3936 - val_acc: 0.8198\n",
      "Epoch 5/30\n",
      "124/125 [============================>.] - ETA: 0s - loss: 0.2644 - acc: 0.8990-\n",
      "Epoch 00005: val_loss improved from 0.39359 to 0.37797, saving model to best_model.h5\n",
      "125/125 [==============================] - 6s 49ms/step - loss: 0.2641 - acc: 0.8992 - val_loss: 0.3780 - val_acc: 0.8288\n",
      "Epoch 6/30\n",
      "124/125 [============================>.] - ETA: 0s - loss: 0.2358 - acc: 0.9138- ETA: 0s - loss: 0.2360 - acc: 0.9\n",
      "Epoch 00006: val_loss did not improve from 0.37797\n",
      "125/125 [==============================] - 6s 49ms/step - loss: 0.2367 - acc: 0.9132 - val_loss: 0.4078 - val_acc: 0.8167\n",
      "Epoch 7/30\n",
      "125/125 [==============================] - ETA: 0s - loss: 0.2068 - acc: 0.9294- ETA\n",
      "Epoch 00007: val_loss did not improve from 0.37797\n",
      "125/125 [==============================] - 6s 48ms/step - loss: 0.2068 - acc: 0.9294 - val_loss: 0.3803 - val_acc: 0.8305\n",
      "Epoch 8/30\n",
      "124/125 [============================>.] - ETA: 0s - loss: 0.1792 - acc: 0.9459\n",
      "Epoch 00008: val_loss improved from 0.37797 to 0.37619, saving model to best_model.h5\n",
      "125/125 [==============================] - 6s 45ms/step - loss: 0.1790 - acc: 0.9461 - val_loss: 0.3762 - val_acc: 0.8367\n",
      "Epoch 9/30\n",
      "124/125 [============================>.] - ETA: 0s - loss: 0.1522 - acc: 0.9600\n",
      "Epoch 00009: val_loss did not improve from 0.37619\n",
      "125/125 [==============================] - 6s 48ms/step - loss: 0.1523 - acc: 0.9598 - val_loss: 0.3843 - val_acc: 0.8350\n",
      "Epoch 10/30\n",
      "125/125 [==============================] - ETA: 0s - loss: 0.1300 - acc: 0.9720- ETA: 1s - loss:\n",
      "Epoch 00010: val_loss did not improve from 0.37619\n",
      "125/125 [==============================] - 6s 49ms/step - loss: 0.1300 - acc: 0.9720 - val_loss: 0.3875 - val_acc: 0.8340\n",
      "Epoch 11/30\n",
      "125/125 [==============================] - ETA: 0s - loss: 0.1088 - acc: 0.9824\n",
      "Epoch 00011: val_loss did not improve from 0.37619\n",
      "125/125 [==============================] - 6s 46ms/step - loss: 0.1088 - acc: 0.9824 - val_loss: 0.3892 - val_acc: 0.8375\n",
      "Epoch 12/30\n",
      "125/125 [==============================] - ETA: 0s - loss: 0.0960 - acc: 0.9868\n",
      "Epoch 00012: val_loss did not improve from 0.37619\n",
      "125/125 [==============================] - 5s 43ms/step - loss: 0.0960 - acc: 0.9868 - val_loss: 0.3940 - val_acc: 0.8345\n",
      "Epoch 13/30\n",
      "125/125 [==============================] - ETA: 0s - loss: 0.0797 - acc: 0.9926\n",
      "Epoch 00013: val_loss did not improve from 0.37619\n",
      "125/125 [==============================] - 6s 44ms/step - loss: 0.0797 - acc: 0.9926 - val_loss: 0.4055 - val_acc: 0.8342\n",
      "Epoch 00013: early stopping\n",
      "Model: \"sequential_6\"\n",
      "_________________________________________________________________\n",
      "Layer (type)                 Output Shape              Param #   \n",
      "=================================================================\n",
      "embedding_4 (Embedding)      (None, 100, 100)          6855600   \n",
      "_________________________________________________________________\n",
      "conv1d_1 (Conv1D)            (None, 96, 128)           64128     \n",
      "_________________________________________________________________\n",
      "global_max_pooling1d_1 (Glob (None, 128)               0         \n",
      "_________________________________________________________________\n",
      "dense_10 (Dense)             (None, 1)                 129       \n",
      "=================================================================\n",
      "Total params: 6,919,857\n",
      "Trainable params: 64,257\n",
      "Non-trainable params: 6,855,600\n",
      "_________________________________________________________________\n",
      "None\n",
      "625/625 [==============================] - 3s 5ms/step - loss: 0.1311 - acc: 0.9653\n",
      "157/157 [==============================] - 1s 4ms/step - loss: 0.3886 - acc: 0.8410\n",
      "Train Accuracy: 0.9653000235557556\n",
      "Test Accuracy: 0.8410000205039978\n"
     ]
    },
    {
     "data": {
      "image/png": "[encoded data removed]",
      "text/plain": [
       "<Figure size 432x288 with 1 Axes>"
      ]
     },
     "metadata": {
      "needs_background": "light"
     },
     "output_type": "display_data"
    },
    {
     "data": {
      "image/png": "[encoded data removed]",
      "text/plain": [
       "<Figure size 432x288 with 1 Axes>"
      ]
     },
     "metadata": {
      "needs_background": "light"
     },
     "output_type": "display_data"
    }
   ],
   "source": [
    "model = Sequential()\n",
    "\n",
    "embedding_layer = Embedding(vocab_size, 100, weights=[embedding_matrix], input_length=maxlen, trainable=False)\n",
    "model.add(embedding_layer)\n",
    "\n",
    "model.add(Conv1D(128, 5, activation='relu'))\n",
    "model.add(GlobalMaxPooling1D())\n",
    "model.add(Dense(1, activation='sigmoid'))\n",
    "model.compile(optimizer='adam', loss='binary_crossentropy', metrics=['acc'])\n",
    "\n",
    "es = EarlyStopping(monitor='val_loss', mode='min', patience=5, verbose=1)\n",
    "mc = ModelCheckpoint('best_model.h5', monitor='val_loss', mode='min', verbose=1, save_best_only=True)\n",
    "\n",
    "history = model.fit(X_train, y_train, batch_size=128, epochs=30, verbose=1, callbacks=[es, mc], validation_split=0.2)\n",
    "print(model.summary())\n",
    "score_train = model.evaluate(X_train, y_train, verbose=1)\n",
    "score_test = model.evaluate(X_test, y_test, verbose=1)\n",
    "\n",
    "# results\n",
    "print (\"Train Accuracy:\", score_train[1])\n",
    "print(\"Test Accuracy:\", score_test[1])\n",
    "plot_results(history)"
   ]
  },
  {
   "cell_type": "markdown",
   "metadata": {},
   "source": [
    "### RNN"
   ]
  },
  {
   "cell_type": "code",
   "execution_count": 33,
   "metadata": {},
   "outputs": [
    {
     "name": "stdout",
     "output_type": "stream",
     "text": [
      "Model: \"sequential_7\"\n",
      "_________________________________________________________________\n",
      "Layer (type)                 Output Shape              Param #   \n",
      "=================================================================\n",
      "embedding_5 (Embedding)      (None, 100, 100)          6855600   \n",
      "_________________________________________________________________\n",
      "simple_rnn (SimpleRNN)       (None, 128)               29312     \n",
      "_________________________________________________________________\n",
      "dense_11 (Dense)             (None, 1)                 129       \n",
      "=================================================================\n",
      "Total params: 6,885,041\n",
      "Trainable params: 29,441\n",
      "Non-trainable params: 6,855,600\n",
      "_________________________________________________________________\n",
      "None\n",
      "Epoch 1/30\n",
      "125/125 [==============================] - ETA: 0s - loss: 0.6934 - acc: 0.5464\n",
      "Epoch 00001: val_loss improved from inf to 0.69523, saving model to best_model.h5\n",
      "125/125 [==============================] - 9s 75ms/step - loss: 0.6934 - acc: 0.5464 - val_loss: 0.6952 - val_acc: 0.5500\n",
      "Epoch 2/30\n",
      "125/125 [==============================] - ETA: 0s - loss: 0.6676 - acc: 0.5886\n",
      "Epoch 00002: val_loss improved from 0.69523 to 0.65380, saving model to best_model.h5\n",
      "125/125 [==============================] - 9s 74ms/step - loss: 0.6676 - acc: 0.5886 - val_loss: 0.6538 - val_acc: 0.6100\n",
      "Epoch 3/30\n",
      "125/125 [==============================] - ETA: 0s - loss: 0.6636 - acc: 0.6020\n",
      "Epoch 00003: val_loss did not improve from 0.65380\n",
      "125/125 [==============================] - 9s 73ms/step - loss: 0.6636 - acc: 0.6020 - val_loss: 0.6906 - val_acc: 0.6445\n",
      "Epoch 4/30\n",
      "125/125 [==============================] - ETA: 0s - loss: 0.6764 - acc: 0.5816\n",
      "Epoch 00004: val_loss did not improve from 0.65380\n",
      "125/125 [==============================] - 9s 74ms/step - loss: 0.6764 - acc: 0.5816 - val_loss: 0.6730 - val_acc: 0.5690\n",
      "Epoch 5/30\n",
      "125/125 [==============================] - ETA: 0s - loss: 0.6608 - acc: 0.5952\n",
      "Epoch 00005: val_loss did not improve from 0.65380\n",
      "125/125 [==============================] - 9s 74ms/step - loss: 0.6608 - acc: 0.5952 - val_loss: 0.7130 - val_acc: 0.5822\n",
      "Epoch 6/30\n",
      "125/125 [==============================] - ETA: 0s - loss: 0.6421 - acc: 0.6308\n",
      "Epoch 00006: val_loss improved from 0.65380 to 0.61750, saving model to best_model.h5\n",
      "125/125 [==============================] - 9s 74ms/step - loss: 0.6421 - acc: 0.6308 - val_loss: 0.6175 - val_acc: 0.7032\n",
      "Epoch 7/30\n",
      "125/125 [==============================] - ETA: 0s - loss: 0.6753 - acc: 0.5773\n",
      "Epoch 00007: val_loss did not improve from 0.61750\n",
      "125/125 [==============================] - 9s 73ms/step - loss: 0.6753 - acc: 0.5773 - val_loss: 0.6825 - val_acc: 0.5475\n",
      "Epoch 8/30\n",
      "125/125 [==============================] - ETA: 0s - loss: 0.6787 - acc: 0.5631\n",
      "Epoch 00008: val_loss did not improve from 0.61750\n",
      "125/125 [==============================] - 9s 73ms/step - loss: 0.6787 - acc: 0.5631 - val_loss: 0.6776 - val_acc: 0.5590\n",
      "Epoch 9/30\n",
      "125/125 [==============================] - ETA: 0s - loss: 0.6757 - acc: 0.5697\n",
      "Epoch 00009: val_loss did not improve from 0.61750\n",
      "125/125 [==============================] - 9s 73ms/step - loss: 0.6757 - acc: 0.5697 - val_loss: 0.6716 - val_acc: 0.5698\n",
      "Epoch 10/30\n",
      "125/125 [==============================] - ETA: 0s - loss: 0.6675 - acc: 0.5824\n",
      "Epoch 00010: val_loss did not improve from 0.61750\n",
      "125/125 [==============================] - 9s 73ms/step - loss: 0.6675 - acc: 0.5824 - val_loss: 0.6507 - val_acc: 0.6083\n",
      "Epoch 11/30\n",
      "125/125 [==============================] - ETA: 0s - loss: 0.6755 - acc: 0.5714\n",
      "Epoch 00011: val_loss did not improve from 0.61750\n",
      "125/125 [==============================] - 9s 72ms/step - loss: 0.6755 - acc: 0.5714 - val_loss: 0.6781 - val_acc: 0.5565\n",
      "Epoch 00011: early stopping\n",
      "Model: \"sequential_7\"\n",
      "_________________________________________________________________\n",
      "Layer (type)                 Output Shape              Param #   \n",
      "=================================================================\n",
      "embedding_5 (Embedding)      (None, 100, 100)          6855600   \n",
      "_________________________________________________________________\n",
      "simple_rnn (SimpleRNN)       (None, 128)               29312     \n",
      "_________________________________________________________________\n",
      "dense_11 (Dense)             (None, 1)                 129       \n",
      "=================================================================\n",
      "Total params: 6,885,041\n",
      "Trainable params: 29,441\n",
      "Non-trainable params: 6,855,600\n",
      "_________________________________________________________________\n",
      "None\n",
      "625/625 [==============================] - 5s 8ms/step - loss: 0.6751 - acc: 0.5607\n",
      "157/157 [==============================] - 1s 7ms/step - loss: 0.6764 - acc: 0.5562\n",
      "Train Accuracy: 0.560699999332428\n",
      "Test Accuracy: 0.5562000274658203\n"
     ]
    },
    {
     "data": {
      "image/png": "[encoded data removed]",
      "text/plain": [
       "<Figure size 432x288 with 1 Axes>"
      ]
     },
     "metadata": {
      "needs_background": "light"
     },
     "output_type": "display_data"
    },
    {
     "data": {
      "image/png": "[encoded data removed]",
      "text/plain": [
       "<Figure size 432x288 with 1 Axes>"
      ]
     },
     "metadata": {
      "needs_background": "light"
     },
     "output_type": "display_data"
    }
   ],
   "source": [
    "model = Sequential()\n",
    "embedding_layer = Embedding(vocab_size, 100, weights=[embedding_matrix], input_length=maxlen, trainable=False)\n",
    "model.add(embedding_layer)\n",
    "model.add(SimpleRNN(128, dropout=0.2, recurrent_dropout=0.2))\n",
    "model.add(Dense(1, activation='sigmoid'))\n",
    "model.compile(optimizer='adam', loss='binary_crossentropy', metrics=['acc'])\n",
    "print(model.summary())\n",
    "\n",
    "es = EarlyStopping(monitor='val_loss', mode='min', patience=5, verbose=1)\n",
    "mc = ModelCheckpoint('best_model.h5', monitor='val_loss', mode='min', verbose=1, save_best_only=True)\n",
    "\n",
    "history = model.fit(X_train, y_train, batch_size=128, epochs=30, verbose=1, callbacks=[es, mc], validation_split=0.2)\n",
    "print(model.summary())\n",
    "score_train = model.evaluate(X_train, y_train, verbose=1)\n",
    "score_test = model.evaluate(X_test, y_test, verbose=1)\n",
    "\n",
    "# results\n",
    "print (\"Train Accuracy:\", score_train[1])\n",
    "print(\"Test Accuracy:\", score_test[1])\n",
    "plot_results(history)"
   ]
  },
  {
   "cell_type": "markdown",
   "metadata": {},
   "source": [
    "### LSTM"
   ]
  },
  {
   "cell_type": "code",
   "execution_count": 34,
   "metadata": {},
   "outputs": [
    {
     "name": "stdout",
     "output_type": "stream",
     "text": [
      "Model: \"sequential_8\"\n",
      "_________________________________________________________________\n",
      "Layer (type)                 Output Shape              Param #   \n",
      "=================================================================\n",
      "embedding_6 (Embedding)      (None, 100, 100)          6855600   \n",
      "_________________________________________________________________\n",
      "lstm (LSTM)                  (None, 128)               117248    \n",
      "_________________________________________________________________\n",
      "dense_12 (Dense)             (None, 1)                 129       \n",
      "=================================================================\n",
      "Total params: 6,972,977\n",
      "Trainable params: 117,377\n",
      "Non-trainable params: 6,855,600\n",
      "_________________________________________________________________\n",
      "None\n",
      "Epoch 1/15\n",
      "125/125 [==============================] - 40s 321ms/step - loss: 0.6284 - acc: 0.6426 - val_loss: 0.5432 - val_acc: 0.7305\n",
      "Epoch 2/15\n",
      "125/125 [==============================] - 40s 323ms/step - loss: 0.5545 - acc: 0.7216 - val_loss: 0.4898 - val_acc: 0.7635\n",
      "Epoch 3/15\n",
      "125/125 [==============================] - 41s 329ms/step - loss: 0.5029 - acc: 0.7586 - val_loss: 0.4716 - val_acc: 0.7837\n",
      "Epoch 4/15\n",
      "125/125 [==============================] - 42s 338ms/step - loss: 0.4671 - acc: 0.7753 - val_loss: 0.4904 - val_acc: 0.7778\n",
      "Epoch 5/15\n",
      "125/125 [==============================] - 42s 335ms/step - loss: 0.4560 - acc: 0.7849 - val_loss: 0.4153 - val_acc: 0.8085\n",
      "Epoch 6/15\n",
      "125/125 [==============================] - 42s 339ms/step - loss: 0.4358 - acc: 0.7955 - val_loss: 0.4221 - val_acc: 0.8163\n",
      "Epoch 7/15\n",
      "125/125 [==============================] - 43s 343ms/step - loss: 0.4239 - acc: 0.8006 - val_loss: 0.3946 - val_acc: 0.8238\n",
      "Epoch 8/15\n",
      "125/125 [==============================] - 41s 332ms/step - loss: 0.4116 - acc: 0.8092 - val_loss: 0.3859 - val_acc: 0.8270\n",
      "Epoch 9/15\n",
      "125/125 [==============================] - 45s 361ms/step - loss: 0.4072 - acc: 0.8125 - val_loss: 0.3786 - val_acc: 0.8363\n",
      "Epoch 10/15\n",
      "125/125 [==============================] - 47s 377ms/step - loss: 0.3894 - acc: 0.8231 - val_loss: 0.3782 - val_acc: 0.8360\n",
      "Epoch 11/15\n",
      "125/125 [==============================] - 49s 394ms/step - loss: 0.3843 - acc: 0.8231 - val_loss: 0.3753 - val_acc: 0.8322\n",
      "Epoch 12/15\n",
      "125/125 [==============================] - 52s 418ms/step - loss: 0.3802 - acc: 0.8278 - val_loss: 0.3655 - val_acc: 0.8380\n",
      "Epoch 13/15\n",
      "125/125 [==============================] - 50s 399ms/step - loss: 0.3680 - acc: 0.8363 - val_loss: 0.3729 - val_acc: 0.8325\n",
      "Epoch 14/15\n",
      "125/125 [==============================] - 53s 423ms/step - loss: 0.3580 - acc: 0.8394 - val_loss: 0.3701 - val_acc: 0.8328\n",
      "Epoch 15/15\n",
      "125/125 [==============================] - 50s 399ms/step - loss: 0.3525 - acc: 0.8460 - val_loss: 0.3600 - val_acc: 0.8445\n",
      "Model: \"sequential_8\"\n",
      "_________________________________________________________________\n",
      "Layer (type)                 Output Shape              Param #   \n",
      "=================================================================\n",
      "embedding_6 (Embedding)      (None, 100, 100)          6855600   \n",
      "_________________________________________________________________\n",
      "lstm (LSTM)                  (None, 128)               117248    \n",
      "_________________________________________________________________\n",
      "dense_12 (Dense)             (None, 1)                 129       \n",
      "=================================================================\n",
      "Total params: 6,972,977\n",
      "Trainable params: 117,377\n",
      "Non-trainable params: 6,855,600\n",
      "_________________________________________________________________\n",
      "None\n",
      "625/625 [==============================] - 12s 20ms/step - loss: 0.3082 - acc: 0.8666\n",
      "157/157 [==============================] - 3s 18ms/step - loss: 0.3554 - acc: 0.8470\n",
      "Train Accuracy: 0.8665500283241272\n",
      "Test Accuracy: 0.847000002861023\n"
     ]
    },
    {
     "data": {
      "image/png": "[encoded data removed]",
      "text/plain": [
       "<Figure size 432x288 with 1 Axes>"
      ]
     },
     "metadata": {
      "needs_background": "light"
     },
     "output_type": "display_data"
    },
    {
     "data": {
      "image/png": "[encoded data removed]",
      "text/plain": [
       "<Figure size 432x288 with 1 Axes>"
      ]
     },
     "metadata": {
      "needs_background": "light"
     },
     "output_type": "display_data"
    }
   ],
   "source": [
    "model = Sequential()\n",
    "embedding_layer = Embedding(vocab_size, 100, weights=[embedding_matrix], input_length=maxlen, trainable=False)\n",
    "model.add(embedding_layer)\n",
    "model.add(LSTM(128, dropout=0.4, recurrent_dropout=0.4))\n",
    "model.add(Dense(1, activation='sigmoid'))\n",
    "model.compile(optimizer='adam', loss='binary_crossentropy', metrics=['acc'])\n",
    "print(model.summary())\n",
    "\n",
    "history = model.fit(X_train, y_train, batch_size=128, epochs=15, verbose=1, validation_split=0.2)\n",
    "print(model.summary())\n",
    "score_train = model.evaluate(X_train, y_train, verbose=1)\n",
    "score_test = model.evaluate(X_test, y_test, verbose=1)\n",
    "\n",
    "# results\n",
    "print (\"Train Accuracy:\", score_train[1])\n",
    "print(\"Test Accuracy:\", score_test[1])\n",
    "plot_results(history)"
   ]
  },
  {
   "cell_type": "markdown",
   "metadata": {},
   "source": [
    "### LSTM com Early Stopping"
   ]
  },
  {
   "cell_type": "code",
   "execution_count": 35,
   "metadata": {},
   "outputs": [
    {
     "name": "stdout",
     "output_type": "stream",
     "text": [
      "Model: \"sequential_9\"\n",
      "_________________________________________________________________\n",
      "Layer (type)                 Output Shape              Param #   \n",
      "=================================================================\n",
      "embedding_7 (Embedding)      (None, 100, 100)          6855600   \n",
      "_________________________________________________________________\n",
      "lstm_1 (LSTM)                (None, 128)               117248    \n",
      "_________________________________________________________________\n",
      "dense_13 (Dense)             (None, 1)                 129       \n",
      "=================================================================\n",
      "Total params: 6,972,977\n",
      "Trainable params: 117,377\n",
      "Non-trainable params: 6,855,600\n",
      "_________________________________________________________________\n",
      "None\n",
      "Epoch 1/100\n",
      "125/125 [==============================] - ETA: 0s - loss: 0.5983 - acc: 0.6719\n",
      "Epoch 00001: val_loss improved from inf to 0.52120, saving model to best_model.h5\n",
      "125/125 [==============================] - 39s 310ms/step - loss: 0.5983 - acc: 0.6719 - val_loss: 0.5212 - val_acc: 0.7505\n",
      "Epoch 2/100\n",
      "125/125 [==============================] - ETA: 0s - loss: 0.5330 - acc: 0.7389\n",
      "Epoch 00002: val_loss improved from 0.52120 to 0.48988, saving model to best_model.h5\n",
      "125/125 [==============================] - 39s 309ms/step - loss: 0.5330 - acc: 0.7389 - val_loss: 0.4899 - val_acc: 0.7648\n",
      "Epoch 3/100\n",
      "125/125 [==============================] - ETA: 0s - loss: 0.5002 - acc: 0.7553\n",
      "Epoch 00003: val_loss improved from 0.48988 to 0.47219, saving model to best_model.h5\n",
      "125/125 [==============================] - 40s 319ms/step - loss: 0.5002 - acc: 0.7553 - val_loss: 0.4722 - val_acc: 0.7725\n",
      "Epoch 4/100\n",
      "125/125 [==============================] - ETA: 0s - loss: 0.4763 - acc: 0.7720\n",
      "Epoch 00004: val_loss improved from 0.47219 to 0.44473, saving model to best_model.h5\n",
      "125/125 [==============================] - 40s 317ms/step - loss: 0.4763 - acc: 0.7720 - val_loss: 0.4447 - val_acc: 0.7928\n",
      "Epoch 5/100\n",
      "125/125 [==============================] - ETA: 0s - loss: 0.4509 - acc: 0.7874\n",
      "Epoch 00005: val_loss improved from 0.44473 to 0.42370, saving model to best_model.h5\n",
      "125/125 [==============================] - 39s 308ms/step - loss: 0.4509 - acc: 0.7874 - val_loss: 0.4237 - val_acc: 0.8070\n",
      "Epoch 6/100\n",
      "125/125 [==============================] - ETA: 0s - loss: 0.4277 - acc: 0.8031\n",
      "Epoch 00006: val_loss improved from 0.42370 to 0.41225, saving model to best_model.h5\n",
      "125/125 [==============================] - 39s 315ms/step - loss: 0.4277 - acc: 0.8031 - val_loss: 0.4122 - val_acc: 0.8085\n",
      "Epoch 7/100\n",
      "125/125 [==============================] - ETA: 0s - loss: 0.4161 - acc: 0.8101\n",
      "Epoch 00007: val_loss did not improve from 0.41225\n",
      "125/125 [==============================] - 38s 308ms/step - loss: 0.4161 - acc: 0.8101 - val_loss: 0.4306 - val_acc: 0.8080\n",
      "Epoch 8/100\n",
      "125/125 [==============================] - ETA: 0s - loss: 0.4054 - acc: 0.8146\n",
      "Epoch 00008: val_loss improved from 0.41225 to 0.39979, saving model to best_model.h5\n",
      "125/125 [==============================] - 41s 329ms/step - loss: 0.4054 - acc: 0.8146 - val_loss: 0.3998 - val_acc: 0.8158\n",
      "Epoch 9/100\n",
      "125/125 [==============================] - ETA: 0s - loss: 0.3948 - acc: 0.8211\n",
      "Epoch 00009: val_loss did not improve from 0.39979\n",
      "125/125 [==============================] - 39s 308ms/step - loss: 0.3948 - acc: 0.8211 - val_loss: 0.4225 - val_acc: 0.8152\n",
      "Epoch 10/100\n",
      "125/125 [==============================] - ETA: 0s - loss: 0.3862 - acc: 0.8260\n",
      "Epoch 00010: val_loss improved from 0.39979 to 0.36986, saving model to best_model.h5\n",
      "125/125 [==============================] - 41s 330ms/step - loss: 0.3862 - acc: 0.8260 - val_loss: 0.3699 - val_acc: 0.8350\n",
      "Epoch 11/100\n",
      "125/125 [==============================] - ETA: 0s - loss: 0.3784 - acc: 0.8302\n",
      "Epoch 00011: val_loss did not improve from 0.36986\n",
      "125/125 [==============================] - 41s 325ms/step - loss: 0.3784 - acc: 0.8302 - val_loss: 0.3736 - val_acc: 0.8380\n",
      "Epoch 12/100\n",
      "125/125 [==============================] - ETA: 0s - loss: 0.3675 - acc: 0.8343\n",
      "Epoch 00012: val_loss improved from 0.36986 to 0.36843, saving model to best_model.h5\n",
      "125/125 [==============================] - 39s 315ms/step - loss: 0.3675 - acc: 0.8343 - val_loss: 0.3684 - val_acc: 0.8462\n",
      "Epoch 13/100\n",
      "125/125 [==============================] - ETA: 0s - loss: 0.3660 - acc: 0.8366\n",
      "Epoch 00013: val_loss did not improve from 0.36843\n",
      "125/125 [==============================] - 40s 317ms/step - loss: 0.3660 - acc: 0.8366 - val_loss: 0.3906 - val_acc: 0.8278\n",
      "Epoch 14/100\n",
      "125/125 [==============================] - ETA: 0s - loss: 0.3633 - acc: 0.8379\n",
      "Epoch 00014: val_loss improved from 0.36843 to 0.36423, saving model to best_model.h5\n",
      "125/125 [==============================] - 38s 308ms/step - loss: 0.3633 - acc: 0.8379 - val_loss: 0.3642 - val_acc: 0.8403\n",
      "Epoch 15/100\n",
      "125/125 [==============================] - ETA: 0s - loss: 0.3517 - acc: 0.8421\n",
      "Epoch 00015: val_loss improved from 0.36423 to 0.35690, saving model to best_model.h5\n",
      "125/125 [==============================] - 40s 318ms/step - loss: 0.3517 - acc: 0.8421 - val_loss: 0.3569 - val_acc: 0.8478\n",
      "Epoch 16/100\n",
      "125/125 [==============================] - ETA: 0s - loss: 0.3451 - acc: 0.8487\n",
      "Epoch 00016: val_loss did not improve from 0.35690\n",
      "125/125 [==============================] - 39s 312ms/step - loss: 0.3451 - acc: 0.8487 - val_loss: 0.3644 - val_acc: 0.8470\n",
      "Epoch 17/100\n",
      "125/125 [==============================] - ETA: 0s - loss: 0.3459 - acc: 0.8464\n",
      "Epoch 00017: val_loss did not improve from 0.35690\n",
      "125/125 [==============================] - 38s 308ms/step - loss: 0.3459 - acc: 0.8464 - val_loss: 0.3673 - val_acc: 0.8438\n",
      "Epoch 18/100\n",
      "125/125 [==============================] - ETA: 0s - loss: 0.3374 - acc: 0.8524\n",
      "Epoch 00018: val_loss did not improve from 0.35690\n",
      "125/125 [==============================] - 38s 303ms/step - loss: 0.3374 - acc: 0.8524 - val_loss: 0.3587 - val_acc: 0.8413\n",
      "Epoch 19/100\n",
      "125/125 [==============================] - ETA: 0s - loss: 0.3300 - acc: 0.8543\n",
      "Epoch 00019: val_loss did not improve from 0.35690\n",
      "125/125 [==============================] - 37s 293ms/step - loss: 0.3300 - acc: 0.8543 - val_loss: 0.3574 - val_acc: 0.8487\n",
      "Epoch 20/100\n",
      "125/125 [==============================] - ETA: 0s - loss: 0.3307 - acc: 0.8520\n",
      "Epoch 00020: val_loss improved from 0.35690 to 0.34920, saving model to best_model.h5\n",
      "125/125 [==============================] - 37s 295ms/step - loss: 0.3307 - acc: 0.8520 - val_loss: 0.3492 - val_acc: 0.8500\n",
      "Epoch 21/100\n",
      "125/125 [==============================] - ETA: 0s - loss: 0.3153 - acc: 0.8619\n",
      "Epoch 00021: val_loss did not improve from 0.34920\n",
      "125/125 [==============================] - 36s 292ms/step - loss: 0.3153 - acc: 0.8619 - val_loss: 0.3654 - val_acc: 0.8510\n",
      "Epoch 22/100\n",
      "125/125 [==============================] - ETA: 0s - loss: 0.3122 - acc: 0.8636\n",
      "Epoch 00022: val_loss did not improve from 0.34920\n",
      "125/125 [==============================] - 38s 306ms/step - loss: 0.3122 - acc: 0.8636 - val_loss: 0.3732 - val_acc: 0.8388\n",
      "Epoch 23/100\n",
      "125/125 [==============================] - ETA: 0s - loss: 0.3123 - acc: 0.8651\n",
      "Epoch 00023: val_loss did not improve from 0.34920\n",
      "125/125 [==============================] - 37s 297ms/step - loss: 0.3123 - acc: 0.8651 - val_loss: 0.3533 - val_acc: 0.8505\n",
      "Epoch 24/100\n",
      "125/125 [==============================] - ETA: 0s - loss: 0.3097 - acc: 0.8636\n",
      "Epoch 00024: val_loss improved from 0.34920 to 0.34475, saving model to best_model.h5\n",
      "125/125 [==============================] - 38s 301ms/step - loss: 0.3097 - acc: 0.8636 - val_loss: 0.3447 - val_acc: 0.8497\n",
      "Epoch 25/100\n",
      "125/125 [==============================] - ETA: 0s - loss: 0.3013 - acc: 0.8683\n",
      "Epoch 00025: val_loss did not improve from 0.34475\n",
      "125/125 [==============================] - 37s 292ms/step - loss: 0.3013 - acc: 0.8683 - val_loss: 0.3530 - val_acc: 0.8495\n",
      "Epoch 26/100\n",
      "125/125 [==============================] - ETA: 0s - loss: 0.2996 - acc: 0.8684\n",
      "Epoch 00026: val_loss did not improve from 0.34475\n",
      "125/125 [==============================] - 37s 296ms/step - loss: 0.2996 - acc: 0.8684 - val_loss: 0.3555 - val_acc: 0.8510\n",
      "Epoch 27/100\n"
     ]
    },
    {
     "name": "stdout",
     "output_type": "stream",
     "text": [
      "125/125 [==============================] - ETA: 0s - loss: 0.2921 - acc: 0.8721\n",
      "Epoch 00027: val_loss did not improve from 0.34475\n",
      "125/125 [==============================] - 38s 302ms/step - loss: 0.2921 - acc: 0.8721 - val_loss: 0.4465 - val_acc: 0.8320\n",
      "Epoch 28/100\n",
      "125/125 [==============================] - ETA: 0s - loss: 0.2991 - acc: 0.8668\n",
      "Epoch 00028: val_loss did not improve from 0.34475\n",
      "125/125 [==============================] - 36s 290ms/step - loss: 0.2991 - acc: 0.8668 - val_loss: 0.4048 - val_acc: 0.8430\n",
      "Epoch 29/100\n",
      "125/125 [==============================] - ETA: 0s - loss: 0.2835 - acc: 0.8774\n",
      "Epoch 00029: val_loss did not improve from 0.34475\n",
      "125/125 [==============================] - 37s 296ms/step - loss: 0.2835 - acc: 0.8774 - val_loss: 0.3870 - val_acc: 0.8415\n",
      "Epoch 30/100\n",
      "125/125 [==============================] - ETA: 0s - loss: 0.2764 - acc: 0.8792\n",
      "Epoch 00030: val_loss did not improve from 0.34475\n",
      "125/125 [==============================] - 36s 288ms/step - loss: 0.2764 - acc: 0.8792 - val_loss: 0.3554 - val_acc: 0.8518\n",
      "Epoch 31/100\n",
      "125/125 [==============================] - ETA: 0s - loss: 0.2796 - acc: 0.8782\n",
      "Epoch 00031: val_loss did not improve from 0.34475\n",
      "125/125 [==============================] - 36s 290ms/step - loss: 0.2796 - acc: 0.8782 - val_loss: 0.3647 - val_acc: 0.8555\n",
      "Epoch 32/100\n",
      "125/125 [==============================] - ETA: 0s - loss: 0.2763 - acc: 0.8826\n",
      "Epoch 00032: val_loss did not improve from 0.34475\n",
      "125/125 [==============================] - 37s 300ms/step - loss: 0.2763 - acc: 0.8826 - val_loss: 0.3570 - val_acc: 0.8493\n",
      "Epoch 33/100\n",
      "125/125 [==============================] - ETA: 0s - loss: 0.2658 - acc: 0.8863\n",
      "Epoch 00033: val_loss did not improve from 0.34475\n",
      "125/125 [==============================] - 39s 312ms/step - loss: 0.2658 - acc: 0.8863 - val_loss: 0.3851 - val_acc: 0.8468\n",
      "Epoch 34/100\n",
      "125/125 [==============================] - ETA: 0s - loss: 0.2608 - acc: 0.8865\n",
      "Epoch 00034: val_loss did not improve from 0.34475\n",
      "125/125 [==============================] - 46s 371ms/step - loss: 0.2608 - acc: 0.8865 - val_loss: 0.3574 - val_acc: 0.8528\n",
      "Epoch 00034: early stopping\n",
      "Model: \"sequential_9\"\n",
      "_________________________________________________________________\n",
      "Layer (type)                 Output Shape              Param #   \n",
      "=================================================================\n",
      "embedding_7 (Embedding)      (None, 100, 100)          6855600   \n",
      "_________________________________________________________________\n",
      "lstm_1 (LSTM)                (None, 128)               117248    \n",
      "_________________________________________________________________\n",
      "dense_13 (Dense)             (None, 1)                 129       \n",
      "=================================================================\n",
      "Total params: 6,972,977\n",
      "Trainable params: 117,377\n",
      "Non-trainable params: 6,855,600\n",
      "_________________________________________________________________\n",
      "None\n",
      "625/625 [==============================] - 16s 26ms/step - loss: 0.2616 - acc: 0.8920 0s - loss: 0.2585 - \n",
      "157/157 [==============================] - 4s 24ms/step - loss: 0.3420 - acc: 0.8530\n",
      "Train Accuracy: 0.8919500112533569\n",
      "Test Accuracy: 0.8529999852180481\n"
     ]
    },
    {
     "data": {
      "image/png": "[encoded data removed]",
      "text/plain": [
       "<Figure size 432x288 with 1 Axes>"
      ]
     },
     "metadata": {
      "needs_background": "light"
     },
     "output_type": "display_data"
    },
    {
     "data": {
      "image/png": "[encoded data removed]",
      "text/plain": [
       "<Figure size 432x288 with 1 Axes>"
      ]
     },
     "metadata": {
      "needs_background": "light"
     },
     "output_type": "display_data"
    }
   ],
   "source": [
    "model = Sequential()\n",
    "embedding_layer = Embedding(vocab_size, 100, weights=[embedding_matrix], input_length=maxlen, trainable=False)\n",
    "model.add(embedding_layer)\n",
    "model.add(LSTM(128, dropout=0.4, recurrent_dropout=0.4))\n",
    "model.add(Dense(1, activation='sigmoid'))\n",
    "model.compile(optimizer='adam', loss='binary_crossentropy', metrics=['acc'])\n",
    "print(model.summary())\n",
    "\n",
    "es = EarlyStopping(monitor='val_loss', mode='min', patience=10, verbose=1)\n",
    "mc = ModelCheckpoint('best_model.h5', monitor='val_loss', mode='min', verbose=1, save_best_only=True)\n",
    "\n",
    "history = model.fit(X_train, y_train, batch_size=128, epochs=100, verbose=1, callbacks=[es, mc], validation_split=0.2)\n",
    "\n",
    "# load a saved model (best model)\n",
    "model = load_model('best_model.h5')\n",
    "print(model.summary())\n",
    "\n",
    "score_train = model.evaluate(X_train, y_train, verbose=1)\n",
    "score_test = model.evaluate(X_test, y_test, verbose=1)\n",
    "\n",
    "# results\n",
    "print (\"Train Accuracy:\", score_train[1])\n",
    "print(\"Test Accuracy:\", score_test[1])\n",
    "plot_results(history)"
   ]
  },
  {
   "cell_type": "markdown",
   "metadata": {},
   "source": [
    "### Prediction (sample)"
   ]
  },
  {
   "cell_type": "code",
   "execution_count": 36,
   "metadata": {
    "scrolled": true
   },
   "outputs": [
    {
     "name": "stdout",
     "output_type": "stream",
     "text": [
      "['pretty pretty actresses and actors pretty bad script pretty frequent let strip to our undies scenes pretty fair x pretty jarring location decisions the college dorm room looks like high end hotel room probably because it was shot at hotel pretty bland storyline pretty awful dialog pretty locations pretty annoying editing unless you like the music video flash cut style this one isn a guilty pleasure this is more an embarrassing one if you must watch this pick good dance techno album and turn the sound off on the movie you ll see the pretty people in their pretty black undies and probably follow the story just fine the cast may be able to act doubt that anyone could look skilled given the lines plot that they had to deal with ']\n",
      "[[  34  290  128 1512  643  236   84    6   10  314   27 1512  177 1983\n",
      "   706  177  385  709  177 1815  177  597  822  860   17   34    1  205\n",
      "   370 3128  580  404    8   25  210  127 2295 1587    8    5   48   30\n",
      "  2169   25   41   17  199  100    8 1167   45  868 3988    2  459    1\n",
      "   432  119   18    1   13   17  225   61    1  177   74    7   62  177\n",
      "   297    2  236  783    1   58   37  490    1  173  197   24  470    4\n",
      "   533  797    9  240   91  164  361    1  401  105    9   29   63    4\n",
      "   803   14]]\n",
      "0.007537335\n",
      "Negativo\n"
     ]
    }
   ],
   "source": [
    "instance = sample(X, 1)\n",
    "print (instance)\n",
    "instance = tokenizer.texts_to_sequences(instance)\n",
    "\n",
    "instance = pad_sequences(instance, padding='post', maxlen=maxlen)\n",
    "print (instance)\n",
    "\n",
    "score = model.predict(instance)[0][0]\n",
    "print (score)\n",
    "if (score >= 0.5):\n",
    "    print ('Positivo')\n",
    "else:\n",
    "    print ('Negativo')"
   ]
  },
  {
   "cell_type": "markdown",
   "metadata": {},
   "source": [
    "### Prediction (tests)"
   ]
  },
  {
   "cell_type": "code",
   "execution_count": 37,
   "metadata": {},
   "outputs": [
    {
     "data": {
      "text/html": [
       "<div>\n",
       "<style scoped>\n",
       "    .dataframe tbody tr th:only-of-type {\n",
       "        vertical-align: middle;\n",
       "    }\n",
       "\n",
       "    .dataframe tbody tr th {\n",
       "        vertical-align: top;\n",
       "    }\n",
       "\n",
       "    .dataframe thead th {\n",
       "        text-align: right;\n",
       "    }\n",
       "</style>\n",
       "<table border=\"1\" class=\"dataframe\">\n",
       "  <thead>\n",
       "    <tr style=\"text-align: right;\">\n",
       "      <th></th>\n",
       "      <th>text</th>\n",
       "      <th>score</th>\n",
       "      <th>rating</th>\n",
       "    </tr>\n",
       "  </thead>\n",
       "  <tbody>\n",
       "    <tr>\n",
       "      <th>0</th>\n",
       "      <td>The movie was amazing, I loved it, very good</td>\n",
       "      <td>0.979307</td>\n",
       "      <td>Positivo</td>\n",
       "    </tr>\n",
       "    <tr>\n",
       "      <th>1</th>\n",
       "      <td>I hate this movie, it is very bad and terrible</td>\n",
       "      <td>0.002117</td>\n",
       "      <td>Negativo</td>\n",
       "    </tr>\n",
       "  </tbody>\n",
       "</table>\n",
       "</div>"
      ],
      "text/plain": [
       "                                             text     score    rating\n",
       "0    The movie was amazing, I loved it, very good  0.979307  Positivo\n",
       "1  I hate this movie, it is very bad and terrible  0.002117  Negativo"
      ]
     },
     "metadata": {},
     "output_type": "display_data"
    }
   ],
   "source": [
    "def score_list(list_instances):\n",
    "    \n",
    "    list_scores = []\n",
    "    \n",
    "    for text in list_instances:\n",
    "        instance = tokenizer.texts_to_sequences([text])\n",
    "        instance = pad_sequences(instance, padding='post', maxlen=maxlen)\n",
    "\n",
    "        score = model.predict(instance)[0][0]\n",
    "        \n",
    "        if (score >= 0.5):\n",
    "            flag = 'Positivo'\n",
    "        else:\n",
    "            flag = 'Negativo'\n",
    "            \n",
    "        list_scores.append([text, score, flag])\n",
    "        \n",
    "    df = pd.DataFrame(list_scores, columns=['text', 'score', 'rating'])\n",
    "    display(df)\n",
    "        \n",
    "        \n",
    "list_instances = ['The movie was amazing, I loved it, very good',\n",
    "                  'I hate this movie, it is very bad and terrible']\n",
    "\n",
    "# score list\n",
    "score_list(list_instances)"
   ]
  }
 ],
 "metadata": {
  "kernelspec": {
   "display_name": "Python 3",
   "language": "python",
   "name": "python3"
  },
  "language_info": {
   "codemirror_mode": {
    "name": "ipython",
    "version": 3
   },
   "file_extension": ".py",
   "mimetype": "text/x-python",
   "name": "python",
   "nbconvert_exporter": "python",
   "pygments_lexer": "ipython3",
   "version": "3.8.3"
  }
 },
 "nbformat": 4,
 "nbformat_minor": 4
}
