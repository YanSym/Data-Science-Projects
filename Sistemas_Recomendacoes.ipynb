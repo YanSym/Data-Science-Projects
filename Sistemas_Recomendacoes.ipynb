{
 "cells": [
  {
   "cell_type": "markdown",
   "metadata": {},
   "source": [
    "# Sistemas de Recomendacoes"
   ]
  },
  {
   "cell_type": "markdown",
   "metadata": {},
   "source": [
    "Recomendação de filmes para diversos usuários, de acordo com a similaridade entre os seus gostos e os gostos de outros usuários."
   ]
  },
  {
   "cell_type": "markdown",
   "metadata": {},
   "source": [
    "## Imports"
   ]
  },
  {
   "cell_type": "code",
   "execution_count": 12,
   "metadata": {},
   "outputs": [],
   "source": [
    "import numpy as np\n",
    "import pandas as pd\n",
    "from avaliacoes import avaliacoes\n",
    "from math import sqrt"
   ]
  },
  {
   "cell_type": "markdown",
   "metadata": {},
   "source": [
    "## Base de dados simples"
   ]
  },
  {
   "cell_type": "code",
   "execution_count": 18,
   "metadata": {
    "scrolled": true
   },
   "outputs": [
    {
     "data": {
      "text/plain": [
       "{'Ana': {'Freddy x Jason': 2.5,\n",
       "  'O Ultimato Bourne': 3.5,\n",
       "  'Star Trek': 3.0,\n",
       "  'Exterminador do Futuro': 3.5,\n",
       "  'Norbit': 2.5,\n",
       "  'Star Wars': 3.0},\n",
       " 'Marcos': {'Freddy x Jason': 3.0,\n",
       "  'O Ultimato Bourne': 3.5,\n",
       "  'Star Trek': 1.5,\n",
       "  'Exterminador do Futuro': 5.0,\n",
       "  'Star Wars': 3.0,\n",
       "  'Norbit': 3.5},\n",
       " 'Pedro': {'Freddy x Jason': 2.5,\n",
       "  'O Ultimato Bourne': 3.0,\n",
       "  'Exterminador do Futuro': 3.5,\n",
       "  'Star Wars': 4.0},\n",
       " 'Claudia': {'O Ultimato Bourne': 3.5,\n",
       "  'Star Trek': 3.0,\n",
       "  'Star Wars': 4.5,\n",
       "  'Exterminador do Futuro': 4.0,\n",
       "  'Norbit': 2.5},\n",
       " 'Adriano': {'Freddy x Jason': 3.0,\n",
       "  'O Ultimato Bourne': 4.0,\n",
       "  'Star Trek': 2.0,\n",
       "  'Exterminador do Futuro': 3.0,\n",
       "  'Star Wars': 3.0,\n",
       "  'Norbit': 2.0},\n",
       " 'Janaina': {'Freddy x Jason': 3.0,\n",
       "  'O Ultimato Bourne': 4.0,\n",
       "  'Star Wars': 3.0,\n",
       "  'Exterminador do Futuro': 5.0,\n",
       "  'Norbit': 3.5},\n",
       " 'Leonardo': {'O Ultimato Bourne': 4.5,\n",
       "  'Norbit': 1.0,\n",
       "  'Exterminador do Futuro': 4.0}}"
      ]
     },
     "execution_count": 18,
     "metadata": {},
     "output_type": "execute_result"
    }
   ],
   "source": [
    "avaliacoes"
   ]
  },
  {
   "cell_type": "markdown",
   "metadata": {},
   "source": [
    "## Metodos"
   ]
  },
  {
   "cell_type": "code",
   "execution_count": 55,
   "metadata": {},
   "outputs": [],
   "source": [
    "def euclidiana(base, usuario1, usuario2):\n",
    "    \n",
    "    si = {}\n",
    "    for item in base[usuario1]:\n",
    "        if item in base[usuario2]:\n",
    "            si[item] = 1\n",
    "\n",
    "    if len(si) == 0:\n",
    "        return 0\n",
    "\n",
    "    soma = sum([pow(base[usuario1][item] - base[usuario2][item], 2)\n",
    "                for item in base[usuario1] if item in base[usuario2]])\n",
    "    \n",
    "    return 1/(1 + sqrt(soma))\n",
    "\n",
    "def getSimilares(base, usuario):\n",
    "    \n",
    "    similaridade = [(euclidiana(base, usuario, outro), outro)\n",
    "                    for outro in base if outro != usuario]\n",
    "    similaridade.sort()\n",
    "    similaridade.reverse()\n",
    "    \n",
    "    return similaridade[0:30]\n",
    "    \n",
    "def getRecomendacoesUsuario(base, usuario):\n",
    "    \n",
    "    totais={}\n",
    "    somaSimilaridade={}\n",
    "    for outro in base:\n",
    "        if outro == usuario: continue\n",
    "        similaridade = euclidiana(base, usuario, outro)\n",
    "\n",
    "        if similaridade <= 0: continue\n",
    "\n",
    "        for item in base[outro]:\n",
    "            if item not in base[usuario]:\n",
    "                totais.setdefault(item, 0)\n",
    "                totais[item] += base[outro][item] * similaridade\n",
    "                somaSimilaridade.setdefault(item, 0)\n",
    "                somaSimilaridade[item] += similaridade\n",
    "                \n",
    "    rankings=[(round(total / somaSimilaridade[item], 2), item) for item, total in totais.items()]\n",
    "    rankings.sort()\n",
    "    rankings.reverse()\n",
    "    \n",
    "    return rankings[0:30]\n",
    "                \n",
    "def carregaMovieLens(path='./ml-100k'):\n",
    "    \n",
    "    filmes = {}\n",
    "    for linha in open(path + '/u.item', encoding = \"ISO-8859-1\"):\n",
    "        (id, titulo) = linha.split('|')[0:2]\n",
    "        filmes[id] = titulo\n",
    "\n",
    "    base = {}\n",
    "    \n",
    "    for linha in open(path + '/u.data', encoding = \"ISO-8859-1\"):\n",
    "        (usuario, idfilme, nota, tempo) = linha.split('\\t')\n",
    "        base.setdefault(usuario, {})\n",
    "        base[usuario][filmes[idfilme]] = float(nota)\n",
    "        \n",
    "    return base            \n",
    "\n",
    "def calculaItensSimilares(base):\n",
    "    \n",
    "    result = {}\n",
    "    for item in base:\n",
    "        notas = getSimilares(base, item)\n",
    "        result[item] = notas\n",
    "        \n",
    "    return result\n",
    "\n",
    "def getRecomendacoesItens(baseUsuario, similaridadeItens, usuario):\n",
    "    \n",
    "    notasUsuario = baseUsuario[usuario]\n",
    "    notas={}\n",
    "    totalSimilaridade={}\n",
    "    for (item, nota) in notasUsuario.items():\n",
    "        for (similaridade, item2) in similaridadeItens[item]:\n",
    "            if item2 in notasUsuario:\n",
    "                continue\n",
    "            \n",
    "            notas.setdefault(item2, 0)\n",
    "            notas[item2] += similaridade * nota\n",
    "            totalSimilaridade.setdefault(item2,0)\n",
    "            totalSimilaridade[item2] += similaridade\n",
    "            \n",
    "    rankings=[(round(score/totalSimilaridade[item], 2), item) for item, score in notas.items()]\n",
    "    rankings.sort()\n",
    "    rankings.reverse()\n",
    "    \n",
    "    return rankings"
   ]
  },
  {
   "cell_type": "markdown",
   "metadata": {},
   "source": [
    "## Main"
   ]
  },
  {
   "cell_type": "code",
   "execution_count": 56,
   "metadata": {},
   "outputs": [
    {
     "data": {
      "text/plain": [
       "[(2.2, 'Star Trek')]"
      ]
     },
     "execution_count": 56,
     "metadata": {},
     "output_type": "execute_result"
    }
   ],
   "source": [
    "getRecomendacoesUsuario(avaliacoes, 'Janaina')"
   ]
  },
  {
   "cell_type": "code",
   "execution_count": 57,
   "metadata": {},
   "outputs": [
    {
     "data": {
      "text/plain": [
       "[(2.48, 'Star Trek'), (2.45, 'Norbit')]"
      ]
     },
     "execution_count": 57,
     "metadata": {},
     "output_type": "execute_result"
    }
   ],
   "source": [
    "getRecomendacoesUsuario(avaliacoes, 'Pedro')"
   ]
  },
  {
   "cell_type": "markdown",
   "metadata": {},
   "source": [
    "## Main usando a base do movielens"
   ]
  },
  {
   "cell_type": "code",
   "execution_count": 61,
   "metadata": {},
   "outputs": [],
   "source": [
    "# carrega a base de dados\n",
    "base = carregaMovieLens()"
   ]
  },
  {
   "cell_type": "code",
   "execution_count": 62,
   "metadata": {},
   "outputs": [
    {
     "data": {
      "text/plain": [
       "[(5.0, 'They Made Me a Criminal (1939)'),\n",
       " (5.0, 'Star Kid (1997)'),\n",
       " (5.0, \"Someone Else's America (1995)\"),\n",
       " (5.0, 'Santa with Muscles (1996)'),\n",
       " (5.0, 'Saint of Fort Washington, The (1993)'),\n",
       " (5.0, 'Prefontaine (1997)'),\n",
       " (5.0, 'Marlene Dietrich: Shadow and Light (1996) '),\n",
       " (5.0, 'Great Day in Harlem, A (1994)'),\n",
       " (5.0, 'Entertaining Angels: The Dorothy Day Story (1996)'),\n",
       " (5.0, 'Aiqing wansui (1994)'),\n",
       " (4.59, \"Some Mother's Son (1996)\"),\n",
       " (4.58, 'Faust (1994)'),\n",
       " (4.57, 'Pather Panchali (1955)'),\n",
       " (4.55, 'Anna (1996)'),\n",
       " (4.54, 'Close Shave, A (1995)'),\n",
       " (4.5, 'Kaspar Hauser (1993)'),\n",
       " (4.48, 'Wrong Trousers, The (1993)'),\n",
       " (4.48, 'Shawshank Redemption, The (1994)'),\n",
       " (4.48, \"Schindler's List (1993)\"),\n",
       " (4.48, 'Letter From Death Row, A (1998)'),\n",
       " (4.46, 'Casablanca (1942)'),\n",
       " (4.45, 'Maya Lin: A Strong Clear Vision (1994)'),\n",
       " (4.45, 'Everest (1998)'),\n",
       " (4.44, 'Wallace & Gromit: The Best of Aardman Animation (1996)'),\n",
       " (4.42, 'Perfect Candidate, A (1996)'),\n",
       " (4.39, 'Rear Window (1954)'),\n",
       " (4.36, 'Usual Suspects, The (1995)'),\n",
       " (4.36, 'Star Wars (1977)'),\n",
       " (4.36, 'Some Folks Call It a Sling Blade (1993)'),\n",
       " (4.36, 'Paths of Glory (1957)')]"
      ]
     },
     "execution_count": 62,
     "metadata": {},
     "output_type": "execute_result"
    }
   ],
   "source": [
    "getRecomendacoesUsuario(base, '100')"
   ]
  },
  {
   "cell_type": "code",
   "execution_count": 63,
   "metadata": {},
   "outputs": [
    {
     "data": {
      "text/plain": [
       "[(5.0, 'They Made Me a Criminal (1939)'),\n",
       " (5.0, 'Star Kid (1997)'),\n",
       " (5.0, \"Someone Else's America (1995)\"),\n",
       " (5.0, 'Santa with Muscles (1996)'),\n",
       " (5.0, 'Saint of Fort Washington, The (1993)'),\n",
       " (5.0, 'Prefontaine (1997)'),\n",
       " (5.0, 'Marlene Dietrich: Shadow and Light (1996) '),\n",
       " (5.0, 'Great Day in Harlem, A (1994)'),\n",
       " (5.0, 'Entertaining Angels: The Dorothy Day Story (1996)'),\n",
       " (5.0, 'Aiqing wansui (1994)'),\n",
       " (4.75, 'Pather Panchali (1955)'),\n",
       " (4.64, 'Maya Lin: A Strong Clear Vision (1994)'),\n",
       " (4.63, \"Some Mother's Son (1996)\"),\n",
       " (4.63, 'Anna (1996)'),\n",
       " (4.57, 'Letter From Death Row, A (1998)'),\n",
       " (4.52, 'Lamerica (1994)'),\n",
       " (4.51, 'Close Shave, A (1995)'),\n",
       " (4.48, 'Shawshank Redemption, The (1994)'),\n",
       " (4.46, 'Third Man, The (1949)'),\n",
       " (4.43, 'Wallace & Gromit: The Best of Aardman Animation (1996)'),\n",
       " (4.42, 'Usual Suspects, The (1995)'),\n",
       " (4.41, 'Rear Window (1954)'),\n",
       " (4.41, 'Faust (1994)'),\n",
       " (4.41, 'Everest (1998)'),\n",
       " (4.4, 'World of Apu, The (Apur Sansar) (1959)'),\n",
       " (4.39, 'Bitter Sugar (Azucar Amargo) (1996)'),\n",
       " (4.39, '12 Angry Men (1957)'),\n",
       " (4.37, 'Stonewall (1995)'),\n",
       " (4.37, 'Shall We Dance? (1996)'),\n",
       " (4.36, 'To Kill a Mockingbird (1962)')]"
      ]
     },
     "execution_count": 63,
     "metadata": {},
     "output_type": "execute_result"
    }
   ],
   "source": [
    "getRecomendacoesUsuario(base, '200')"
   ]
  }
 ],
 "metadata": {
  "kernelspec": {
   "display_name": "Python 3",
   "language": "python",
   "name": "python3"
  },
  "language_info": {
   "codemirror_mode": {
    "name": "ipython",
    "version": 3
   },
   "file_extension": ".py",
   "mimetype": "text/x-python",
   "name": "python",
   "nbconvert_exporter": "python",
   "pygments_lexer": "ipython3",
   "version": "3.6.5"
  }
 },
 "nbformat": 4,
 "nbformat_minor": 2
}
